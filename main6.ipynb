{
 "metadata": {
  "language_info": {
   "codemirror_mode": {
    "name": "ipython",
    "version": 3
   },
   "file_extension": ".py",
   "mimetype": "text/x-python",
   "name": "python",
   "nbconvert_exporter": "python",
   "pygments_lexer": "ipython3",
   "version": "3.8.8"
  },
  "orig_nbformat": 2,
  "kernelspec": {
   "name": "python388jvsc74a57bd00c084c3e9801c312f3572363c5acf5f3e6c352bfe174afc75721a955fdba99f4",
   "display_name": "Python 3.8.8 64-bit ('birdcall': conda)"
  }
 },
 "nbformat": 4,
 "nbformat_minor": 2,
 "cells": [
  {
   "cell_type": "code",
   "execution_count": 4,
   "metadata": {},
   "outputs": [],
   "source": [
    "from math import ceil\n",
    "from sklearn.utils import shuffle\n",
    "import pandas as pd\n",
    "import numpy as np \n",
    "from sklearn.feature_selection import SelectKBest, chi2\n",
    "from sklearn.preprocessing import StandardScaler\n",
    "from sklearn.decomposition import PCA\n",
    "import matplotlib.pyplot as plt\n",
    "from sklearn import model_selection \n",
    "import seaborn as sns \n",
    "from sklearn.model_selection import StratifiedKFold \n",
    "from sklearn import metrics\n",
    "from numpy import mean\n",
    "from sklearn.ensemble import RandomForestClassifier,AdaBoostClassifier,GradientBoostingClassifier\n",
    "from sklearn.model_selection import train_test_split\n",
    "from sklearn.datasets import make_classification\n",
    "from sklearn.model_selection import cross_val_score\n",
    "# from sklearn.model_selection import \n",
    "import torch.nn.functional as nnf\n",
    "from sklearn.tree import DecisionTreeClassifier\n",
    "from fastai.tabular.all import *\n",
    "import os"
   ]
  },
  {
   "cell_type": "code",
   "execution_count": 5,
   "metadata": {},
   "outputs": [],
   "source": [
    "\n",
    "def getDataframe(p):\n",
    "    print(f\"file name : {os.path.split(p)[1]}\")\n",
    "    if os.path.split(p)[1] == 'JM1.csv':\n",
    "        df = pd.read_csv(p)\n",
    "        df['label'] = df['label'].map({\"b'N'\" :False,\"b'Y'\" :True})\n",
    "        return df\n",
    "    else:\n",
    "        df = pd.read_csv(p)\n",
    "        df['Defective'] = df['Defective'].map({\"b'N'\" :False,\"b'Y'\" :True})\n",
    "        return df\n",
    "\n",
    "\n",
    "# preprecessing \n",
    "\n",
    "def normalize(df):\n",
    "    result = df.copy()\n",
    "    for col in df.iloc[:,:-1].columns:\n",
    "        max_value = df[col].max()\n",
    "        min_value = df[col].min()\n",
    "        result[col] = (df[col] - min_value) / (max_value - min_value)\n",
    "    # print(df.head())\n",
    "    return result\n",
    "\n",
    "def preprocessing(df):\n",
    "    # select k best columns\n",
    "    best_features = SelectKBest(score_func=chi2,k=10)\n",
    "    fit = best_features.fit(df.iloc[:,:-1],df.iloc[:,-1])\n",
    "\n",
    "    dfscores = pd.DataFrame(fit.scores_)\n",
    "    df_cols = pd.DataFrame(df.iloc[:,:-1].columns)\n",
    "\n",
    "    feature_scores = pd.concat([df_cols,dfscores],axis=1)\n",
    "    feature_scores.columns = ['parameters','score']\n",
    "    selected_features = feature_scores.nlargest(10,'score').parameters.values\n",
    "    df = df.drop(selected_features, axis=1)\n",
    "    # normalize the data\n",
    "    df = normalize(df)\n",
    "    return df\n",
    "\n",
    "\n",
    "\n",
    "\n",
    "# making bags\n",
    "def sampling(df):\n",
    "    # create 2 sets of majority and minority samples\n",
    "    a = df[df.iloc[:,-1] == False]\n",
    "    b = df[df.iloc[:,-1] == True]\n",
    "    majority = None\n",
    "    minority = None\n",
    "    if a.shape[0] > b.shape[0]:\n",
    "        # print(\"here\")\n",
    "        majority = a\n",
    "        minority = b\n",
    "    else:\n",
    "        # print(\"there\")\n",
    "        minority = b\n",
    "        majority = a\n",
    "    # print(majority.head())\n",
    "    # print(minority.head())\n",
    "\n",
    "    # no of bags \n",
    "    bags = ceil(majority.shape[0]/minority.shape[0]) + 2\n",
    "    print(f\"majority cnt :{majority.shape[0]} , minority cnt :{minority.shape[0]} and number of bags: {bags}\")\n",
    "    subsets = []\n",
    "    for i in range(bags):\n",
    "        maj_sample = majority.sample(n=minority.shape[0])\n",
    "        balanced_subset = pd.concat([minority,maj_sample])\n",
    "        # print(maj_sample.shape)\n",
    "        # print(balanced_subset.shape)\n",
    "        balanced_subset = shuffle(balanced_subset)\n",
    "        # print(balanced_subset.head())\n",
    "        print(balanced_subset.shape)\n",
    "        subsets.append(balanced_subset)\n",
    "\n",
    "    return subsets\n",
    "\n",
    "    \n",
    "# train  \n",
    "def trainModels(balanced_subsets):\n",
    "    trained_models = []\n",
    "    for subset in balanced_subsets:\n",
    "        df = subset\n",
    "        # cont_names = df.columns\n",
    "        cat_names = []\n",
    "        procs=[]\n",
    "        df1 = subset\n",
    "        cont_names = ['LOC_BLANK', 'LOC_CODE_AND_COMMENT', 'LOC_COMMENTS',\n",
    "            'CYCLOMATIC_COMPLEXITY', 'DESIGN_COMPLEXITY',\n",
    "            'ESSENTIAL_COMPLEXITY', 'HALSTEAD_CONTENT', 'HALSTEAD_DIFFICULTY',\n",
    "            'HALSTEAD_ERROR_EST', 'HALSTEAD_LEVEL', 'NUM_UNIQUE_OPERATORS',\n",
    "            'Defective']\n",
    "        cat_names = []\n",
    "        procs=[]\n",
    "        # config = tabular_config(embed_p=0.6, use_bn=False); config\n",
    "        dls = TabularDataLoaders.from_df(df1,path='.',procs=None,cont_names=cont_names[:-1],cat_names=None,y_names=cont_names[-1])\n",
    "        learn = tabular_learner(dls,[400,200,100,50],metrics=[accuracy,RocAucBinary()])\n",
    "        learn.fit_one_cycle(10,1e-3)\n",
    "        # learn.show_training_loop()\n",
    "        trained_models.append(learn)\n",
    "    return trained_models\n",
    "\n",
    "def majorityVoteWieghtage(trained_models, testSet):\n",
    "    # finalpreds = []\n",
    "    fp = []\n",
    "    probs = []\n",
    "    for model in trained_models:\n",
    "        dl_test = model.dls.test_dl(testSet, with_labels=True)\n",
    "        preds = model.get_preds(dl=dl_test)\n",
    "        # print(preds)\n",
    "        fp.append(preds[1].T.squeeze())\n",
    "        probs.append(preds[0].T.squeeze())\n",
    "    # print(probs[0].shape)\n",
    "    t1 = torch.stack(fp)\n",
    "    t1 = t1.T\n",
    "    p1 = torch.stack(probs)\n",
    "    p1 = p1.T\n",
    "    # print(t1.shape)\n",
    "    # print(t1)\n",
    "    # print(p1.shape)\n",
    "    # print(p1)\n",
    "    p1 = torch.mean(p1,dim=2)\n",
    "    p1 = p1.squeeze()\n",
    "    prob = nnf.softmax(p1, dim=1)\n",
    "    top_p, top_class = prob.topk(1, dim = 1)\n",
    "\n",
    "    return top_class.squeeze(),p1\n",
    "        \n",
    "        "
   ]
  },
  {
   "cell_type": "code",
   "execution_count": 6,
   "metadata": {},
   "outputs": [
    {
     "output_type": "stream",
     "name": "stdout",
     "text": [
      "file name : PC1.csv\n     LOC_BLANK  BRANCH_COUNT  CALL_PAIRS  LOC_CODE_AND_COMMENT  LOC_COMMENTS  \\\n32         6.0          11.0         2.0                   0.0           1.0   \n627        3.0           3.0        12.0                   0.0           2.0   \n20         7.0           9.0         2.0                   0.0           9.0   \n362        3.0          13.0         4.0                   5.0           0.0   \n97         5.0          67.0        16.0                   1.0           1.0   \n\n     CONDITION_COUNT  CYCLOMATIC_COMPLEXITY  CYCLOMATIC_DENSITY  \\\n32              20.0                    6.0                0.15   \n627              4.0                    2.0                0.05   \n20              16.0                    5.0                0.17   \n362             24.0                    7.0                0.26   \n97             130.0                   34.0                0.37   \n\n     DECISION_COUNT  DECISION_DENSITY  ...  NODE_COUNT  \\\n32             10.0              2.00  ...        22.0   \n627             2.0              2.00  ...        53.0   \n20              8.0              2.00  ...        16.0   \n362            12.0              2.00  ...        22.0   \n97             64.0              2.02  ...       121.0   \n\n     NORMALIZED_CYLOMATIC_COMPLEXITY  NUM_OPERANDS  NUM_OPERATORS  \\\n32                              0.13          60.0           75.0   \n627                             0.04         220.0          251.0   \n20                              0.11          71.0           93.0   \n362                             0.23          34.0           61.0   \n97                              0.35         243.0          305.0   \n\n     NUM_UNIQUE_OPERANDS  NUM_UNIQUE_OPERATORS  NUMBER_OF_LINES  \\\n32                  40.0                  16.0             47.0   \n627                 54.0                  14.0             48.0   \n20                  31.0                  18.0             46.0   \n362                 19.0                  15.0             31.0   \n97                 108.0                  19.0             98.0   \n\n     PERCENT_COMMENTS  LOC_TOTAL  Defective  \n32               2.50       39.0      False  \n627              4.55       42.0      False  \n20              23.68       29.0       True  \n362             18.52       27.0      False  \n97               2.17       91.0      False  \n\n[5 rows x 38 columns]      LOC_BLANK  BRANCH_COUNT  CALL_PAIRS  LOC_CODE_AND_COMMENT  LOC_COMMENTS  \\\n417        5.0           5.0         2.0                   0.0           8.0   \n16        39.0          40.0         7.0                   4.0          32.0   \n216        7.0          13.0         3.0                   0.0           6.0   \n118       48.0           5.0         7.0                   2.0          26.0   \n88         7.0          31.0         5.0                   7.0          12.0   \n\n     CONDITION_COUNT  CYCLOMATIC_COMPLEXITY  CYCLOMATIC_DENSITY  \\\n417              6.0                    3.0                0.20   \n16              40.0                   25.0                0.23   \n216             24.0                    7.0                0.33   \n118              6.0                    3.0                0.06   \n88              56.0                   16.0                0.46   \n\n     DECISION_COUNT  DECISION_DENSITY  ...  NODE_COUNT  \\\n417             2.0              3.00  ...         9.0   \n16             16.0              2.50  ...        58.0   \n216            12.0              2.00  ...        27.0   \n118             2.0              3.00  ...        13.0   \n88             26.0              2.15  ...        55.0   \n\n     NORMALIZED_CYLOMATIC_COMPLEXITY  NUM_OPERANDS  NUM_OPERATORS  \\\n417                             0.10          23.0           36.0   \n16                              0.14         260.0          359.0   \n216                             0.27          42.0           49.0   \n118                             0.02         138.0          158.0   \n88                              0.29          95.0          122.0   \n\n     NUM_UNIQUE_OPERANDS  NUM_UNIQUE_OPERATORS  NUMBER_OF_LINES  \\\n417                 18.0                  18.0             29.0   \n16                  86.0                  35.0            179.0   \n216                 16.0                  10.0             26.0   \n118                 70.0                  17.0            128.0   \n88                  36.0                  29.0             55.0   \n\n     PERCENT_COMMENTS  LOC_TOTAL  Defective  \n417             34.78       15.0      False  \n16              25.90      107.0       True  \n216             22.22       21.0      False  \n118             35.44       53.0      False  \n88              40.43       35.0      False  \n\n[5 rows x 38 columns]\nmajority cnt :539 , minority cnt :49 and number of bags: 13\n(98, 38)\n(98, 38)\n(98, 38)\n(98, 38)\n(98, 38)\n(98, 38)\n(98, 38)\n(98, 38)\n(98, 38)\n(98, 38)\n(98, 38)\n(98, 38)\n(98, 38)\n"
     ]
    },
    {
     "output_type": "display_data",
     "data": {
      "text/plain": "<IPython.core.display.HTML object>",
      "text/html": "\n    <div>\n        <style>\n            /* Turns off some styling */\n            progress {\n                /* gets rid of default border in Firefox and Opera. */\n                border: none;\n                /* Needs to be in here for Safari polyfill so background images work as expected. */\n                background-size: auto;\n            }\n            .progress-bar-interrupted, .progress-bar-interrupted::-webkit-progress-bar {\n                background: #F44336;\n            }\n        </style>\n      <progress value='0' class='' max='10' style='width:300px; height:20px; vertical-align: middle;'></progress>\n      \n    </div>\n    \n"
     },
     "metadata": {}
    },
    {
     "output_type": "display_data",
     "data": {
      "text/plain": "<IPython.core.display.HTML object>",
      "text/html": "\n    <div>\n        <style>\n            /* Turns off some styling */\n            progress {\n                /* gets rid of default border in Firefox and Opera. */\n                border: none;\n                /* Needs to be in here for Safari polyfill so background images work as expected. */\n                background-size: auto;\n            }\n            .progress-bar-interrupted, .progress-bar-interrupted::-webkit-progress-bar {\n                background: #F44336;\n            }\n        </style>\n      <progress value='0' class='' max='10' style='width:300px; height:20px; vertical-align: middle;'></progress>\n      \n    </div>\n    \n"
     },
     "metadata": {}
    },
    {
     "output_type": "display_data",
     "data": {
      "text/plain": "<IPython.core.display.HTML object>",
      "text/html": "\n    <div>\n        <style>\n            /* Turns off some styling */\n            progress {\n                /* gets rid of default border in Firefox and Opera. */\n                border: none;\n                /* Needs to be in here for Safari polyfill so background images work as expected. */\n                background-size: auto;\n            }\n            .progress-bar-interrupted, .progress-bar-interrupted::-webkit-progress-bar {\n                background: #F44336;\n            }\n        </style>\n      <progress value='0' class='' max='10' style='width:300px; height:20px; vertical-align: middle;'></progress>\n      \n    </div>\n    \n"
     },
     "metadata": {}
    },
    {
     "output_type": "display_data",
     "data": {
      "text/plain": "<IPython.core.display.HTML object>",
      "text/html": "\n    <div>\n        <style>\n            /* Turns off some styling */\n            progress {\n                /* gets rid of default border in Firefox and Opera. */\n                border: none;\n                /* Needs to be in here for Safari polyfill so background images work as expected. */\n                background-size: auto;\n            }\n            .progress-bar-interrupted, .progress-bar-interrupted::-webkit-progress-bar {\n                background: #F44336;\n            }\n        </style>\n      <progress value='0' class='' max='10' style='width:300px; height:20px; vertical-align: middle;'></progress>\n      \n    </div>\n    \n"
     },
     "metadata": {}
    },
    {
     "output_type": "display_data",
     "data": {
      "text/plain": "<IPython.core.display.HTML object>",
      "text/html": "\n    <div>\n        <style>\n            /* Turns off some styling */\n            progress {\n                /* gets rid of default border in Firefox and Opera. */\n                border: none;\n                /* Needs to be in here for Safari polyfill so background images work as expected. */\n                background-size: auto;\n            }\n            .progress-bar-interrupted, .progress-bar-interrupted::-webkit-progress-bar {\n                background: #F44336;\n            }\n        </style>\n      <progress value='0' class='' max='10' style='width:300px; height:20px; vertical-align: middle;'></progress>\n      \n    </div>\n    \n"
     },
     "metadata": {}
    },
    {
     "output_type": "display_data",
     "data": {
      "text/plain": "<IPython.core.display.HTML object>",
      "text/html": "\n    <div>\n        <style>\n            /* Turns off some styling */\n            progress {\n                /* gets rid of default border in Firefox and Opera. */\n                border: none;\n                /* Needs to be in here for Safari polyfill so background images work as expected. */\n                background-size: auto;\n            }\n            .progress-bar-interrupted, .progress-bar-interrupted::-webkit-progress-bar {\n                background: #F44336;\n            }\n        </style>\n      <progress value='0' class='' max='10' style='width:300px; height:20px; vertical-align: middle;'></progress>\n      \n    </div>\n    \n"
     },
     "metadata": {}
    },
    {
     "output_type": "display_data",
     "data": {
      "text/plain": "<IPython.core.display.HTML object>",
      "text/html": "\n    <div>\n        <style>\n            /* Turns off some styling */\n            progress {\n                /* gets rid of default border in Firefox and Opera. */\n                border: none;\n                /* Needs to be in here for Safari polyfill so background images work as expected. */\n                background-size: auto;\n            }\n            .progress-bar-interrupted, .progress-bar-interrupted::-webkit-progress-bar {\n                background: #F44336;\n            }\n        </style>\n      <progress value='0' class='' max='10' style='width:300px; height:20px; vertical-align: middle;'></progress>\n      \n    </div>\n    \n"
     },
     "metadata": {}
    },
    {
     "output_type": "display_data",
     "data": {
      "text/plain": "<IPython.core.display.HTML object>",
      "text/html": "\n    <div>\n        <style>\n            /* Turns off some styling */\n            progress {\n                /* gets rid of default border in Firefox and Opera. */\n                border: none;\n                /* Needs to be in here for Safari polyfill so background images work as expected. */\n                background-size: auto;\n            }\n            .progress-bar-interrupted, .progress-bar-interrupted::-webkit-progress-bar {\n                background: #F44336;\n            }\n        </style>\n      <progress value='0' class='' max='10' style='width:300px; height:20px; vertical-align: middle;'></progress>\n      \n    </div>\n    \n"
     },
     "metadata": {}
    },
    {
     "output_type": "display_data",
     "data": {
      "text/plain": "<IPython.core.display.HTML object>",
      "text/html": "\n    <div>\n        <style>\n            /* Turns off some styling */\n            progress {\n                /* gets rid of default border in Firefox and Opera. */\n                border: none;\n                /* Needs to be in here for Safari polyfill so background images work as expected. */\n                background-size: auto;\n            }\n            .progress-bar-interrupted, .progress-bar-interrupted::-webkit-progress-bar {\n                background: #F44336;\n            }\n        </style>\n      <progress value='0' class='' max='10' style='width:300px; height:20px; vertical-align: middle;'></progress>\n      \n    </div>\n    \n"
     },
     "metadata": {}
    },
    {
     "output_type": "display_data",
     "data": {
      "text/plain": "<IPython.core.display.HTML object>",
      "text/html": "\n    <div>\n        <style>\n            /* Turns off some styling */\n            progress {\n                /* gets rid of default border in Firefox and Opera. */\n                border: none;\n                /* Needs to be in here for Safari polyfill so background images work as expected. */\n                background-size: auto;\n            }\n            .progress-bar-interrupted, .progress-bar-interrupted::-webkit-progress-bar {\n                background: #F44336;\n            }\n        </style>\n      <progress value='0' class='' max='10' style='width:300px; height:20px; vertical-align: middle;'></progress>\n      \n    </div>\n    \n"
     },
     "metadata": {}
    },
    {
     "output_type": "display_data",
     "data": {
      "text/plain": "<IPython.core.display.HTML object>",
      "text/html": "\n    <div>\n        <style>\n            /* Turns off some styling */\n            progress {\n                /* gets rid of default border in Firefox and Opera. */\n                border: none;\n                /* Needs to be in here for Safari polyfill so background images work as expected. */\n                background-size: auto;\n            }\n            .progress-bar-interrupted, .progress-bar-interrupted::-webkit-progress-bar {\n                background: #F44336;\n            }\n        </style>\n      <progress value='0' class='' max='10' style='width:300px; height:20px; vertical-align: middle;'></progress>\n      \n    </div>\n    \n"
     },
     "metadata": {}
    },
    {
     "output_type": "display_data",
     "data": {
      "text/plain": "<IPython.core.display.HTML object>",
      "text/html": "\n    <div>\n        <style>\n            /* Turns off some styling */\n            progress {\n                /* gets rid of default border in Firefox and Opera. */\n                border: none;\n                /* Needs to be in here for Safari polyfill so background images work as expected. */\n                background-size: auto;\n            }\n            .progress-bar-interrupted, .progress-bar-interrupted::-webkit-progress-bar {\n                background: #F44336;\n            }\n        </style>\n      <progress value='0' class='' max='10' style='width:300px; height:20px; vertical-align: middle;'></progress>\n      \n    </div>\n    \n"
     },
     "metadata": {}
    },
    {
     "output_type": "display_data",
     "data": {
      "text/plain": "<IPython.core.display.HTML object>",
      "text/html": "\n    <div>\n        <style>\n            /* Turns off some styling */\n            progress {\n                /* gets rid of default border in Firefox and Opera. */\n                border: none;\n                /* Needs to be in here for Safari polyfill so background images work as expected. */\n                background-size: auto;\n            }\n            .progress-bar-interrupted, .progress-bar-interrupted::-webkit-progress-bar {\n                background: #F44336;\n            }\n        </style>\n      <progress value='0' class='' max='10' style='width:300px; height:20px; vertical-align: middle;'></progress>\n      \n    </div>\n    \n"
     },
     "metadata": {}
    },
    {
     "output_type": "display_data",
     "data": {
      "text/plain": "<IPython.core.display.HTML object>",
      "text/html": "\n    <div>\n        <style>\n            /* Turns off some styling */\n            progress {\n                /* gets rid of default border in Firefox and Opera. */\n                border: none;\n                /* Needs to be in here for Safari polyfill so background images work as expected. */\n                background-size: auto;\n            }\n            .progress-bar-interrupted, .progress-bar-interrupted::-webkit-progress-bar {\n                background: #F44336;\n            }\n        </style>\n      <progress value='0' class='' max='3' style='width:300px; height:20px; vertical-align: middle;'></progress>\n      \n    </div>\n    "
     },
     "metadata": {}
    },
    {
     "output_type": "display_data",
     "data": {
      "text/plain": "<IPython.core.display.HTML object>",
      "text/html": "\n    <div>\n        <style>\n            /* Turns off some styling */\n            progress {\n                /* gets rid of default border in Firefox and Opera. */\n                border: none;\n                /* Needs to be in here for Safari polyfill so background images work as expected. */\n                background-size: auto;\n            }\n            .progress-bar-interrupted, .progress-bar-interrupted::-webkit-progress-bar {\n                background: #F44336;\n            }\n        </style>\n      <progress value='0' class='' max='3' style='width:300px; height:20px; vertical-align: middle;'></progress>\n      \n    </div>\n    "
     },
     "metadata": {}
    },
    {
     "output_type": "display_data",
     "data": {
      "text/plain": "<IPython.core.display.HTML object>",
      "text/html": "\n    <div>\n        <style>\n            /* Turns off some styling */\n            progress {\n                /* gets rid of default border in Firefox and Opera. */\n                border: none;\n                /* Needs to be in here for Safari polyfill so background images work as expected. */\n                background-size: auto;\n            }\n            .progress-bar-interrupted, .progress-bar-interrupted::-webkit-progress-bar {\n                background: #F44336;\n            }\n        </style>\n      <progress value='0' class='' max='3' style='width:300px; height:20px; vertical-align: middle;'></progress>\n      \n    </div>\n    "
     },
     "metadata": {}
    },
    {
     "output_type": "display_data",
     "data": {
      "text/plain": "<IPython.core.display.HTML object>",
      "text/html": "\n    <div>\n        <style>\n            /* Turns off some styling */\n            progress {\n                /* gets rid of default border in Firefox and Opera. */\n                border: none;\n                /* Needs to be in here for Safari polyfill so background images work as expected. */\n                background-size: auto;\n            }\n            .progress-bar-interrupted, .progress-bar-interrupted::-webkit-progress-bar {\n                background: #F44336;\n            }\n        </style>\n      <progress value='0' class='' max='3' style='width:300px; height:20px; vertical-align: middle;'></progress>\n      \n    </div>\n    "
     },
     "metadata": {}
    },
    {
     "output_type": "display_data",
     "data": {
      "text/plain": "<IPython.core.display.HTML object>",
      "text/html": "\n    <div>\n        <style>\n            /* Turns off some styling */\n            progress {\n                /* gets rid of default border in Firefox and Opera. */\n                border: none;\n                /* Needs to be in here for Safari polyfill so background images work as expected. */\n                background-size: auto;\n            }\n            .progress-bar-interrupted, .progress-bar-interrupted::-webkit-progress-bar {\n                background: #F44336;\n            }\n        </style>\n      <progress value='0' class='' max='3' style='width:300px; height:20px; vertical-align: middle;'></progress>\n      \n    </div>\n    "
     },
     "metadata": {}
    },
    {
     "output_type": "display_data",
     "data": {
      "text/plain": "<IPython.core.display.HTML object>",
      "text/html": "\n    <div>\n        <style>\n            /* Turns off some styling */\n            progress {\n                /* gets rid of default border in Firefox and Opera. */\n                border: none;\n                /* Needs to be in here for Safari polyfill so background images work as expected. */\n                background-size: auto;\n            }\n            .progress-bar-interrupted, .progress-bar-interrupted::-webkit-progress-bar {\n                background: #F44336;\n            }\n        </style>\n      <progress value='0' class='' max='3' style='width:300px; height:20px; vertical-align: middle;'></progress>\n      \n    </div>\n    "
     },
     "metadata": {}
    },
    {
     "output_type": "display_data",
     "data": {
      "text/plain": "<IPython.core.display.HTML object>",
      "text/html": "\n    <div>\n        <style>\n            /* Turns off some styling */\n            progress {\n                /* gets rid of default border in Firefox and Opera. */\n                border: none;\n                /* Needs to be in here for Safari polyfill so background images work as expected. */\n                background-size: auto;\n            }\n            .progress-bar-interrupted, .progress-bar-interrupted::-webkit-progress-bar {\n                background: #F44336;\n            }\n        </style>\n      <progress value='0' class='' max='3' style='width:300px; height:20px; vertical-align: middle;'></progress>\n      \n    </div>\n    "
     },
     "metadata": {}
    },
    {
     "output_type": "display_data",
     "data": {
      "text/plain": "<IPython.core.display.HTML object>",
      "text/html": "\n    <div>\n        <style>\n            /* Turns off some styling */\n            progress {\n                /* gets rid of default border in Firefox and Opera. */\n                border: none;\n                /* Needs to be in here for Safari polyfill so background images work as expected. */\n                background-size: auto;\n            }\n            .progress-bar-interrupted, .progress-bar-interrupted::-webkit-progress-bar {\n                background: #F44336;\n            }\n        </style>\n      <progress value='0' class='' max='3' style='width:300px; height:20px; vertical-align: middle;'></progress>\n      \n    </div>\n    "
     },
     "metadata": {}
    },
    {
     "output_type": "display_data",
     "data": {
      "text/plain": "<IPython.core.display.HTML object>",
      "text/html": "\n    <div>\n        <style>\n            /* Turns off some styling */\n            progress {\n                /* gets rid of default border in Firefox and Opera. */\n                border: none;\n                /* Needs to be in here for Safari polyfill so background images work as expected. */\n                background-size: auto;\n            }\n            .progress-bar-interrupted, .progress-bar-interrupted::-webkit-progress-bar {\n                background: #F44336;\n            }\n        </style>\n      <progress value='0' class='' max='3' style='width:300px; height:20px; vertical-align: middle;'></progress>\n      \n    </div>\n    "
     },
     "metadata": {}
    },
    {
     "output_type": "display_data",
     "data": {
      "text/plain": "<IPython.core.display.HTML object>",
      "text/html": "\n    <div>\n        <style>\n            /* Turns off some styling */\n            progress {\n                /* gets rid of default border in Firefox and Opera. */\n                border: none;\n                /* Needs to be in here for Safari polyfill so background images work as expected. */\n                background-size: auto;\n            }\n            .progress-bar-interrupted, .progress-bar-interrupted::-webkit-progress-bar {\n                background: #F44336;\n            }\n        </style>\n      <progress value='0' class='' max='3' style='width:300px; height:20px; vertical-align: middle;'></progress>\n      \n    </div>\n    "
     },
     "metadata": {}
    },
    {
     "output_type": "display_data",
     "data": {
      "text/plain": "<IPython.core.display.HTML object>",
      "text/html": "\n    <div>\n        <style>\n            /* Turns off some styling */\n            progress {\n                /* gets rid of default border in Firefox and Opera. */\n                border: none;\n                /* Needs to be in here for Safari polyfill so background images work as expected. */\n                background-size: auto;\n            }\n            .progress-bar-interrupted, .progress-bar-interrupted::-webkit-progress-bar {\n                background: #F44336;\n            }\n        </style>\n      <progress value='0' class='' max='3' style='width:300px; height:20px; vertical-align: middle;'></progress>\n      \n    </div>\n    "
     },
     "metadata": {}
    },
    {
     "output_type": "display_data",
     "data": {
      "text/plain": "<IPython.core.display.HTML object>",
      "text/html": "\n    <div>\n        <style>\n            /* Turns off some styling */\n            progress {\n                /* gets rid of default border in Firefox and Opera. */\n                border: none;\n                /* Needs to be in here for Safari polyfill so background images work as expected. */\n                background-size: auto;\n            }\n            .progress-bar-interrupted, .progress-bar-interrupted::-webkit-progress-bar {\n                background: #F44336;\n            }\n        </style>\n      <progress value='0' class='' max='3' style='width:300px; height:20px; vertical-align: middle;'></progress>\n      \n    </div>\n    "
     },
     "metadata": {}
    },
    {
     "output_type": "display_data",
     "data": {
      "text/plain": "<IPython.core.display.HTML object>",
      "text/html": ""
     },
     "metadata": {}
    }
   ],
   "source": [
    "df = getDataframe(\"Dataset/PC1.csv\")\n",
    "\n",
    "\n",
    "# splitting data into train and test sets\n",
    "train,testSet = train_test_split(df,test_size=0.2)\n",
    "# print(df.head())\n",
    "print(train.head(),testSet.head())\n",
    "\n",
    "# create balanced subset datasets having all minority sets and a random sample from majority set.\n",
    "balanced_subsets = sampling(train)\n",
    "\n",
    "\n",
    "# get all trained models from all the above balanced subsets\n",
    "trained_models = trainModels(balanced_subsets)\n",
    "\n",
    "minorityClassifierPreds,minorityClassifierProbs = majorityVoteWieghtage(trained_models,testSet)\n",
    "\n",
    "\n",
    "\n",
    "\n"
   ]
  },
  {
   "cell_type": "code",
   "execution_count": 7,
   "metadata": {},
   "outputs": [],
   "source": [
    "def majTrain(train):\n",
    "    cont_names = ['LOC_BLANK', 'LOC_CODE_AND_COMMENT', 'LOC_COMMENTS',\n",
    "            'CYCLOMATIC_COMPLEXITY', 'DESIGN_COMPLEXITY',\n",
    "            'ESSENTIAL_COMPLEXITY', 'HALSTEAD_CONTENT', 'HALSTEAD_DIFFICULTY',\n",
    "            'HALSTEAD_ERROR_EST', 'HALSTEAD_LEVEL', 'NUM_UNIQUE_OPERATORS',\n",
    "            'Defective']\n",
    "    cat_names = []\n",
    "    procs=[]\n",
    "    dls = TabularDataLoaders.from_df(train,path='.',procs=None,cont_names=cont_names[:-1],cat_names=None,y_names=cont_names[-1])\n",
    "    learn = tabular_learner(dls,[400,200,100,50],metrics=[accuracy,RocAucBinary()])\n",
    "    learn.fit_one_cycle(10,1e-3)\n",
    "    return learn\n",
    "\n",
    "def majPrediction(model,testSet):\n",
    "    dl_test = model.dls.test_dl(testSet, with_labels=true)\n",
    "    preds = model.get_preds(dl=dl_test)\n",
    "    return preds\n",
    "    "
   ]
  },
  {
   "cell_type": "code",
   "execution_count": 8,
   "metadata": {},
   "outputs": [
    {
     "output_type": "display_data",
     "data": {
      "text/plain": "<IPython.core.display.HTML object>",
      "text/html": "<table border=\"1\" class=\"dataframe\">\n  <thead>\n    <tr style=\"text-align: left;\">\n      <th>epoch</th>\n      <th>train_loss</th>\n      <th>valid_loss</th>\n      <th>accuracy</th>\n      <th>roc_auc_score</th>\n      <th>time</th>\n    </tr>\n  </thead>\n  <tbody>\n    <tr>\n      <td>0</td>\n      <td>0.631217</td>\n      <td>0.675795</td>\n      <td>0.863248</td>\n      <td>0.534535</td>\n      <td>00:00</td>\n    </tr>\n    <tr>\n      <td>1</td>\n      <td>0.561693</td>\n      <td>0.626774</td>\n      <td>0.786325</td>\n      <td>0.809309</td>\n      <td>00:00</td>\n    </tr>\n    <tr>\n      <td>2</td>\n      <td>0.484428</td>\n      <td>0.489204</td>\n      <td>0.863248</td>\n      <td>0.798799</td>\n      <td>00:00</td>\n    </tr>\n    <tr>\n      <td>3</td>\n      <td>0.420005</td>\n      <td>0.346373</td>\n      <td>0.905983</td>\n      <td>0.776276</td>\n      <td>00:00</td>\n    </tr>\n    <tr>\n      <td>4</td>\n      <td>0.370005</td>\n      <td>0.271670</td>\n      <td>0.931624</td>\n      <td>0.783784</td>\n      <td>00:00</td>\n    </tr>\n    <tr>\n      <td>5</td>\n      <td>0.334307</td>\n      <td>0.285465</td>\n      <td>0.888889</td>\n      <td>0.803303</td>\n      <td>00:00</td>\n    </tr>\n    <tr>\n      <td>6</td>\n      <td>0.303802</td>\n      <td>0.231977</td>\n      <td>0.948718</td>\n      <td>0.836336</td>\n      <td>00:00</td>\n    </tr>\n    <tr>\n      <td>7</td>\n      <td>0.278096</td>\n      <td>0.222856</td>\n      <td>0.948718</td>\n      <td>0.834835</td>\n      <td>00:00</td>\n    </tr>\n    <tr>\n      <td>8</td>\n      <td>0.259749</td>\n      <td>0.228129</td>\n      <td>0.940171</td>\n      <td>0.837838</td>\n      <td>00:00</td>\n    </tr>\n    <tr>\n      <td>9</td>\n      <td>0.247578</td>\n      <td>0.229188</td>\n      <td>0.923077</td>\n      <td>0.837838</td>\n      <td>00:00</td>\n    </tr>\n  </tbody>\n</table>"
     },
     "metadata": {}
    }
   ],
   "source": [
    "# train majority for majority class\n",
    "\n",
    "# maj_trained_model = trainModels([train])\n",
    "majorityClassifier = majTrain(train)"
   ]
  },
  {
   "cell_type": "code",
   "execution_count": 9,
   "metadata": {},
   "outputs": [
    {
     "output_type": "display_data",
     "data": {
      "text/plain": "<IPython.core.display.HTML object>",
      "text/html": ""
     },
     "metadata": {}
    }
   ],
   "source": [
    "preds = majPrediction(majorityClassifier,testSet)"
   ]
  },
  {
   "cell_type": "code",
   "execution_count": 10,
   "metadata": {},
   "outputs": [],
   "source": [
    "def meta(mnPred,mnProbs,mjPreds,mjprobs,Wmn,Wmj):\n",
    "    final_preds = torch.zeros_like(mnPred)\n",
    "    for i in range(mnPred.shape[0]):\n",
    "        if mjPreds[i] == 1:\n",
    "            final_preds[i] = 1\n",
    "        elif mnPred[i] == 0:\n",
    "            final_preds[i] = 0\n",
    "        else:\n",
    "            z = (mnProbs[i]*Wmn + mjprobs[i]*Wmj)/2\n",
    "            # print(z)\n",
    "            if(z[0] > z[1]):\n",
    "                final_preds[i] = 0\n",
    "            else:\n",
    "                final_preds[i] = 1\n",
    "    return final_preds"
   ]
  },
  {
   "cell_type": "code",
   "execution_count": 11,
   "metadata": {},
   "outputs": [],
   "source": [
    "predictions = meta(minorityClassifierPreds,minorityClassifierProbs,preds[1],preds[0],1.5,1)"
   ]
  },
  {
   "cell_type": "code",
   "execution_count": 12,
   "metadata": {},
   "outputs": [],
   "source": [
    "from sklearn.metrics import roc_curve\n",
    "\n",
    "# roc curve for modelsa\n",
    "fpr1, tpr1, thresh1 = roc_curve(testSet.iloc[:,-1], preds[1], pos_label=1)\n",
    "fpr2, tpr2, thresh2 = roc_curve(testSet.iloc[:,-1], minorityClassifierPreds, pos_label=1)\n",
    "fpr3, tpr3, thresh3 = roc_curve(testSet.iloc[:,-1], predictions, pos_label=1)\n",
    "\n",
    "# roc curve for tpr = fpr \n",
    "random_probs = [0 for i in range(len(testSet.iloc[:,-1]))]\n",
    "p_fpr, p_tpr, _ = roc_curve(testSet.iloc[:,-1], random_probs, pos_label=1)"
   ]
  },
  {
   "cell_type": "code",
   "execution_count": 13,
   "metadata": {},
   "outputs": [
    {
     "output_type": "display_data",
     "data": {
      "text/plain": "<Figure size 576x396 with 1 Axes>",
      "image/svg+xml": "<?xml version=\"1.0\" encoding=\"utf-8\" standalone=\"no\"?>\n<!DOCTYPE svg PUBLIC \"-//W3C//DTD SVG 1.1//EN\"\n  \"http://www.w3.org/Graphics/SVG/1.1/DTD/svg11.dtd\">\n<!-- Created with matplotlib (https://matplotlib.org/) -->\n<svg height=\"358.652187pt\" version=\"1.1\" viewBox=\"0 0 495.954062 358.652187\" width=\"495.954062pt\" xmlns=\"http://www.w3.org/2000/svg\" xmlns:xlink=\"http://www.w3.org/1999/xlink\">\n <metadata>\n  <rdf:RDF xmlns:cc=\"http://creativecommons.org/ns#\" xmlns:dc=\"http://purl.org/dc/elements/1.1/\" xmlns:rdf=\"http://www.w3.org/1999/02/22-rdf-syntax-ns#\">\n   <cc:Work>\n    <dc:type rdf:resource=\"http://purl.org/dc/dcmitype/StillImage\"/>\n    <dc:date>2021-05-28T10:26:10.326260</dc:date>\n    <dc:format>image/svg+xml</dc:format>\n    <dc:creator>\n     <cc:Agent>\n      <dc:title>Matplotlib v3.3.1, https://matplotlib.org/</dc:title>\n     </cc:Agent>\n    </dc:creator>\n   </cc:Work>\n  </rdf:RDF>\n </metadata>\n <defs>\n  <style type=\"text/css\">*{stroke-linecap:butt;stroke-linejoin:round;}</style>\n </defs>\n <g id=\"figure_1\">\n  <g id=\"patch_1\">\n   <path d=\"M 0 358.652187 \nL 495.954062 358.652187 \nL 495.954062 0 \nL 0 0 \nz\n\" style=\"fill:#ffffff;\"/>\n  </g>\n  <g id=\"axes_1\">\n   <g id=\"patch_2\">\n    <path d=\"M 42.354063 320.87625 \nL 488.754062 320.87625 \nL 488.754062 21.89625 \nL 42.354063 21.89625 \nz\n\" style=\"fill:#eaeaf2;\"/>\n   </g>\n   <g id=\"matplotlib.axis_1\">\n    <g id=\"xtick_1\">\n     <g id=\"line2d_1\">\n      <path clip-path=\"url(#p541ba244ec)\" d=\"M 62.644972 320.87625 \nL 62.644972 21.89625 \n\" style=\"fill:none;stroke:#ffffff;stroke-linecap:round;\"/>\n     </g>\n     <g id=\"line2d_2\"/>\n     <g id=\"text_1\">\n      <!-- 0.0 -->\n      <g style=\"fill:#262626;\" transform=\"translate(55.694972 335.123125)scale(0.1 -0.1)\">\n       <defs>\n        <path d=\"M 51.703125 34.421875 \nQ 51.703125 24.515625 49.828125 17.75 \nQ 47.953125 10.984375 44.703125 6.8125 \nQ 41.453125 2.640625 37.0625 0.828125 \nQ 32.671875 -0.984375 27.6875 -0.984375 \nQ 22.65625 -0.984375 18.3125 0.828125 \nQ 13.96875 2.640625 10.765625 6.78125 \nQ 7.5625 10.9375 5.734375 17.703125 \nQ 3.90625 24.46875 3.90625 34.421875 \nQ 3.90625 44.828125 5.734375 51.640625 \nQ 7.5625 58.453125 10.78125 62.5 \nQ 14.015625 66.546875 18.40625 68.1875 \nQ 22.796875 69.828125 27.984375 69.828125 \nQ 32.90625 69.828125 37.21875 68.1875 \nQ 41.546875 66.546875 44.765625 62.5 \nQ 48 58.453125 49.84375 51.640625 \nQ 51.703125 44.828125 51.703125 34.421875 \nz\nM 42.78125 34.421875 \nQ 42.78125 42.625 41.796875 48.0625 \nQ 40.828125 53.515625 38.921875 56.765625 \nQ 37.015625 60.015625 34.25 61.359375 \nQ 31.5 62.703125 27.984375 62.703125 \nQ 24.265625 62.703125 21.4375 61.328125 \nQ 18.609375 59.96875 16.671875 56.71875 \nQ 14.75 53.46875 13.765625 48.015625 \nQ 12.796875 42.578125 12.796875 34.421875 \nQ 12.796875 26.515625 13.796875 21.09375 \nQ 14.796875 15.671875 16.71875 12.375 \nQ 18.65625 9.078125 21.4375 7.640625 \nQ 24.21875 6.203125 27.78125 6.203125 \nQ 31.25 6.203125 34.03125 7.640625 \nQ 36.8125 9.078125 38.734375 12.375 \nQ 40.671875 15.671875 41.71875 21.09375 \nQ 42.78125 26.515625 42.78125 34.421875 \nz\n\" id=\"LiberationSans-48\"/>\n        <path d=\"M 9.125 0 \nL 9.125 10.6875 \nL 18.65625 10.6875 \nL 18.65625 0 \nz\n\" id=\"LiberationSans-46\"/>\n       </defs>\n       <use xlink:href=\"#LiberationSans-48\"/>\n       <use x=\"55.615234\" xlink:href=\"#LiberationSans-46\"/>\n       <use x=\"83.398438\" xlink:href=\"#LiberationSans-48\"/>\n      </g>\n     </g>\n    </g>\n    <g id=\"xtick_2\">\n     <g id=\"line2d_3\">\n      <path clip-path=\"url(#p541ba244ec)\" d=\"M 143.808608 320.87625 \nL 143.808608 21.89625 \n\" style=\"fill:none;stroke:#ffffff;stroke-linecap:round;\"/>\n     </g>\n     <g id=\"line2d_4\"/>\n     <g id=\"text_2\">\n      <!-- 0.2 -->\n      <g style=\"fill:#262626;\" transform=\"translate(136.858608 335.123125)scale(0.1 -0.1)\">\n       <defs>\n        <path d=\"M 5.03125 0 \nL 5.03125 6.203125 \nQ 7.515625 11.921875 11.109375 16.28125 \nQ 14.703125 20.65625 18.65625 24.1875 \nQ 22.609375 27.734375 26.484375 30.765625 \nQ 30.375 33.796875 33.5 36.8125 \nQ 36.625 39.84375 38.546875 43.15625 \nQ 40.484375 46.484375 40.484375 50.6875 \nQ 40.484375 53.609375 39.59375 55.828125 \nQ 38.71875 58.0625 37.0625 59.5625 \nQ 35.40625 61.078125 33.078125 61.828125 \nQ 30.765625 62.59375 27.9375 62.59375 \nQ 25.296875 62.59375 22.96875 61.859375 \nQ 20.65625 61.140625 18.84375 59.671875 \nQ 17.046875 58.203125 15.890625 56.03125 \nQ 14.75 53.859375 14.40625 50.984375 \nL 5.421875 51.8125 \nQ 5.859375 55.515625 7.46875 58.78125 \nQ 9.078125 62.0625 11.90625 64.53125 \nQ 14.75 67 18.71875 68.40625 \nQ 22.703125 69.828125 27.9375 69.828125 \nQ 33.0625 69.828125 37.0625 68.609375 \nQ 41.0625 67.390625 43.8125 64.984375 \nQ 46.578125 62.59375 48.046875 59.078125 \nQ 49.515625 55.5625 49.515625 50.984375 \nQ 49.515625 47.515625 48.265625 44.390625 \nQ 47.015625 41.265625 44.9375 38.421875 \nQ 42.875 35.59375 40.140625 32.953125 \nQ 37.40625 30.328125 34.421875 27.8125 \nQ 31.453125 25.296875 28.421875 22.828125 \nQ 25.390625 20.359375 22.71875 17.859375 \nQ 20.0625 15.375 17.96875 12.8125 \nQ 15.875 10.25 14.703125 7.46875 \nL 50.59375 7.46875 \nL 50.59375 0 \nz\n\" id=\"LiberationSans-50\"/>\n       </defs>\n       <use xlink:href=\"#LiberationSans-48\"/>\n       <use x=\"55.615234\" xlink:href=\"#LiberationSans-46\"/>\n       <use x=\"83.398438\" xlink:href=\"#LiberationSans-50\"/>\n      </g>\n     </g>\n    </g>\n    <g id=\"xtick_3\">\n     <g id=\"line2d_5\">\n      <path clip-path=\"url(#p541ba244ec)\" d=\"M 224.972244 320.87625 \nL 224.972244 21.89625 \n\" style=\"fill:none;stroke:#ffffff;stroke-linecap:round;\"/>\n     </g>\n     <g id=\"line2d_6\"/>\n     <g id=\"text_3\">\n      <!-- 0.4 -->\n      <g style=\"fill:#262626;\" transform=\"translate(218.022244 335.123125)scale(0.1 -0.1)\">\n       <defs>\n        <path d=\"M 43.015625 15.578125 \nL 43.015625 0 \nL 34.71875 0 \nL 34.71875 15.578125 \nL 2.296875 15.578125 \nL 2.296875 22.40625 \nL 33.796875 68.796875 \nL 43.015625 68.796875 \nL 43.015625 22.515625 \nL 52.6875 22.515625 \nL 52.6875 15.578125 \nz\nM 34.71875 58.890625 \nQ 34.625 58.640625 34.234375 57.9375 \nQ 33.84375 57.234375 33.34375 56.34375 \nQ 32.859375 55.46875 32.34375 54.5625 \nQ 31.84375 53.65625 31.453125 53.078125 \nL 13.8125 27.09375 \nQ 13.578125 26.703125 13.109375 26.0625 \nQ 12.640625 25.4375 12.15625 24.78125 \nQ 11.671875 24.125 11.171875 23.484375 \nQ 10.6875 22.859375 10.40625 22.515625 \nL 34.71875 22.515625 \nz\n\" id=\"LiberationSans-52\"/>\n       </defs>\n       <use xlink:href=\"#LiberationSans-48\"/>\n       <use x=\"55.615234\" xlink:href=\"#LiberationSans-46\"/>\n       <use x=\"83.398438\" xlink:href=\"#LiberationSans-52\"/>\n      </g>\n     </g>\n    </g>\n    <g id=\"xtick_4\">\n     <g id=\"line2d_7\">\n      <path clip-path=\"url(#p541ba244ec)\" d=\"M 306.135881 320.87625 \nL 306.135881 21.89625 \n\" style=\"fill:none;stroke:#ffffff;stroke-linecap:round;\"/>\n     </g>\n     <g id=\"line2d_8\"/>\n     <g id=\"text_4\">\n      <!-- 0.6 -->\n      <g style=\"fill:#262626;\" transform=\"translate(299.185881 335.123125)scale(0.1 -0.1)\">\n       <defs>\n        <path d=\"M 51.21875 22.515625 \nQ 51.21875 17.328125 49.78125 13 \nQ 48.34375 8.6875 45.53125 5.578125 \nQ 42.71875 2.484375 38.5625 0.75 \nQ 34.421875 -0.984375 29 -0.984375 \nQ 23 -0.984375 18.5 1.3125 \nQ 14.015625 3.609375 11.03125 7.921875 \nQ 8.0625 12.25 6.5625 18.53125 \nQ 5.078125 24.8125 5.078125 32.8125 \nQ 5.078125 42 6.765625 48.921875 \nQ 8.453125 55.859375 11.625 60.5 \nQ 14.796875 65.140625 19.359375 67.484375 \nQ 23.921875 69.828125 29.6875 69.828125 \nQ 33.203125 69.828125 36.28125 69.09375 \nQ 39.359375 68.359375 41.875 66.71875 \nQ 44.390625 65.09375 46.28125 62.40625 \nQ 48.1875 59.71875 49.3125 55.8125 \nL 40.921875 54.296875 \nQ 39.546875 58.734375 36.546875 60.71875 \nQ 33.546875 62.703125 29.59375 62.703125 \nQ 25.984375 62.703125 23.046875 60.984375 \nQ 20.125 59.28125 18.0625 55.875 \nQ 16.015625 52.484375 14.90625 47.359375 \nQ 13.8125 42.234375 13.8125 35.40625 \nQ 16.21875 39.84375 20.5625 42.15625 \nQ 24.90625 44.484375 30.515625 44.484375 \nQ 35.203125 44.484375 39.015625 42.96875 \nQ 42.828125 41.453125 45.53125 38.59375 \nQ 48.25 35.75 49.734375 31.671875 \nQ 51.21875 27.59375 51.21875 22.515625 \nz\nM 42.28125 22.125 \nQ 42.28125 25.6875 41.40625 28.5625 \nQ 40.53125 31.453125 38.765625 33.46875 \nQ 37.015625 35.5 34.421875 36.59375 \nQ 31.84375 37.703125 28.421875 37.703125 \nQ 26.03125 37.703125 23.578125 36.984375 \nQ 21.140625 36.28125 19.15625 34.6875 \nQ 17.1875 33.109375 15.9375 30.515625 \nQ 14.703125 27.9375 14.703125 24.21875 \nQ 14.703125 20.40625 15.671875 17.109375 \nQ 16.65625 13.8125 18.484375 11.375 \nQ 20.3125 8.9375 22.890625 7.515625 \nQ 25.484375 6.109375 28.71875 6.109375 \nQ 31.890625 6.109375 34.40625 7.203125 \nQ 36.921875 8.296875 38.671875 10.375 \nQ 40.4375 12.453125 41.359375 15.421875 \nQ 42.28125 18.40625 42.28125 22.125 \nz\n\" id=\"LiberationSans-54\"/>\n       </defs>\n       <use xlink:href=\"#LiberationSans-48\"/>\n       <use x=\"55.615234\" xlink:href=\"#LiberationSans-46\"/>\n       <use x=\"83.398438\" xlink:href=\"#LiberationSans-54\"/>\n      </g>\n     </g>\n    </g>\n    <g id=\"xtick_5\">\n     <g id=\"line2d_9\">\n      <path clip-path=\"url(#p541ba244ec)\" d=\"M 387.299517 320.87625 \nL 387.299517 21.89625 \n\" style=\"fill:none;stroke:#ffffff;stroke-linecap:round;\"/>\n     </g>\n     <g id=\"line2d_10\"/>\n     <g id=\"text_5\">\n      <!-- 0.8 -->\n      <g style=\"fill:#262626;\" transform=\"translate(380.349517 335.123125)scale(0.1 -0.1)\">\n       <defs>\n        <path d=\"M 51.265625 19.1875 \nQ 51.265625 14.796875 49.875 11.109375 \nQ 48.484375 7.421875 45.625 4.734375 \nQ 42.78125 2.046875 38.328125 0.53125 \nQ 33.890625 -0.984375 27.828125 -0.984375 \nQ 21.78125 -0.984375 17.359375 0.53125 \nQ 12.9375 2.046875 10.03125 4.703125 \nQ 7.125 7.375 5.734375 11.0625 \nQ 4.34375 14.75 4.34375 19.09375 \nQ 4.34375 22.859375 5.484375 25.78125 \nQ 6.640625 28.71875 8.5625 30.828125 \nQ 10.5 32.953125 12.96875 34.25 \nQ 15.4375 35.546875 18.0625 35.984375 \nL 18.0625 36.1875 \nQ 15.1875 36.859375 12.90625 38.375 \nQ 10.640625 39.890625 9.09375 42.015625 \nQ 7.5625 44.140625 6.75 46.71875 \nQ 5.953125 49.3125 5.953125 52.203125 \nQ 5.953125 55.8125 7.34375 59 \nQ 8.734375 62.203125 11.46875 64.625 \nQ 14.203125 67.046875 18.25 68.4375 \nQ 22.3125 69.828125 27.640625 69.828125 \nQ 33.25 69.828125 37.375 68.40625 \nQ 41.5 67 44.203125 64.578125 \nQ 46.921875 62.15625 48.234375 58.9375 \nQ 49.5625 55.71875 49.5625 52.09375 \nQ 49.5625 49.265625 48.75 46.671875 \nQ 47.953125 44.09375 46.40625 41.96875 \nQ 44.875 39.84375 42.59375 38.34375 \nQ 40.328125 36.859375 37.359375 36.28125 \nL 37.359375 36.078125 \nQ 40.328125 35.59375 42.859375 34.296875 \nQ 45.40625 33.015625 47.265625 30.890625 \nQ 49.125 28.765625 50.1875 25.828125 \nQ 51.265625 22.90625 51.265625 19.1875 \nz\nM 40.4375 51.609375 \nQ 40.4375 54.203125 39.765625 56.34375 \nQ 39.109375 58.5 37.59375 60.03125 \nQ 36.078125 61.578125 33.640625 62.421875 \nQ 31.203125 63.28125 27.640625 63.28125 \nQ 24.171875 63.28125 21.78125 62.421875 \nQ 19.390625 61.578125 17.84375 60.03125 \nQ 16.3125 58.5 15.625 56.34375 \nQ 14.9375 54.203125 14.9375 51.609375 \nQ 14.9375 49.5625 15.46875 47.40625 \nQ 16.015625 45.265625 17.421875 43.5 \nQ 18.84375 41.75 21.328125 40.625 \nQ 23.828125 39.5 27.734375 39.5 \nQ 31.890625 39.5 34.40625 40.625 \nQ 36.921875 41.75 38.25 43.5 \nQ 39.59375 45.265625 40.015625 47.40625 \nQ 40.4375 49.5625 40.4375 51.609375 \nz\nM 42.140625 20.015625 \nQ 42.140625 22.515625 41.453125 24.828125 \nQ 40.765625 27.15625 39.109375 28.9375 \nQ 37.453125 30.71875 34.640625 31.8125 \nQ 31.84375 32.90625 27.640625 32.90625 \nQ 23.78125 32.90625 21.0625 31.8125 \nQ 18.359375 30.71875 16.671875 28.90625 \nQ 14.984375 27.09375 14.203125 24.71875 \nQ 13.421875 22.359375 13.421875 19.828125 \nQ 13.421875 16.65625 14.203125 14.03125 \nQ 14.984375 11.421875 16.6875 9.546875 \nQ 18.40625 7.671875 21.1875 6.640625 \nQ 23.96875 5.609375 27.9375 5.609375 \nQ 31.9375 5.609375 34.671875 6.640625 \nQ 37.40625 7.671875 39.0625 9.546875 \nQ 40.71875 11.421875 41.421875 14.078125 \nQ 42.140625 16.75 42.140625 20.015625 \nz\n\" id=\"LiberationSans-56\"/>\n       </defs>\n       <use xlink:href=\"#LiberationSans-48\"/>\n       <use x=\"55.615234\" xlink:href=\"#LiberationSans-46\"/>\n       <use x=\"83.398438\" xlink:href=\"#LiberationSans-56\"/>\n      </g>\n     </g>\n    </g>\n    <g id=\"xtick_6\">\n     <g id=\"line2d_11\">\n      <path clip-path=\"url(#p541ba244ec)\" d=\"M 468.463153 320.87625 \nL 468.463153 21.89625 \n\" style=\"fill:none;stroke:#ffffff;stroke-linecap:round;\"/>\n     </g>\n     <g id=\"line2d_12\"/>\n     <g id=\"text_6\">\n      <!-- 1.0 -->\n      <g style=\"fill:#262626;\" transform=\"translate(461.513153 335.123125)scale(0.1 -0.1)\">\n       <defs>\n        <path d=\"M 7.625 0 \nL 7.625 7.46875 \nL 25.140625 7.46875 \nL 25.140625 60.40625 \nL 9.625 49.3125 \nL 9.625 57.625 \nL 25.875 68.796875 \nL 33.984375 68.796875 \nL 33.984375 7.46875 \nL 50.734375 7.46875 \nL 50.734375 0 \nz\n\" id=\"LiberationSans-49\"/>\n       </defs>\n       <use xlink:href=\"#LiberationSans-49\"/>\n       <use x=\"55.615234\" xlink:href=\"#LiberationSans-46\"/>\n       <use x=\"83.398438\" xlink:href=\"#LiberationSans-48\"/>\n      </g>\n     </g>\n    </g>\n    <g id=\"text_7\">\n     <!-- False Positive Rate -->\n     <g style=\"fill:#262626;\" transform=\"translate(218.175 349.169687)scale(0.11 -0.11)\">\n      <defs>\n       <path d=\"M 17.53125 61.1875 \nL 17.53125 35.59375 \nL 55.90625 35.59375 \nL 55.90625 27.875 \nL 17.53125 27.875 \nL 17.53125 0 \nL 8.203125 0 \nL 8.203125 68.796875 \nL 57.078125 68.796875 \nL 57.078125 61.1875 \nz\n\" id=\"LiberationSans-70\"/>\n       <path d=\"M 20.21875 -0.984375 \nQ 12.25 -0.984375 8.25 3.21875 \nQ 4.25 7.421875 4.25 14.75 \nQ 4.25 19.96875 6.21875 23.3125 \nQ 8.203125 26.65625 11.390625 28.5625 \nQ 14.59375 30.46875 18.6875 31.203125 \nQ 22.796875 31.9375 27.046875 32.03125 \nL 38.921875 32.234375 \nL 38.921875 35.109375 \nQ 38.921875 38.375 38.234375 40.671875 \nQ 37.546875 42.96875 36.125 44.375 \nQ 34.71875 45.796875 32.59375 46.453125 \nQ 30.46875 47.125 27.59375 47.125 \nQ 25.046875 47.125 23 46.75 \nQ 20.953125 46.390625 19.4375 45.4375 \nQ 17.921875 44.484375 16.984375 42.84375 \nQ 16.0625 41.21875 15.765625 38.71875 \nL 6.59375 39.546875 \nQ 7.078125 42.671875 8.4375 45.28125 \nQ 9.8125 47.90625 12.328125 49.796875 \nQ 14.84375 51.703125 18.625 52.75 \nQ 22.40625 53.8125 27.78125 53.8125 \nQ 37.75 53.8125 42.765625 49.234375 \nQ 47.796875 44.671875 47.796875 36.03125 \nL 47.796875 13.28125 \nQ 47.796875 9.375 48.828125 7.390625 \nQ 49.859375 5.421875 52.734375 5.421875 \nQ 53.46875 5.421875 54.203125 5.515625 \nQ 54.9375 5.609375 55.609375 5.765625 \nL 55.609375 0.296875 \nQ 53.953125 -0.09375 52.3125 -0.28125 \nQ 50.6875 -0.484375 48.828125 -0.484375 \nQ 46.34375 -0.484375 44.5625 0.171875 \nQ 42.78125 0.828125 41.65625 2.171875 \nQ 40.53125 3.515625 39.9375 5.484375 \nQ 39.359375 7.46875 39.203125 10.109375 \nL 38.921875 10.109375 \nQ 37.5 7.5625 35.8125 5.515625 \nQ 34.125 3.46875 31.875 2.03125 \nQ 29.640625 0.59375 26.78125 -0.1875 \nQ 23.921875 -0.984375 20.21875 -0.984375 \nz\nM 22.21875 5.609375 \nQ 26.421875 5.609375 29.5625 7.140625 \nQ 32.71875 8.6875 34.78125 11.078125 \nQ 36.859375 13.484375 37.890625 16.3125 \nQ 38.921875 19.140625 38.921875 21.734375 \nL 38.921875 26.078125 \nL 29.296875 25.875 \nQ 26.078125 25.828125 23.171875 25.40625 \nQ 20.265625 25 18.0625 23.78125 \nQ 15.875 22.5625 14.578125 20.359375 \nQ 13.28125 18.171875 13.28125 14.59375 \nQ 13.28125 10.296875 15.59375 7.953125 \nQ 17.921875 5.609375 22.21875 5.609375 \nz\n\" id=\"LiberationSans-97\"/>\n       <path d=\"M 6.734375 0 \nL 6.734375 72.46875 \nL 15.53125 72.46875 \nL 15.53125 0 \nz\n\" id=\"LiberationSans-108\"/>\n       <path d=\"M 46.390625 14.59375 \nQ 46.390625 10.890625 44.9375 7.984375 \nQ 43.5 5.078125 40.765625 3.09375 \nQ 38.03125 1.125 34.046875 0.0625 \nQ 30.078125 -0.984375 24.953125 -0.984375 \nQ 20.359375 -0.984375 16.671875 -0.265625 \nQ 12.984375 0.4375 10.203125 2 \nQ 7.421875 3.5625 5.53125 6.125 \nQ 3.65625 8.6875 2.78125 12.40625 \nL 10.546875 13.921875 \nQ 11.671875 9.671875 15.1875 7.6875 \nQ 18.703125 5.71875 24.953125 5.71875 \nQ 27.78125 5.71875 30.140625 6.109375 \nQ 32.515625 6.5 34.21875 7.453125 \nQ 35.9375 8.40625 36.890625 9.984375 \nQ 37.84375 11.578125 37.84375 13.921875 \nQ 37.84375 16.3125 36.71875 17.84375 \nQ 35.59375 19.390625 33.59375 20.40625 \nQ 31.59375 21.4375 28.734375 22.1875 \nQ 25.875 22.953125 22.46875 23.875 \nQ 19.28125 24.703125 16.15625 25.734375 \nQ 13.03125 26.765625 10.515625 28.4375 \nQ 8.015625 30.125 6.453125 32.609375 \nQ 4.890625 35.109375 4.890625 38.875 \nQ 4.890625 46.09375 10.03125 49.875 \nQ 15.1875 53.65625 25.046875 53.65625 \nQ 33.796875 53.65625 38.9375 50.578125 \nQ 44.09375 47.515625 45.453125 40.71875 \nL 37.546875 39.75 \nQ 37.109375 41.796875 35.9375 43.1875 \nQ 34.765625 44.578125 33.109375 45.4375 \nQ 31.453125 46.296875 29.375 46.65625 \nQ 27.296875 47.015625 25.046875 47.015625 \nQ 19.09375 47.015625 16.25 45.203125 \nQ 13.421875 43.40625 13.421875 39.75 \nQ 13.421875 37.59375 14.46875 36.203125 \nQ 15.53125 34.8125 17.40625 33.859375 \nQ 19.28125 32.90625 21.921875 32.203125 \nQ 24.5625 31.5 27.734375 30.71875 \nQ 29.828125 30.171875 32.03125 29.5625 \nQ 34.234375 28.953125 36.296875 28.09375 \nQ 38.375 27.25 40.203125 26.09375 \nQ 42.046875 24.953125 43.40625 23.34375 \nQ 44.78125 21.734375 45.578125 19.578125 \nQ 46.390625 17.4375 46.390625 14.59375 \nz\n\" id=\"LiberationSans-115\"/>\n       <path d=\"M 13.484375 24.5625 \nQ 13.484375 20.40625 14.328125 16.90625 \nQ 15.1875 13.421875 16.96875 10.90625 \nQ 18.75 8.40625 21.53125 7 \nQ 24.3125 5.609375 28.21875 5.609375 \nQ 33.9375 5.609375 37.375 7.90625 \nQ 40.828125 10.203125 42.046875 13.71875 \nL 49.75 11.53125 \nQ 48.921875 9.328125 47.4375 7.109375 \nQ 45.953125 4.890625 43.453125 3.09375 \nQ 40.96875 1.3125 37.234375 0.15625 \nQ 33.5 -0.984375 28.21875 -0.984375 \nQ 16.5 -0.984375 10.375 6 \nQ 4.25 12.984375 4.25 26.765625 \nQ 4.25 34.1875 6.09375 39.328125 \nQ 7.953125 44.484375 11.171875 47.703125 \nQ 14.40625 50.921875 18.703125 52.359375 \nQ 23 53.8125 27.875 53.8125 \nQ 34.515625 53.8125 38.984375 51.65625 \nQ 43.453125 49.515625 46.15625 45.71875 \nQ 48.875 41.9375 50.015625 36.8125 \nQ 51.171875 31.6875 51.171875 25.734375 \nL 51.171875 24.5625 \nz\nM 42.09375 31.296875 \nQ 41.359375 39.65625 37.84375 43.484375 \nQ 34.328125 47.3125 27.734375 47.3125 \nQ 25.53125 47.3125 23.109375 46.609375 \nQ 20.703125 45.90625 18.65625 44.09375 \nQ 16.609375 42.28125 15.1875 39.171875 \nQ 13.765625 36.078125 13.578125 31.296875 \nz\n\" id=\"LiberationSans-101\"/>\n       <path id=\"LiberationSans-32\"/>\n       <path d=\"M 61.421875 48.09375 \nQ 61.421875 43.609375 59.9375 39.71875 \nQ 58.453125 35.84375 55.5 32.984375 \nQ 52.546875 30.125 48.09375 28.46875 \nQ 43.65625 26.8125 37.75 26.8125 \nL 17.53125 26.8125 \nL 17.53125 0 \nL 8.203125 0 \nL 8.203125 68.796875 \nL 37.15625 68.796875 \nQ 43.265625 68.796875 47.796875 67.3125 \nQ 52.34375 65.828125 55.375 63.109375 \nQ 58.40625 60.40625 59.90625 56.5625 \nQ 61.421875 52.734375 61.421875 48.09375 \nz\nM 52.046875 48 \nQ 52.046875 54.546875 48.046875 57.9375 \nQ 44.046875 61.328125 36.03125 61.328125 \nL 17.53125 61.328125 \nL 17.53125 34.1875 \nL 36.421875 34.1875 \nQ 44.484375 34.1875 48.265625 37.75 \nQ 52.046875 41.3125 52.046875 48 \nz\n\" id=\"LiberationSans-80\"/>\n       <path d=\"M 51.421875 26.46875 \nQ 51.421875 12.59375 45.3125 5.796875 \nQ 39.203125 -0.984375 27.59375 -0.984375 \nQ 22.078125 -0.984375 17.71875 0.671875 \nQ 13.375 2.34375 10.375 5.765625 \nQ 7.375 9.1875 5.78125 14.328125 \nQ 4.203125 19.484375 4.203125 26.46875 \nQ 4.203125 53.8125 27.875 53.8125 \nQ 34.03125 53.8125 38.5 52.09375 \nQ 42.96875 50.390625 45.828125 46.96875 \nQ 48.6875 43.5625 50.046875 38.421875 \nQ 51.421875 33.296875 51.421875 26.46875 \nz\nM 42.1875 26.46875 \nQ 42.1875 32.625 41.234375 36.625 \nQ 40.28125 40.625 38.453125 43.015625 \nQ 36.625 45.40625 33.984375 46.359375 \nQ 31.34375 47.3125 28.03125 47.3125 \nQ 24.65625 47.3125 21.9375 46.3125 \nQ 19.234375 45.3125 17.328125 42.890625 \nQ 15.4375 40.484375 14.421875 36.46875 \nQ 13.421875 32.46875 13.421875 26.46875 \nQ 13.421875 20.3125 14.5 16.28125 \nQ 15.578125 12.25 17.453125 9.859375 \nQ 19.34375 7.46875 21.90625 6.484375 \nQ 24.46875 5.515625 27.484375 5.515625 \nQ 30.859375 5.515625 33.59375 6.46875 \nQ 36.328125 7.421875 38.234375 9.8125 \nQ 40.140625 12.203125 41.15625 16.25 \nQ 42.1875 20.3125 42.1875 26.46875 \nz\n\" id=\"LiberationSans-111\"/>\n       <path d=\"M 6.6875 64.0625 \nL 6.6875 72.46875 \nL 15.484375 72.46875 \nL 15.484375 64.0625 \nz\nM 6.6875 0 \nL 6.6875 52.828125 \nL 15.484375 52.828125 \nL 15.484375 0 \nz\n\" id=\"LiberationSans-105\"/>\n       <path d=\"M 27.046875 0.390625 \nQ 25.046875 -0.140625 22.96875 -0.453125 \nQ 20.90625 -0.78125 18.171875 -0.78125 \nQ 7.625 -0.78125 7.625 11.1875 \nL 7.625 46.4375 \nL 1.515625 46.4375 \nL 1.515625 52.828125 \nL 7.953125 52.828125 \nL 10.546875 64.65625 \nL 16.40625 64.65625 \nL 16.40625 52.828125 \nL 26.171875 52.828125 \nL 26.171875 46.4375 \nL 16.40625 46.4375 \nL 16.40625 13.09375 \nQ 16.40625 9.28125 17.640625 7.734375 \nQ 18.890625 6.203125 21.96875 6.203125 \nQ 23.25 6.203125 24.4375 6.390625 \nQ 25.640625 6.59375 27.046875 6.890625 \nz\n\" id=\"LiberationSans-116\"/>\n       <path d=\"M 29.9375 0 \nL 19.53125 0 \nL 0.34375 52.828125 \nL 9.71875 52.828125 \nL 21.34375 18.453125 \nQ 21.6875 17.390625 22.140625 15.84375 \nQ 22.609375 14.3125 23.09375 12.640625 \nQ 23.578125 10.984375 24 9.4375 \nQ 24.421875 7.90625 24.703125 6.890625 \nQ 25 7.90625 25.453125 9.4375 \nQ 25.921875 10.984375 26.40625 12.59375 \nQ 26.90625 14.203125 27.421875 15.734375 \nQ 27.9375 17.28125 28.328125 18.359375 \nL 40.328125 52.828125 \nL 49.65625 52.828125 \nz\n\" id=\"LiberationSans-118\"/>\n       <path d=\"M 56.84375 0 \nL 38.96875 28.5625 \nL 17.53125 28.5625 \nL 17.53125 0 \nL 8.203125 0 \nL 8.203125 68.796875 \nL 40.578125 68.796875 \nQ 46.4375 68.796875 50.953125 67.453125 \nQ 55.46875 66.109375 58.546875 63.5625 \nQ 61.625 61.03125 63.234375 57.375 \nQ 64.84375 53.71875 64.84375 49.125 \nQ 64.84375 45.84375 63.890625 42.671875 \nQ 62.9375 39.5 60.890625 36.859375 \nQ 58.84375 34.234375 55.65625 32.328125 \nQ 52.484375 30.421875 48.046875 29.640625 \nL 67.578125 0 \nz\nM 55.46875 49.03125 \nQ 55.46875 52.15625 54.390625 54.4375 \nQ 53.328125 56.734375 51.265625 58.265625 \nQ 49.21875 59.8125 46.28125 60.5625 \nQ 43.359375 61.328125 39.65625 61.328125 \nL 17.53125 61.328125 \nL 17.53125 35.9375 \nL 40.046875 35.9375 \nQ 44.046875 35.9375 46.96875 36.9375 \nQ 49.90625 37.9375 51.78125 39.6875 \nQ 53.65625 41.453125 54.5625 43.84375 \nQ 55.46875 46.234375 55.46875 49.03125 \nz\n\" id=\"LiberationSans-82\"/>\n      </defs>\n      <use xlink:href=\"#LiberationSans-70\"/>\n      <use x=\"61.083984\" xlink:href=\"#LiberationSans-97\"/>\n      <use x=\"116.699219\" xlink:href=\"#LiberationSans-108\"/>\n      <use x=\"138.916016\" xlink:href=\"#LiberationSans-115\"/>\n      <use x=\"188.916016\" xlink:href=\"#LiberationSans-101\"/>\n      <use x=\"244.53125\" xlink:href=\"#LiberationSans-32\"/>\n      <use x=\"272.314453\" xlink:href=\"#LiberationSans-80\"/>\n      <use x=\"339.013672\" xlink:href=\"#LiberationSans-111\"/>\n      <use x=\"394.628906\" xlink:href=\"#LiberationSans-115\"/>\n      <use x=\"444.628906\" xlink:href=\"#LiberationSans-105\"/>\n      <use x=\"466.845703\" xlink:href=\"#LiberationSans-116\"/>\n      <use x=\"494.628906\" xlink:href=\"#LiberationSans-105\"/>\n      <use x=\"516.845703\" xlink:href=\"#LiberationSans-118\"/>\n      <use x=\"566.845703\" xlink:href=\"#LiberationSans-101\"/>\n      <use x=\"622.460938\" xlink:href=\"#LiberationSans-32\"/>\n      <use x=\"650.244141\" xlink:href=\"#LiberationSans-82\"/>\n      <use x=\"722.460938\" xlink:href=\"#LiberationSans-97\"/>\n      <use x=\"778.076172\" xlink:href=\"#LiberationSans-116\"/>\n      <use x=\"805.859375\" xlink:href=\"#LiberationSans-101\"/>\n     </g>\n    </g>\n   </g>\n   <g id=\"matplotlib.axis_2\">\n    <g id=\"ytick_1\">\n     <g id=\"line2d_13\">\n      <path clip-path=\"url(#p541ba244ec)\" d=\"M 42.354063 307.28625 \nL 488.754062 307.28625 \n\" style=\"fill:none;stroke:#ffffff;stroke-linecap:round;\"/>\n     </g>\n     <g id=\"line2d_14\"/>\n     <g id=\"text_8\">\n      <!-- 0.0 -->\n      <g style=\"fill:#262626;\" transform=\"translate(21.454063 310.909687)scale(0.1 -0.1)\">\n       <use xlink:href=\"#LiberationSans-48\"/>\n       <use x=\"55.615234\" xlink:href=\"#LiberationSans-46\"/>\n       <use x=\"83.398438\" xlink:href=\"#LiberationSans-48\"/>\n      </g>\n     </g>\n    </g>\n    <g id=\"ytick_2\">\n     <g id=\"line2d_15\">\n      <path clip-path=\"url(#p541ba244ec)\" d=\"M 42.354063 252.92625 \nL 488.754062 252.92625 \n\" style=\"fill:none;stroke:#ffffff;stroke-linecap:round;\"/>\n     </g>\n     <g id=\"line2d_16\"/>\n     <g id=\"text_9\">\n      <!-- 0.2 -->\n      <g style=\"fill:#262626;\" transform=\"translate(21.454063 256.549687)scale(0.1 -0.1)\">\n       <use xlink:href=\"#LiberationSans-48\"/>\n       <use x=\"55.615234\" xlink:href=\"#LiberationSans-46\"/>\n       <use x=\"83.398438\" xlink:href=\"#LiberationSans-50\"/>\n      </g>\n     </g>\n    </g>\n    <g id=\"ytick_3\">\n     <g id=\"line2d_17\">\n      <path clip-path=\"url(#p541ba244ec)\" d=\"M 42.354063 198.56625 \nL 488.754062 198.56625 \n\" style=\"fill:none;stroke:#ffffff;stroke-linecap:round;\"/>\n     </g>\n     <g id=\"line2d_18\"/>\n     <g id=\"text_10\">\n      <!-- 0.4 -->\n      <g style=\"fill:#262626;\" transform=\"translate(21.454063 202.189687)scale(0.1 -0.1)\">\n       <use xlink:href=\"#LiberationSans-48\"/>\n       <use x=\"55.615234\" xlink:href=\"#LiberationSans-46\"/>\n       <use x=\"83.398438\" xlink:href=\"#LiberationSans-52\"/>\n      </g>\n     </g>\n    </g>\n    <g id=\"ytick_4\">\n     <g id=\"line2d_19\">\n      <path clip-path=\"url(#p541ba244ec)\" d=\"M 42.354063 144.20625 \nL 488.754062 144.20625 \n\" style=\"fill:none;stroke:#ffffff;stroke-linecap:round;\"/>\n     </g>\n     <g id=\"line2d_20\"/>\n     <g id=\"text_11\">\n      <!-- 0.6 -->\n      <g style=\"fill:#262626;\" transform=\"translate(21.454063 147.829687)scale(0.1 -0.1)\">\n       <use xlink:href=\"#LiberationSans-48\"/>\n       <use x=\"55.615234\" xlink:href=\"#LiberationSans-46\"/>\n       <use x=\"83.398438\" xlink:href=\"#LiberationSans-54\"/>\n      </g>\n     </g>\n    </g>\n    <g id=\"ytick_5\">\n     <g id=\"line2d_21\">\n      <path clip-path=\"url(#p541ba244ec)\" d=\"M 42.354063 89.84625 \nL 488.754062 89.84625 \n\" style=\"fill:none;stroke:#ffffff;stroke-linecap:round;\"/>\n     </g>\n     <g id=\"line2d_22\"/>\n     <g id=\"text_12\">\n      <!-- 0.8 -->\n      <g style=\"fill:#262626;\" transform=\"translate(21.454063 93.469687)scale(0.1 -0.1)\">\n       <use xlink:href=\"#LiberationSans-48\"/>\n       <use x=\"55.615234\" xlink:href=\"#LiberationSans-46\"/>\n       <use x=\"83.398438\" xlink:href=\"#LiberationSans-56\"/>\n      </g>\n     </g>\n    </g>\n    <g id=\"ytick_6\">\n     <g id=\"line2d_23\">\n      <path clip-path=\"url(#p541ba244ec)\" d=\"M 42.354063 35.48625 \nL 488.754062 35.48625 \n\" style=\"fill:none;stroke:#ffffff;stroke-linecap:round;\"/>\n     </g>\n     <g id=\"line2d_24\"/>\n     <g id=\"text_13\">\n      <!-- 1.0 -->\n      <g style=\"fill:#262626;\" transform=\"translate(21.454063 39.109687)scale(0.1 -0.1)\">\n       <use xlink:href=\"#LiberationSans-49\"/>\n       <use x=\"55.615234\" xlink:href=\"#LiberationSans-46\"/>\n       <use x=\"83.398438\" xlink:href=\"#LiberationSans-48\"/>\n      </g>\n     </g>\n    </g>\n    <g id=\"text_14\">\n     <!-- True Positive rate -->\n     <g style=\"fill:#262626;\" transform=\"translate(15.171563 214.277656)rotate(-90)scale(0.11 -0.11)\">\n      <defs>\n       <path d=\"M 35.15625 61.1875 \nL 35.15625 0 \nL 25.875 0 \nL 25.875 61.1875 \nL 2.25 61.1875 \nL 2.25 68.796875 \nL 58.796875 68.796875 \nL 58.796875 61.1875 \nz\n\" id=\"LiberationSans-84\"/>\n       <path d=\"M 6.9375 0 \nL 6.9375 40.53125 \nQ 6.9375 42.1875 6.90625 43.921875 \nQ 6.890625 45.65625 6.828125 47.265625 \nQ 6.78125 48.875 6.734375 50.28125 \nQ 6.6875 51.703125 6.640625 52.828125 \nL 14.9375 52.828125 \nQ 14.984375 51.703125 15.0625 50.265625 \nQ 15.140625 48.828125 15.203125 47.3125 \nQ 15.28125 45.796875 15.296875 44.40625 \nQ 15.328125 43.015625 15.328125 42.046875 \nL 15.53125 42.046875 \nQ 16.453125 45.0625 17.5 47.28125 \nQ 18.5625 49.515625 19.96875 50.953125 \nQ 21.390625 52.390625 23.34375 53.09375 \nQ 25.296875 53.8125 28.078125 53.8125 \nQ 29.15625 53.8125 30.125 53.640625 \nQ 31.109375 53.46875 31.640625 53.328125 \nL 31.640625 45.265625 \nQ 30.765625 45.515625 29.59375 45.625 \nQ 28.421875 45.75 26.953125 45.75 \nQ 23.921875 45.75 21.796875 44.375 \nQ 19.671875 43.015625 18.328125 40.59375 \nQ 17 38.1875 16.359375 34.84375 \nQ 15.71875 31.5 15.71875 27.546875 \nL 15.71875 0 \nz\n\" id=\"LiberationSans-114\"/>\n       <path d=\"M 15.328125 52.828125 \nL 15.328125 19.34375 \nQ 15.328125 15.484375 15.890625 12.890625 \nQ 16.453125 10.296875 17.71875 8.703125 \nQ 19 7.125 21.0625 6.46875 \nQ 23.140625 5.8125 26.21875 5.8125 \nQ 29.34375 5.8125 31.859375 6.90625 \nQ 34.375 8.015625 36.15625 10.078125 \nQ 37.9375 12.15625 38.90625 15.203125 \nQ 39.890625 18.265625 39.890625 22.21875 \nL 39.890625 52.828125 \nL 48.6875 52.828125 \nL 48.6875 11.28125 \nQ 48.6875 9.625 48.703125 7.78125 \nQ 48.734375 5.953125 48.78125 4.3125 \nQ 48.828125 2.6875 48.875 1.515625 \nQ 48.921875 0.34375 48.96875 0 \nL 40.671875 0 \nQ 40.625 0.25 40.578125 1.3125 \nQ 40.53125 2.390625 40.453125 3.78125 \nQ 40.375 5.171875 40.328125 6.609375 \nQ 40.28125 8.0625 40.28125 9.03125 \nL 40.140625 9.03125 \nQ 38.875 6.734375 37.359375 4.875 \nQ 35.84375 3.03125 33.84375 1.734375 \nQ 31.84375 0.4375 29.25 -0.265625 \nQ 26.65625 -0.984375 23.25 -0.984375 \nQ 18.84375 -0.984375 15.671875 0.09375 \nQ 12.5 1.171875 10.453125 3.421875 \nQ 8.40625 5.671875 7.453125 9.1875 \nQ 6.5 12.703125 6.5 17.625 \nL 6.5 52.828125 \nz\n\" id=\"LiberationSans-117\"/>\n      </defs>\n      <use xlink:href=\"#LiberationSans-84\"/>\n      <use x=\"57.333984\" xlink:href=\"#LiberationSans-114\"/>\n      <use x=\"90.634766\" xlink:href=\"#LiberationSans-117\"/>\n      <use x=\"146.25\" xlink:href=\"#LiberationSans-101\"/>\n      <use x=\"201.865234\" xlink:href=\"#LiberationSans-32\"/>\n      <use x=\"229.648438\" xlink:href=\"#LiberationSans-80\"/>\n      <use x=\"296.347656\" xlink:href=\"#LiberationSans-111\"/>\n      <use x=\"351.962891\" xlink:href=\"#LiberationSans-115\"/>\n      <use x=\"401.962891\" xlink:href=\"#LiberationSans-105\"/>\n      <use x=\"424.179688\" xlink:href=\"#LiberationSans-116\"/>\n      <use x=\"451.962891\" xlink:href=\"#LiberationSans-105\"/>\n      <use x=\"474.179688\" xlink:href=\"#LiberationSans-118\"/>\n      <use x=\"524.179688\" xlink:href=\"#LiberationSans-101\"/>\n      <use x=\"579.794922\" xlink:href=\"#LiberationSans-32\"/>\n      <use x=\"607.578125\" xlink:href=\"#LiberationSans-114\"/>\n      <use x=\"640.878906\" xlink:href=\"#LiberationSans-97\"/>\n      <use x=\"696.494141\" xlink:href=\"#LiberationSans-116\"/>\n      <use x=\"724.277344\" xlink:href=\"#LiberationSans-101\"/>\n     </g>\n    </g>\n   </g>\n   <g id=\"line2d_25\">\n    <path clip-path=\"url(#p541ba244ec)\" d=\"M 62.644972 307.28625 \nL 77.675275 35.48625 \nL 468.463153 35.48625 \n\" style=\"fill:none;stroke:#ff0000;stroke-dasharray:6.475,2.8;stroke-dashoffset:0;stroke-width:1.75;\"/>\n   </g>\n   <g id=\"line2d_26\">\n    <path clip-path=\"url(#p541ba244ec)\" d=\"M 62.644972 307.28625 \nL 468.463153 35.48625 \n\" style=\"fill:none;stroke:#0000ff;stroke-dasharray:6.475,2.8;stroke-dashoffset:0;stroke-width:1.75;\"/>\n   </g>\n   <g id=\"patch_3\">\n    <path d=\"M 42.354063 320.87625 \nL 42.354063 21.89625 \n\" style=\"fill:none;\"/>\n   </g>\n   <g id=\"patch_4\">\n    <path d=\"M 488.754062 320.87625 \nL 488.754062 21.89625 \n\" style=\"fill:none;\"/>\n   </g>\n   <g id=\"patch_5\">\n    <path d=\"M 42.354063 320.87625 \nL 488.754062 320.87625 \n\" style=\"fill:none;\"/>\n   </g>\n   <g id=\"patch_6\">\n    <path d=\"M 42.354063 21.89625 \nL 488.754062 21.89625 \n\" style=\"fill:none;\"/>\n   </g>\n   <g id=\"text_15\">\n    <!-- ROC curve -->\n    <g style=\"fill:#262626;\" transform=\"translate(235.883125 15.89625)scale(0.12 -0.12)\">\n     <defs>\n      <path d=\"M 73 34.71875 \nQ 73 26.65625 70.671875 20.0625 \nQ 68.359375 13.484375 63.96875 8.796875 \nQ 59.578125 4.109375 53.21875 1.5625 \nQ 46.875 -0.984375 38.8125 -0.984375 \nQ 30.328125 -0.984375 23.921875 1.671875 \nQ 17.53125 4.34375 13.28125 9.109375 \nQ 9.03125 13.875 6.875 20.40625 \nQ 4.734375 26.953125 4.734375 34.71875 \nQ 4.734375 42.78125 6.984375 49.265625 \nQ 9.234375 55.765625 13.578125 60.328125 \nQ 17.921875 64.890625 24.296875 67.359375 \nQ 30.671875 69.828125 38.921875 69.828125 \nQ 47.125 69.828125 53.484375 67.328125 \nQ 59.859375 64.84375 64.171875 60.25 \nQ 68.5 55.671875 70.75 49.171875 \nQ 73 42.671875 73 34.71875 \nz\nM 63.484375 34.71875 \nQ 63.484375 40.921875 61.890625 46 \nQ 60.296875 51.078125 57.203125 54.6875 \nQ 54.109375 58.296875 49.515625 60.25 \nQ 44.921875 62.203125 38.921875 62.203125 \nQ 32.765625 62.203125 28.125 60.25 \nQ 23.484375 58.296875 20.375 54.6875 \nQ 17.28125 51.078125 15.734375 46 \nQ 14.203125 40.921875 14.203125 34.71875 \nQ 14.203125 28.515625 15.796875 23.359375 \nQ 17.390625 18.21875 20.484375 14.484375 \nQ 23.578125 10.75 28.1875 8.671875 \nQ 32.8125 6.59375 38.8125 6.59375 \nQ 45.265625 6.59375 49.921875 8.6875 \nQ 54.59375 10.796875 57.59375 14.53125 \nQ 60.59375 18.265625 62.03125 23.4375 \nQ 63.484375 28.609375 63.484375 34.71875 \nz\n\" id=\"LiberationSans-79\"/>\n      <path d=\"M 38.671875 62.203125 \nQ 32.8125 62.203125 28.296875 60.25 \nQ 23.78125 58.296875 20.71875 54.6875 \nQ 17.671875 51.078125 16.109375 46 \nQ 14.546875 40.921875 14.546875 34.71875 \nQ 14.546875 28.515625 16.234375 23.359375 \nQ 17.921875 18.21875 21.0625 14.5 \nQ 24.21875 10.796875 28.78125 8.734375 \nQ 33.34375 6.6875 39.0625 6.6875 \nQ 43.0625 6.6875 46.359375 7.734375 \nQ 49.65625 8.796875 52.3125 10.6875 \nQ 54.984375 12.59375 57.078125 15.203125 \nQ 59.1875 17.828125 60.796875 21 \nL 68.40625 17.1875 \nQ 66.546875 13.328125 63.8125 10 \nQ 61.078125 6.6875 57.390625 4.25 \nQ 53.71875 1.8125 49.046875 0.40625 \nQ 44.390625 -0.984375 38.625 -0.984375 \nQ 30.28125 -0.984375 24 1.671875 \nQ 17.71875 4.34375 13.5 9.109375 \nQ 9.28125 13.875 7.171875 20.40625 \nQ 5.078125 26.953125 5.078125 34.71875 \nQ 5.078125 42.78125 7.296875 49.265625 \nQ 9.515625 55.765625 13.78125 60.328125 \nQ 18.0625 64.890625 24.3125 67.359375 \nQ 30.5625 69.828125 38.578125 69.828125 \nQ 49.5625 69.828125 56.9375 65.53125 \nQ 64.3125 61.234375 67.78125 52.78125 \nL 58.9375 49.859375 \nQ 57.953125 52.296875 56.296875 54.515625 \nQ 54.640625 56.734375 52.140625 58.4375 \nQ 49.65625 60.15625 46.3125 61.171875 \nQ 42.96875 62.203125 38.671875 62.203125 \nz\n\" id=\"LiberationSans-67\"/>\n      <path d=\"M 13.421875 26.65625 \nQ 13.421875 22.125 14.078125 18.3125 \nQ 14.75 14.5 16.3125 11.734375 \nQ 17.875 8.984375 20.4375 7.46875 \nQ 23 5.953125 26.765625 5.953125 \nQ 31.453125 5.953125 34.59375 8.484375 \nQ 37.75 11.03125 38.484375 16.3125 \nL 47.359375 15.71875 \nQ 46.921875 12.453125 45.453125 9.421875 \nQ 44 6.390625 41.484375 4.09375 \nQ 38.96875 1.8125 35.34375 0.40625 \nQ 31.734375 -0.984375 27 -0.984375 \nQ 20.796875 -0.984375 16.453125 1.109375 \nQ 12.109375 3.21875 9.390625 6.90625 \nQ 6.6875 10.59375 5.46875 15.59375 \nQ 4.25 20.609375 4.25 26.46875 \nQ 4.25 31.78125 5.125 35.859375 \nQ 6 39.9375 7.59375 42.984375 \nQ 9.1875 46.046875 11.328125 48.125 \nQ 13.484375 50.203125 15.984375 51.4375 \nQ 18.5 52.6875 21.28125 53.25 \nQ 24.078125 53.8125 26.90625 53.8125 \nQ 31.34375 53.8125 34.8125 52.59375 \nQ 38.28125 51.375 40.796875 49.25 \nQ 43.3125 47.125 44.875 44.234375 \nQ 46.4375 41.359375 47.078125 38.03125 \nL 38.03125 37.359375 \nQ 37.359375 41.75 34.5625 44.328125 \nQ 31.78125 46.921875 26.65625 46.921875 \nQ 22.90625 46.921875 20.390625 45.671875 \nQ 17.875 44.4375 16.3125 41.921875 \nQ 14.75 39.40625 14.078125 35.59375 \nQ 13.421875 31.78125 13.421875 26.65625 \nz\n\" id=\"LiberationSans-99\"/>\n     </defs>\n     <use xlink:href=\"#LiberationSans-82\"/>\n     <use x=\"72.216797\" xlink:href=\"#LiberationSans-79\"/>\n     <use x=\"150\" xlink:href=\"#LiberationSans-67\"/>\n     <use x=\"222.216797\" xlink:href=\"#LiberationSans-32\"/>\n     <use x=\"250\" xlink:href=\"#LiberationSans-99\"/>\n     <use x=\"300\" xlink:href=\"#LiberationSans-117\"/>\n     <use x=\"355.615234\" xlink:href=\"#LiberationSans-114\"/>\n     <use x=\"388.916016\" xlink:href=\"#LiberationSans-118\"/>\n     <use x=\"438.916016\" xlink:href=\"#LiberationSans-101\"/>\n    </g>\n   </g>\n   <g id=\"legend_1\">\n    <g id=\"line2d_27\">\n     <path d=\"M 440.636875 306.30125 \nL 460.636875 306.30125 \n\" style=\"fill:none;stroke:#ff0000;stroke-dasharray:6.475,2.8;stroke-dashoffset:0;stroke-width:1.75;\"/>\n    </g>\n    <g id=\"line2d_28\"/>\n    <g id=\"text_16\">\n     <!--  fp -->\n     <g style=\"fill:#262626;\" transform=\"translate(468.636875 309.80125)scale(0.1 -0.1)\">\n      <defs>\n       <path d=\"M 17.625 46.4375 \nL 17.625 0 \nL 8.84375 0 \nL 8.84375 46.4375 \nL 1.421875 46.4375 \nL 1.421875 52.828125 \nL 8.84375 52.828125 \nL 8.84375 58.796875 \nQ 8.84375 61.671875 9.375 64.140625 \nQ 9.90625 66.609375 11.34375 68.4375 \nQ 12.796875 70.265625 15.28125 71.3125 \nQ 17.78125 72.359375 21.734375 72.359375 \nQ 23.296875 72.359375 24.96875 72.21875 \nQ 26.65625 72.078125 27.9375 71.78125 \nL 27.9375 65.09375 \nQ 27.09375 65.234375 26 65.359375 \nQ 24.90625 65.484375 24.03125 65.484375 \nQ 22.078125 65.484375 20.828125 64.9375 \nQ 19.578125 64.40625 18.875 63.40625 \nQ 18.171875 62.40625 17.890625 60.9375 \nQ 17.625 59.46875 17.625 57.5625 \nL 17.625 52.828125 \nL 27.9375 52.828125 \nL 27.9375 46.4375 \nz\n\" id=\"LiberationSans-102\"/>\n       <path d=\"M 51.421875 26.65625 \nQ 51.421875 20.65625 50.4375 15.578125 \nQ 49.46875 10.5 47.1875 6.828125 \nQ 44.921875 3.171875 41.1875 1.09375 \nQ 37.453125 -0.984375 31.984375 -0.984375 \nQ 26.3125 -0.984375 22.0625 1.171875 \nQ 17.828125 3.328125 15.578125 8.203125 \nL 15.328125 8.203125 \nQ 15.375 8.109375 15.40625 7.328125 \nQ 15.4375 6.546875 15.453125 5.375 \nQ 15.484375 4.203125 15.5 2.75 \nQ 15.53125 1.3125 15.53125 -0.09375 \nL 15.53125 -20.75 \nL 6.734375 -20.75 \nL 6.734375 42.046875 \nQ 6.734375 43.953125 6.703125 45.703125 \nQ 6.6875 47.46875 6.640625 48.90625 \nQ 6.59375 50.34375 6.546875 51.359375 \nQ 6.5 52.390625 6.453125 52.828125 \nL 14.9375 52.828125 \nQ 14.984375 52.6875 15.0625 51.796875 \nQ 15.140625 50.921875 15.203125 49.671875 \nQ 15.28125 48.4375 15.359375 47.015625 \nQ 15.4375 45.609375 15.4375 44.34375 \nL 15.625 44.34375 \nQ 16.84375 46.875 18.40625 48.65625 \nQ 19.96875 50.4375 21.96875 51.578125 \nQ 23.96875 52.734375 26.4375 53.25 \nQ 28.90625 53.765625 31.984375 53.765625 \nQ 37.453125 53.765625 41.1875 51.8125 \nQ 44.921875 49.859375 47.1875 46.3125 \nQ 49.46875 42.78125 50.4375 37.765625 \nQ 51.421875 32.765625 51.421875 26.65625 \nz\nM 42.1875 26.46875 \nQ 42.1875 31.34375 41.59375 35.15625 \nQ 41.015625 38.96875 39.578125 41.59375 \nQ 38.140625 44.234375 35.734375 45.59375 \nQ 33.34375 46.96875 29.734375 46.96875 \nQ 26.8125 46.96875 24.21875 46.140625 \nQ 21.625 45.3125 19.703125 42.96875 \nQ 17.78125 40.625 16.65625 36.5 \nQ 15.53125 32.375 15.53125 25.78125 \nQ 15.53125 20.171875 16.453125 16.28125 \nQ 17.390625 12.40625 19.171875 10.015625 \nQ 20.953125 7.625 23.578125 6.5625 \nQ 26.21875 5.515625 29.640625 5.515625 \nQ 33.296875 5.515625 35.71875 6.921875 \nQ 38.140625 8.34375 39.578125 11.03125 \nQ 41.015625 13.71875 41.59375 17.59375 \nQ 42.1875 21.484375 42.1875 26.46875 \nz\n\" id=\"LiberationSans-112\"/>\n      </defs>\n      <use xlink:href=\"#LiberationSans-32\"/>\n      <use x=\"27.783203\" xlink:href=\"#LiberationSans-102\"/>\n      <use x=\"55.566406\" xlink:href=\"#LiberationSans-112\"/>\n     </g>\n    </g>\n   </g>\n  </g>\n </g>\n <defs>\n  <clipPath id=\"p541ba244ec\">\n   <rect height=\"298.98\" width=\"446.4\" x=\"42.354063\" y=\"21.89625\"/>\n  </clipPath>\n </defs>\n</svg>\n",
      "image/png": "[encoded data removed]"
     },
     "metadata": {}
    }
   ],
   "source": [
    "# matplotlib\n",
    "import matplotlib.pyplot as plt\n",
    "plt.style.use('seaborn')\n",
    "\n",
    "# plot roc curves\n",
    "# plt.plot(fpr1, tpr1, linestyle='--',color='orange', label='Majority DNN')\n",
    "# plt.plot(fpr2, tpr2, linestyle='--',color='green', label='Minority DNN')\n",
    "plt.plot(fpr3, tpr3, linestyle='--',color='red', label=' fp')\n",
    "\n",
    "plt.plot(p_fpr, p_tpr, linestyle='--', color='blue')\n",
    "# title\n",
    "plt.title('ROC curve')\n",
    "# x label\n",
    "plt.xlabel('False Positive Rate')\n",
    "# y label\n",
    "plt.ylabel('True Positive rate')\n",
    "\n",
    "plt.legend(loc='best')\n",
    "plt.savefig('ROC',dpi=300)\n",
    "plt.show();"
   ]
  },
  {
   "cell_type": "code",
   "execution_count": 14,
   "metadata": {},
   "outputs": [
    {
     "output_type": "stream",
     "name": "stdout",
     "text": [
      "0.9814814814814815\n"
     ]
    }
   ],
   "source": [
    "from sklearn.metrics import roc_auc_score\n",
    "\n",
    "# auc scores\n",
    "auc_score1 = roc_auc_score(testSet.iloc[:,-1], predictions)\n",
    "# auc_score2 = roc_auc_score(testSet.iloc[:,-1], )\n",
    "\n",
    "print(auc_score1)"
   ]
  },
  {
   "cell_type": "code",
   "execution_count": null,
   "metadata": {},
   "outputs": [],
   "source": []
  }
 ]
}