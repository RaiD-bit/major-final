{
 "metadata": {
  "language_info": {
   "codemirror_mode": {
    "name": "ipython",
    "version": 3
   },
   "file_extension": ".py",
   "mimetype": "text/x-python",
   "name": "python",
   "nbconvert_exporter": "python",
   "pygments_lexer": "ipython3",
   "version": "3.8.8"
  },
  "orig_nbformat": 2,
  "kernelspec": {
   "name": "python388jvsc74a57bd00c084c3e9801c312f3572363c5acf5f3e6c352bfe174afc75721a955fdba99f4",
   "display_name": "Python 3.8.8 64-bit ('birdcall': conda)"
  }
 },
 "nbformat": 4,
 "nbformat_minor": 2,
 "cells": [
  {
   "cell_type": "code",
   "execution_count": 1,
   "metadata": {},
   "outputs": [],
   "source": [
    "from math import ceil\n",
    "from sklearn.utils import shuffle\n",
    "import pandas as pd\n",
    "import numpy as np \n",
    "from sklearn.feature_selection import SelectKBest, chi2\n",
    "from sklearn.preprocessing import StandardScaler\n",
    "from sklearn.decomposition import PCA\n",
    "import matplotlib.pyplot as plt\n",
    "from sklearn import model_selection \n",
    "import seaborn as sns \n",
    "from sklearn.model_selection import StratifiedKFold \n",
    "from sklearn import metrics\n",
    "from numpy import mean\n",
    "from sklearn.ensemble import RandomForestClassifier,AdaBoostClassifier,GradientBoostingClassifier\n",
    "from sklearn.model_selection import train_test_split\n",
    "from sklearn.datasets import make_classification\n",
    "from sklearn.model_selection import cross_val_score\n",
    "from sklearn.model_selection import RepeatedStratifiedKFold\n",
    "from sklearn.tree import DecisionTreeClassifier\n",
    "from fastai.tabular.all import *\n",
    "from sklearn.ensemble import RandomForestClassifier, VotingClassifier\n",
    "import os"
   ]
  },
  {
   "cell_type": "code",
   "execution_count": 2,
   "metadata": {},
   "outputs": [],
   "source": [
    "def getDataframe(p):\n",
    "    print(f\"file name : {os.path.split(p)[1]}\")\n",
    "    if os.path.split(p)[1] == 'JM1.csv':\n",
    "        df = pd.read_csv(p)\n",
    "        df['label'] = df['label'].map({\"b'N'\" :False,\"b'Y'\" :True})\n",
    "        return df\n",
    "    else:\n",
    "        df = pd.read_csv(p)\n",
    "        df['Defective'] = df['Defective'].map({\"b'N'\" :False,\"b'Y'\" :True})\n",
    "        return df\n",
    "\n",
    "\n",
    "# preprecessing \n",
    "\n",
    "def normalize(df):\n",
    "    result = df.copy()\n",
    "    for col in df.iloc[:,:-1].columns:\n",
    "        max_value = df[col].max()\n",
    "        min_value = df[col].min()\n",
    "        result[col] = (df[col] - min_value) / (max_value - min_value)\n",
    "    # print(df.head())\n",
    "    return result\n",
    "\n",
    "def preprocessing(df):\n",
    "    # select k best columns\n",
    "    best_features = SelectKBest(score_func=chi2,k=10)\n",
    "    fit = best_features.fit(df.iloc[:,:-1],df.iloc[:,-1])\n",
    "\n",
    "    dfscores = pd.DataFrame(fit.scores_)\n",
    "    df_cols = pd.DataFrame(df.iloc[:,:-1].columns)\n",
    "\n",
    "    feature_scores = pd.concat([df_cols,dfscores],axis=1)\n",
    "    feature_scores.columns = ['parameters','score']\n",
    "    selected_features = feature_scores.nlargest(10,'score').parameters.values\n",
    "    df = df.drop(selected_features, axis=1)\n",
    "    # normalize the data\n",
    "    df = normalize(df)\n",
    "    return df\n",
    "\n",
    "\n",
    "\n",
    "\n",
    "# making bags\n",
    "def sampling(df):\n",
    "    # create 2 sets of majority and minority samples\n",
    "    a = df[df.iloc[:,-1] == False]\n",
    "    b = df[df.iloc[:,-1] == True]\n",
    "    majority = None\n",
    "    minority = None\n",
    "    if a.shape[0] > b.shape[0]:\n",
    "        # print(\"here\")\n",
    "        majority = a\n",
    "        minority = b\n",
    "    else:\n",
    "        # print(\"there\")\n",
    "        minority = b\n",
    "        majority = a\n",
    "    # print(majority.head())\n",
    "    # print(minority.head())\n",
    "\n",
    "    # no of bags \n",
    "    bags = ceil(majority.shape[0]/minority.shape[0]) + 2\n",
    "    print(f\"majority cnt :{majority.shape[0]} , minority cnt :{minority.shape[0]} and number of bags: {bags}\")\n",
    "    subsets = []\n",
    "    for i in range(bags):\n",
    "        maj_sample = majority.sample(n=minority.shape[0])\n",
    "        balanced_subset = pd.concat([minority,maj_sample])\n",
    "        # print(maj_sample.shape)\n",
    "        # print(balanced_subset.shape)\n",
    "        balanced_subset = shuffle(balanced_subset)\n",
    "        # print(balanced_subset.head())\n",
    "        subsets.append(balanced_subset)\n",
    "\n",
    "    return subsets\n"
   ]
  },
  {
   "cell_type": "code",
   "execution_count": 3,
   "metadata": {},
   "outputs": [
    {
     "output_type": "stream",
     "name": "stdout",
     "text": [
      "file name : JM1.csv\n"
     ]
    }
   ],
   "source": [
    "df = getDataframe(\"Dataset/JM1.csv\")\n",
    "df = preprocessing(df)\n",
    "# splitting data into train and test sets\n",
    "trainSet,testSet = train_test_split(df,test_size=0.1)\n"
   ]
  },
  {
   "cell_type": "code",
   "execution_count": 4,
   "metadata": {},
   "outputs": [
    {
     "output_type": "stream",
     "name": "stdout",
     "text": [
      "majority cnt :7060 , minority cnt :1571 and number of bags: 7\n"
     ]
    }
   ],
   "source": [
    "balanced_subsets = sampling(trainSet)"
   ]
  },
  {
   "cell_type": "code",
   "execution_count": 5,
   "metadata": {},
   "outputs": [],
   "source": [
    "from fastai.tabular.all import *"
   ]
  },
  {
   "cell_type": "code",
   "execution_count": 6,
   "metadata": {},
   "outputs": [],
   "source": [
    "def trainModels(balanced_subsets):\n",
    "    trained_models = []\n",
    "    for subset in balanced_subsets:\n",
    "        df = subset\n",
    "        cont_names = df.columns\n",
    "        cat_names = []\n",
    "        procs=[]\n",
    "        df1 = balanced_subsets[0]\n",
    "        cont_names = ['LOC_BLANK', 'LOC_CODE_AND_COMMENT', 'LOC_COMMENTS',\n",
    "            'CYCLOMATIC_COMPLEXITY', 'DESIGN_COMPLEXITY',\n",
    "            'ESSENTIAL_COMPLEXITY', 'HALSTEAD_CONTENT', 'HALSTEAD_DIFFICULTY',\n",
    "            'HALSTEAD_ERROR_EST', 'HALSTEAD_LEVEL', 'NUM_UNIQUE_OPERATORS',\n",
    "            'label']\n",
    "        cat_names = []\n",
    "        procs=[]\n",
    "        # config = tabular_config(embed_p=0.6, use_bn=False); config\n",
    "        dls = TabularDataLoaders.from_df(df1,path='.',procs=None,cont_names=cont_names[:-1],cat_names=None,y_names=cont_names[-1])\n",
    "        learn = tabular_learner(dls,[400,200,100,50],metrics=[accuracy,RocAucBinary()])\n",
    "        learn.fit_one_cycle(10,1e-3)\n",
    "        # learn.show_training_loop()\n",
    "        trained_models.append(learn)\n",
    "    return trained_models\n"
   ]
  },
  {
   "cell_type": "code",
   "execution_count": 7,
   "metadata": {},
   "outputs": [
    {
     "output_type": "display_data",
     "data": {
      "text/plain": "<IPython.core.display.HTML object>",
      "text/html": "\n    <div>\n        <style>\n            /* Turns off some styling */\n            progress {\n                /* gets rid of default border in Firefox and Opera. */\n                border: none;\n                /* Needs to be in here for Safari polyfill so background images work as expected. */\n                background-size: auto;\n            }\n            .progress-bar-interrupted, .progress-bar-interrupted::-webkit-progress-bar {\n                background: #F44336;\n            }\n        </style>\n      <progress value='0' class='' max='10' style='width:300px; height:20px; vertical-align: middle;'></progress>\n      \n    </div>\n    \n"
     },
     "metadata": {}
    },
    {
     "output_type": "display_data",
     "data": {
      "text/plain": "<IPython.core.display.HTML object>",
      "text/html": "\n    <div>\n        <style>\n            /* Turns off some styling */\n            progress {\n                /* gets rid of default border in Firefox and Opera. */\n                border: none;\n                /* Needs to be in here for Safari polyfill so background images work as expected. */\n                background-size: auto;\n            }\n            .progress-bar-interrupted, .progress-bar-interrupted::-webkit-progress-bar {\n                background: #F44336;\n            }\n        </style>\n      <progress value='0' class='' max='10' style='width:300px; height:20px; vertical-align: middle;'></progress>\n      \n    </div>\n    \n"
     },
     "metadata": {}
    },
    {
     "output_type": "display_data",
     "data": {
      "text/plain": "<IPython.core.display.HTML object>",
      "text/html": "\n    <div>\n        <style>\n            /* Turns off some styling */\n            progress {\n                /* gets rid of default border in Firefox and Opera. */\n                border: none;\n                /* Needs to be in here for Safari polyfill so background images work as expected. */\n                background-size: auto;\n            }\n            .progress-bar-interrupted, .progress-bar-interrupted::-webkit-progress-bar {\n                background: #F44336;\n            }\n        </style>\n      <progress value='0' class='' max='10' style='width:300px; height:20px; vertical-align: middle;'></progress>\n      \n    </div>\n    \n"
     },
     "metadata": {}
    },
    {
     "output_type": "display_data",
     "data": {
      "text/plain": "<IPython.core.display.HTML object>",
      "text/html": "\n    <div>\n        <style>\n            /* Turns off some styling */\n            progress {\n                /* gets rid of default border in Firefox and Opera. */\n                border: none;\n                /* Needs to be in here for Safari polyfill so background images work as expected. */\n                background-size: auto;\n            }\n            .progress-bar-interrupted, .progress-bar-interrupted::-webkit-progress-bar {\n                background: #F44336;\n            }\n        </style>\n      <progress value='0' class='' max='10' style='width:300px; height:20px; vertical-align: middle;'></progress>\n      \n    </div>\n    \n"
     },
     "metadata": {}
    },
    {
     "output_type": "display_data",
     "data": {
      "text/plain": "<IPython.core.display.HTML object>",
      "text/html": "\n    <div>\n        <style>\n            /* Turns off some styling */\n            progress {\n                /* gets rid of default border in Firefox and Opera. */\n                border: none;\n                /* Needs to be in here for Safari polyfill so background images work as expected. */\n                background-size: auto;\n            }\n            .progress-bar-interrupted, .progress-bar-interrupted::-webkit-progress-bar {\n                background: #F44336;\n            }\n        </style>\n      <progress value='0' class='' max='10' style='width:300px; height:20px; vertical-align: middle;'></progress>\n      \n    </div>\n    \n"
     },
     "metadata": {}
    },
    {
     "output_type": "display_data",
     "data": {
      "text/plain": "<IPython.core.display.HTML object>",
      "text/html": "\n    <div>\n        <style>\n            /* Turns off some styling */\n            progress {\n                /* gets rid of default border in Firefox and Opera. */\n                border: none;\n                /* Needs to be in here for Safari polyfill so background images work as expected. */\n                background-size: auto;\n            }\n            .progress-bar-interrupted, .progress-bar-interrupted::-webkit-progress-bar {\n                background: #F44336;\n            }\n        </style>\n      <progress value='0' class='' max='10' style='width:300px; height:20px; vertical-align: middle;'></progress>\n      \n    </div>\n    \n"
     },
     "metadata": {}
    },
    {
     "output_type": "display_data",
     "data": {
      "text/plain": "<IPython.core.display.HTML object>",
      "text/html": "\n    <div>\n        <style>\n            /* Turns off some styling */\n            progress {\n                /* gets rid of default border in Firefox and Opera. */\n                border: none;\n                /* Needs to be in here for Safari polyfill so background images work as expected. */\n                background-size: auto;\n            }\n            .progress-bar-interrupted, .progress-bar-interrupted::-webkit-progress-bar {\n                background: #F44336;\n            }\n        </style>\n      <progress value='0' class='' max='10' style='width:300px; height:20px; vertical-align: middle;'></progress>\n      \n    </div>\n    \n"
     },
     "metadata": {}
    }
   ],
   "source": [
    "ans = trainModels(balanced_subsets)"
   ]
  },
  {
   "cell_type": "code",
   "execution_count": 37,
   "metadata": {},
   "outputs": [
    {
     "output_type": "error",
     "ename": "SyntaxError",
     "evalue": "invalid syntax (<ipython-input-37-b50c6215ffcb>, line 9)",
     "traceback": [
      "\u001b[0;36m  File \u001b[0;32m\"<ipython-input-37-b50c6215ffcb>\"\u001b[0;36m, line \u001b[0;32m9\u001b[0m\n\u001b[0;31m    t1 = torch.stack(fp)\u001b[0m\n\u001b[0m    ^\u001b[0m\n\u001b[0;31mSyntaxError\u001b[0m\u001b[0;31m:\u001b[0m invalid syntax\n"
     ]
    }
   ],
   "source": [
    "def majorityVoteWieghtage(trained_models, testSet):\n",
    "    # finalpreds = []\n",
    "    fp = []\n",
    "    for model in trained_models:\n",
    "        dl_test = model.dls.test_dl(testSet, with_labels=true)\n",
    "        preds = model.get_preds(dl=dl_test)\n",
    "        # print(preds)\n",
    "        fp.append((preds[1].T.squeeze())\n",
    "    t1 = torch.stack(fp)\n",
    "    t1 = t1.T\n",
    "    print(len(t1))\n",
    "    finalpreds = []\n",
    "    cnt = 0\n",
    "    for i in range(t1.shape[0]):\n",
    "        \n",
    "        # if((t1[i] == 1).sum(dim=0) > 0):\n",
    "        #     cnt+=1\n",
    "        #     print(f\"sum {t1[i]} {(t1[i] == 1).sum(dim=0) > 0}\")\n",
    "        tr = 0\n",
    "        fl = 0\n",
    "        for x in t1[i]:\n",
    "            if x == 1:\n",
    "                tr+=1\n",
    "            else:\n",
    "                fl+=1\n",
    "        \n",
    "        if tr > fl:\n",
    "            cnt+=1\n",
    "            print(f\"tr: {tr} fl: {fl} total {t1.shape[0]}\")\n",
    "            # print()\n",
    "        finalpreds.append([1 if tr > fl else 0,fl/t1.shape[1],tr/t1.shape[1]])\n",
    "    \n",
    "    print(cnt)\n",
    "    return finalpreds\n",
    "        \n"
   ]
  },
  {
   "cell_type": "code",
   "execution_count": 46,
   "metadata": {},
   "outputs": [],
   "source": [
    "def majorityVoteWieghtage(trained_models, testSet):\n",
    "    # finalpreds = []\n",
    "    fp = []\n",
    "    probs = []\n",
    "    for model in trained_models:\n",
    "        dl_test = model.dls.test_dl(testSet, with_labels=True)\n",
    "        preds = model.get_preds(dl=dl_test)\n",
    "        # print(preds)\n",
    "        fp.append(preds[1].T.squeeze())\n",
    "        probs.append(preds[0].T.squeeze())\n",
    "    print(probs[0].shape)\n",
    "    t1 = torch.stack(fp)\n",
    "    t1 = t1.T\n",
    "    p1 = torch.stack(probs)\n",
    "    p1 = p1.T\n",
    "    print(t1.shape)\n",
    "    print(t1)\n",
    "    print(p1.shape)\n",
    "    print(p1)\n",
    "    finalpreds = []\n",
    "    cnt = 0\n",
    "    for i in range(t1.shape[0]):\n",
    "        \n",
    "        # if((t1[i] == 1).sum(dim=0) > 0):\n",
    "        #     cnt+=1\n",
    "        #     print(f\"sum {t1[i]} {(t1[i] == 1).sum(dim=0) > 0}\")\n",
    "        tr = 0\n",
    "        fl = 0\n",
    "        for x in t1[i]:\n",
    "            if x == 1:\n",
    "                tr+=1\n",
    "            else:\n",
    "                fl+=1\n",
    "        \n",
    "        if tr > fl:\n",
    "            cnt+=1\n",
    "            print(f\"tr: {tr} fl: {fl} total {t1.shape[0]}\")\n",
    "            # print()\n",
    "        finalpreds.append([1 if tr > fl else 0,fl/t1.shape[1],tr/t1.shape[1]])\n",
    "    \n",
    "    print(cnt)\n",
    "    return finalpreds\n",
    "        "
   ]
  },
  {
   "cell_type": "code",
   "execution_count": 47,
   "metadata": {
    "tags": []
   },
   "outputs": [
    {
     "output_type": "display_data",
     "data": {
      "text/plain": "<IPython.core.display.HTML object>",
      "text/html": "\n    <div>\n        <style>\n            /* Turns off some styling */\n            progress {\n                /* gets rid of default border in Firefox and Opera. */\n                border: none;\n                /* Needs to be in here for Safari polyfill so background images work as expected. */\n                background-size: auto;\n            }\n            .progress-bar-interrupted, .progress-bar-interrupted::-webkit-progress-bar {\n                background: #F44336;\n            }\n        </style>\n      <progress value='0' class='' max='15' style='width:300px; height:20px; vertical-align: middle;'></progress>\n      \n    </div>\n    "
     },
     "metadata": {}
    },
    {
     "output_type": "display_data",
     "data": {
      "text/plain": "<IPython.core.display.HTML object>",
      "text/html": "\n    <div>\n        <style>\n            /* Turns off some styling */\n            progress {\n                /* gets rid of default border in Firefox and Opera. */\n                border: none;\n                /* Needs to be in here for Safari polyfill so background images work as expected. */\n                background-size: auto;\n            }\n            .progress-bar-interrupted, .progress-bar-interrupted::-webkit-progress-bar {\n                background: #F44336;\n            }\n        </style>\n      <progress value='0' class='' max='15' style='width:300px; height:20px; vertical-align: middle;'></progress>\n      \n    </div>\n    "
     },
     "metadata": {}
    },
    {
     "output_type": "display_data",
     "data": {
      "text/plain": "<IPython.core.display.HTML object>",
      "text/html": "\n    <div>\n        <style>\n            /* Turns off some styling */\n            progress {\n                /* gets rid of default border in Firefox and Opera. */\n                border: none;\n                /* Needs to be in here for Safari polyfill so background images work as expected. */\n                background-size: auto;\n            }\n            .progress-bar-interrupted, .progress-bar-interrupted::-webkit-progress-bar {\n                background: #F44336;\n            }\n        </style>\n      <progress value='0' class='' max='15' style='width:300px; height:20px; vertical-align: middle;'></progress>\n      \n    </div>\n    "
     },
     "metadata": {}
    },
    {
     "output_type": "display_data",
     "data": {
      "text/plain": "<IPython.core.display.HTML object>",
      "text/html": "\n    <div>\n        <style>\n            /* Turns off some styling */\n            progress {\n                /* gets rid of default border in Firefox and Opera. */\n                border: none;\n                /* Needs to be in here for Safari polyfill so background images work as expected. */\n                background-size: auto;\n            }\n            .progress-bar-interrupted, .progress-bar-interrupted::-webkit-progress-bar {\n                background: #F44336;\n            }\n        </style>\n      <progress value='0' class='' max='15' style='width:300px; height:20px; vertical-align: middle;'></progress>\n      \n    </div>\n    "
     },
     "metadata": {}
    },
    {
     "output_type": "display_data",
     "data": {
      "text/plain": "<IPython.core.display.HTML object>",
      "text/html": "\n    <div>\n        <style>\n            /* Turns off some styling */\n            progress {\n                /* gets rid of default border in Firefox and Opera. */\n                border: none;\n                /* Needs to be in here for Safari polyfill so background images work as expected. */\n                background-size: auto;\n            }\n            .progress-bar-interrupted, .progress-bar-interrupted::-webkit-progress-bar {\n                background: #F44336;\n            }\n        </style>\n      <progress value='0' class='' max='15' style='width:300px; height:20px; vertical-align: middle;'></progress>\n      \n    </div>\n    "
     },
     "metadata": {}
    },
    {
     "output_type": "display_data",
     "data": {
      "text/plain": "<IPython.core.display.HTML object>",
      "text/html": "\n    <div>\n        <style>\n            /* Turns off some styling */\n            progress {\n                /* gets rid of default border in Firefox and Opera. */\n                border: none;\n                /* Needs to be in here for Safari polyfill so background images work as expected. */\n                background-size: auto;\n            }\n            .progress-bar-interrupted, .progress-bar-interrupted::-webkit-progress-bar {\n                background: #F44336;\n            }\n        </style>\n      <progress value='0' class='' max='15' style='width:300px; height:20px; vertical-align: middle;'></progress>\n      \n    </div>\n    "
     },
     "metadata": {}
    },
    {
     "output_type": "display_data",
     "data": {
      "text/plain": "<IPython.core.display.HTML object>",
      "text/html": "\n    <div>\n        <style>\n            /* Turns off some styling */\n            progress {\n                /* gets rid of default border in Firefox and Opera. */\n                border: none;\n                /* Needs to be in here for Safari polyfill so background images work as expected. */\n                background-size: auto;\n            }\n            .progress-bar-interrupted, .progress-bar-interrupted::-webkit-progress-bar {\n                background: #F44336;\n            }\n        </style>\n      <progress value='0' class='' max='15' style='width:300px; height:20px; vertical-align: middle;'></progress>\n      \n    </div>\n    "
     },
     "metadata": {}
    },
    {
     "output_type": "stream",
     "name": "stdout",
     "text": [
      "torch.Size([2, 960])\ntorch.Size([960, 7])\ntensor([[0, 0, 0,  ..., 0, 0, 0],\n        [0, 0, 0,  ..., 0, 0, 0],\n        [0, 0, 0,  ..., 0, 0, 0],\n        ...,\n        [1, 1, 1,  ..., 1, 1, 1],\n        [1, 1, 1,  ..., 1, 1, 1],\n        [0, 0, 0,  ..., 0, 0, 0]], dtype=torch.int8)\ntorch.Size([960, 2, 7])\ntensor([[[0.6004, 0.5767, 0.6532,  ..., 0.6154, 0.5954, 0.5434],\n         [0.3996, 0.4233, 0.3468,  ..., 0.3846, 0.4046, 0.4566]],\n\n        [[0.5135, 0.5404, 0.5487,  ..., 0.5419, 0.5174, 0.5740],\n         [0.4865, 0.4596, 0.4513,  ..., 0.4581, 0.4826, 0.4260]],\n\n        [[0.6652, 0.6511, 0.6070,  ..., 0.6800, 0.6791, 0.5829],\n         [0.3348, 0.3489, 0.3930,  ..., 0.3200, 0.3209, 0.4171]],\n\n        ...,\n\n        [[0.4505, 0.3733, 0.3519,  ..., 0.3940, 0.3945, 0.3639],\n         [0.5495, 0.6267, 0.6481,  ..., 0.6060, 0.6055, 0.6361]],\n\n        [[0.2328, 0.2391, 0.2467,  ..., 0.1990, 0.2513, 0.2438],\n         [0.7672, 0.7609, 0.7533,  ..., 0.8010, 0.7487, 0.7562]],\n\n        [[0.4865, 0.5435, 0.5129,  ..., 0.6021, 0.5430, 0.5714],\n         [0.5135, 0.4565, 0.4871,  ..., 0.3979, 0.4570, 0.4286]]])\ntr: 7 fl: 0 total 960\ntr: 7 fl: 0 total 960\ntr: 7 fl: 0 total 960\ntr: 7 fl: 0 total 960\ntr: 7 fl: 0 total 960\ntr: 7 fl: 0 total 960\ntr: 7 fl: 0 total 960\ntr: 7 fl: 0 total 960\ntr: 7 fl: 0 total 960\ntr: 7 fl: 0 total 960\ntr: 7 fl: 0 total 960\ntr: 7 fl: 0 total 960\ntr: 7 fl: 0 total 960\ntr: 7 fl: 0 total 960\ntr: 7 fl: 0 total 960\ntr: 7 fl: 0 total 960\ntr: 7 fl: 0 total 960\ntr: 7 fl: 0 total 960\ntr: 7 fl: 0 total 960\ntr: 7 fl: 0 total 960\ntr: 7 fl: 0 total 960\ntr: 7 fl: 0 total 960\ntr: 7 fl: 0 total 960\ntr: 7 fl: 0 total 960\ntr: 7 fl: 0 total 960\ntr: 7 fl: 0 total 960\ntr: 7 fl: 0 total 960\ntr: 7 fl: 0 total 960\ntr: 7 fl: 0 total 960\ntr: 7 fl: 0 total 960\ntr: 7 fl: 0 total 960\ntr: 7 fl: 0 total 960\ntr: 7 fl: 0 total 960\ntr: 7 fl: 0 total 960\ntr: 7 fl: 0 total 960\ntr: 7 fl: 0 total 960\ntr: 7 fl: 0 total 960\ntr: 7 fl: 0 total 960\ntr: 7 fl: 0 total 960\ntr: 7 fl: 0 total 960\ntr: 7 fl: 0 total 960\ntr: 7 fl: 0 total 960\ntr: 7 fl: 0 total 960\ntr: 7 fl: 0 total 960\ntr: 7 fl: 0 total 960\ntr: 7 fl: 0 total 960\ntr: 7 fl: 0 total 960\ntr: 7 fl: 0 total 960\ntr: 7 fl: 0 total 960\ntr: 7 fl: 0 total 960\ntr: 7 fl: 0 total 960\ntr: 7 fl: 0 total 960\ntr: 7 fl: 0 total 960\ntr: 7 fl: 0 total 960\ntr: 7 fl: 0 total 960\ntr: 7 fl: 0 total 960\ntr: 7 fl: 0 total 960\ntr: 7 fl: 0 total 960\ntr: 7 fl: 0 total 960\ntr: 7 fl: 0 total 960\ntr: 7 fl: 0 total 960\ntr: 7 fl: 0 total 960\ntr: 7 fl: 0 total 960\ntr: 7 fl: 0 total 960\ntr: 7 fl: 0 total 960\ntr: 7 fl: 0 total 960\ntr: 7 fl: 0 total 960\ntr: 7 fl: 0 total 960\ntr: 7 fl: 0 total 960\ntr: 7 fl: 0 total 960\ntr: 7 fl: 0 total 960\ntr: 7 fl: 0 total 960\ntr: 7 fl: 0 total 960\ntr: 7 fl: 0 total 960\ntr: 7 fl: 0 total 960\ntr: 7 fl: 0 total 960\ntr: 7 fl: 0 total 960\ntr: 7 fl: 0 total 960\ntr: 7 fl: 0 total 960\ntr: 7 fl: 0 total 960\ntr: 7 fl: 0 total 960\ntr: 7 fl: 0 total 960\ntr: 7 fl: 0 total 960\ntr: 7 fl: 0 total 960\ntr: 7 fl: 0 total 960\ntr: 7 fl: 0 total 960\ntr: 7 fl: 0 total 960\ntr: 7 fl: 0 total 960\ntr: 7 fl: 0 total 960\ntr: 7 fl: 0 total 960\ntr: 7 fl: 0 total 960\ntr: 7 fl: 0 total 960\ntr: 7 fl: 0 total 960\ntr: 7 fl: 0 total 960\ntr: 7 fl: 0 total 960\ntr: 7 fl: 0 total 960\ntr: 7 fl: 0 total 960\ntr: 7 fl: 0 total 960\ntr: 7 fl: 0 total 960\ntr: 7 fl: 0 total 960\ntr: 7 fl: 0 total 960\ntr: 7 fl: 0 total 960\ntr: 7 fl: 0 total 960\ntr: 7 fl: 0 total 960\ntr: 7 fl: 0 total 960\ntr: 7 fl: 0 total 960\ntr: 7 fl: 0 total 960\ntr: 7 fl: 0 total 960\ntr: 7 fl: 0 total 960\ntr: 7 fl: 0 total 960\ntr: 7 fl: 0 total 960\ntr: 7 fl: 0 total 960\ntr: 7 fl: 0 total 960\ntr: 7 fl: 0 total 960\ntr: 7 fl: 0 total 960\ntr: 7 fl: 0 total 960\ntr: 7 fl: 0 total 960\ntr: 7 fl: 0 total 960\ntr: 7 fl: 0 total 960\ntr: 7 fl: 0 total 960\ntr: 7 fl: 0 total 960\ntr: 7 fl: 0 total 960\ntr: 7 fl: 0 total 960\ntr: 7 fl: 0 total 960\ntr: 7 fl: 0 total 960\ntr: 7 fl: 0 total 960\ntr: 7 fl: 0 total 960\ntr: 7 fl: 0 total 960\ntr: 7 fl: 0 total 960\ntr: 7 fl: 0 total 960\ntr: 7 fl: 0 total 960\ntr: 7 fl: 0 total 960\ntr: 7 fl: 0 total 960\ntr: 7 fl: 0 total 960\ntr: 7 fl: 0 total 960\ntr: 7 fl: 0 total 960\ntr: 7 fl: 0 total 960\ntr: 7 fl: 0 total 960\ntr: 7 fl: 0 total 960\ntr: 7 fl: 0 total 960\ntr: 7 fl: 0 total 960\ntr: 7 fl: 0 total 960\ntr: 7 fl: 0 total 960\ntr: 7 fl: 0 total 960\ntr: 7 fl: 0 total 960\ntr: 7 fl: 0 total 960\ntr: 7 fl: 0 total 960\ntr: 7 fl: 0 total 960\ntr: 7 fl: 0 total 960\ntr: 7 fl: 0 total 960\ntr: 7 fl: 0 total 960\ntr: 7 fl: 0 total 960\ntr: 7 fl: 0 total 960\ntr: 7 fl: 0 total 960\ntr: 7 fl: 0 total 960\ntr: 7 fl: 0 total 960\ntr: 7 fl: 0 total 960\ntr: 7 fl: 0 total 960\ntr: 7 fl: 0 total 960\ntr: 7 fl: 0 total 960\ntr: 7 fl: 0 total 960\ntr: 7 fl: 0 total 960\ntr: 7 fl: 0 total 960\ntr: 7 fl: 0 total 960\ntr: 7 fl: 0 total 960\ntr: 7 fl: 0 total 960\ntr: 7 fl: 0 total 960\ntr: 7 fl: 0 total 960\ntr: 7 fl: 0 total 960\ntr: 7 fl: 0 total 960\ntr: 7 fl: 0 total 960\ntr: 7 fl: 0 total 960\ntr: 7 fl: 0 total 960\ntr: 7 fl: 0 total 960\ntr: 7 fl: 0 total 960\ntr: 7 fl: 0 total 960\ntr: 7 fl: 0 total 960\ntr: 7 fl: 0 total 960\ntr: 7 fl: 0 total 960\ntr: 7 fl: 0 total 960\ntr: 7 fl: 0 total 960\ntr: 7 fl: 0 total 960\ntr: 7 fl: 0 total 960\ntr: 7 fl: 0 total 960\ntr: 7 fl: 0 total 960\ntr: 7 fl: 0 total 960\ntr: 7 fl: 0 total 960\ntr: 7 fl: 0 total 960\n188\n"
     ]
    }
   ],
   "source": [
    "fp = majorityVoteWieghtage(ans,testSet)"
   ]
  },
  {
   "cell_type": "code",
   "execution_count": 121,
   "metadata": {},
   "outputs": [
    {
     "output_type": "display_data",
     "data": {
      "text/plain": "<IPython.core.display.HTML object>",
      "text/html": "\n    <div>\n        <style>\n            /* Turns off some styling */\n            progress {\n                /* gets rid of default border in Firefox and Opera. */\n                border: none;\n                /* Needs to be in here for Safari polyfill so background images work as expected. */\n                background-size: auto;\n            }\n            .progress-bar-interrupted, .progress-bar-interrupted::-webkit-progress-bar {\n                background: #F44336;\n            }\n        </style>\n      <progress value='0' class='' max='1' style='width:300px; height:20px; vertical-align: middle;'></progress>\n      \n    </div>\n    "
     },
     "metadata": {}
    },
    {
     "output_type": "stream",
     "name": "stdout",
     "text": [
      "tensor(1)\n"
     ]
    },
    {
     "output_type": "display_data",
     "data": {
      "text/plain": "<IPython.core.display.HTML object>",
      "text/html": "\n    <div>\n        <style>\n            /* Turns off some styling */\n            progress {\n                /* gets rid of default border in Firefox and Opera. */\n                border: none;\n                /* Needs to be in here for Safari polyfill so background images work as expected. */\n                background-size: auto;\n            }\n            .progress-bar-interrupted, .progress-bar-interrupted::-webkit-progress-bar {\n                background: #F44336;\n            }\n        </style>\n      <progress value='0' class='' max='1' style='width:300px; height:20px; vertical-align: middle;'></progress>\n      \n    </div>\n    "
     },
     "metadata": {}
    },
    {
     "output_type": "stream",
     "name": "stdout",
     "text": [
      "tensor(1)\n"
     ]
    },
    {
     "output_type": "display_data",
     "data": {
      "text/plain": "<IPython.core.display.HTML object>",
      "text/html": "\n    <div>\n        <style>\n            /* Turns off some styling */\n            progress {\n                /* gets rid of default border in Firefox and Opera. */\n                border: none;\n                /* Needs to be in here for Safari polyfill so background images work as expected. */\n                background-size: auto;\n            }\n            .progress-bar-interrupted, .progress-bar-interrupted::-webkit-progress-bar {\n                background: #F44336;\n            }\n        </style>\n      <progress value='0' class='' max='1' style='width:300px; height:20px; vertical-align: middle;'></progress>\n      \n    </div>\n    "
     },
     "metadata": {}
    },
    {
     "output_type": "stream",
     "name": "stdout",
     "text": [
      "tensor(1)\n"
     ]
    },
    {
     "output_type": "display_data",
     "data": {
      "text/plain": "<IPython.core.display.HTML object>",
      "text/html": "\n    <div>\n        <style>\n            /* Turns off some styling */\n            progress {\n                /* gets rid of default border in Firefox and Opera. */\n                border: none;\n                /* Needs to be in here for Safari polyfill so background images work as expected. */\n                background-size: auto;\n            }\n            .progress-bar-interrupted, .progress-bar-interrupted::-webkit-progress-bar {\n                background: #F44336;\n            }\n        </style>\n      <progress value='0' class='' max='1' style='width:300px; height:20px; vertical-align: middle;'></progress>\n      \n    </div>\n    "
     },
     "metadata": {}
    },
    {
     "output_type": "stream",
     "name": "stdout",
     "text": [
      "tensor(1)\n"
     ]
    },
    {
     "output_type": "display_data",
     "data": {
      "text/plain": "<IPython.core.display.HTML object>",
      "text/html": "\n    <div>\n        <style>\n            /* Turns off some styling */\n            progress {\n                /* gets rid of default border in Firefox and Opera. */\n                border: none;\n                /* Needs to be in here for Safari polyfill so background images work as expected. */\n                background-size: auto;\n            }\n            .progress-bar-interrupted, .progress-bar-interrupted::-webkit-progress-bar {\n                background: #F44336;\n            }\n        </style>\n      <progress value='0' class='' max='1' style='width:300px; height:20px; vertical-align: middle;'></progress>\n      \n    </div>\n    "
     },
     "metadata": {}
    },
    {
     "output_type": "stream",
     "name": "stdout",
     "text": [
      "tensor(1)\n"
     ]
    },
    {
     "output_type": "display_data",
     "data": {
      "text/plain": "<IPython.core.display.HTML object>",
      "text/html": "\n    <div>\n        <style>\n            /* Turns off some styling */\n            progress {\n                /* gets rid of default border in Firefox and Opera. */\n                border: none;\n                /* Needs to be in here for Safari polyfill so background images work as expected. */\n                background-size: auto;\n            }\n            .progress-bar-interrupted, .progress-bar-interrupted::-webkit-progress-bar {\n                background: #F44336;\n            }\n        </style>\n      <progress value='0' class='' max='1' style='width:300px; height:20px; vertical-align: middle;'></progress>\n      \n    </div>\n    "
     },
     "metadata": {}
    },
    {
     "output_type": "stream",
     "name": "stdout",
     "text": [
      "tensor(1)\n"
     ]
    },
    {
     "output_type": "display_data",
     "data": {
      "text/plain": "<IPython.core.display.HTML object>",
      "text/html": ""
     },
     "metadata": {}
    }
   ],
   "source": [
    "for m in ans:\n",
    "    print(m.predict(testSet.iloc[398,:-1])[1])"
   ]
  },
  {
   "cell_type": "code",
   "execution_count": 118,
   "metadata": {},
   "outputs": [
    {
     "output_type": "execute_result",
     "data": {
      "text/plain": [
       "      LOC_BLANK  LOC_CODE_AND_COMMENT  LOC_COMMENTS  CYCLOMATIC_COMPLEXITY  \\\n",
       "6623   0.051454              0.101852      0.020349               0.098081   \n",
       "836    0.006711              0.000000      0.000000               0.002132   \n",
       "708    0.000000              0.000000      0.000000               0.000000   \n",
       "1438   0.004474              0.000000      0.014535               0.008529   \n",
       "398    0.006711              0.000000      0.000000               0.000000   \n",
       "...         ...                   ...           ...                    ...   \n",
       "165    0.002237              0.000000      0.000000               0.002132   \n",
       "5107   0.006711              0.018519      0.005814               0.021322   \n",
       "5029   0.013423              0.027778      0.005814               0.008529   \n",
       "6540   0.020134              0.000000      0.002907               0.004264   \n",
       "974    0.004474              0.000000      0.000000               0.010661   \n",
       "\n",
       "      DESIGN_COMPLEXITY  ESSENTIAL_COMPLEXITY  HALSTEAD_CONTENT  \\\n",
       "6623           0.062344              0.073171          0.253677   \n",
       "836            0.000000              0.000000          0.027309   \n",
       "708            0.000000              0.000000          0.011496   \n",
       "1438           0.002494              0.024390          0.026028   \n",
       "398            0.000000              0.000000          0.023588   \n",
       "...                 ...                   ...               ...   \n",
       "165            0.002494              0.000000          0.069307   \n",
       "5107           0.014963              0.012195          0.077398   \n",
       "5029           0.004988              0.000000          0.053003   \n",
       "6540           0.000000              0.000000          0.044737   \n",
       "974            0.004988              0.030488          0.027397   \n",
       "\n",
       "      HALSTEAD_DIFFICULTY  HALSTEAD_ERROR_EST  HALSTEAD_LEVEL  \\\n",
       "6623             0.129603            0.096846            0.02   \n",
       "836              0.036896            0.002968            0.06   \n",
       "708              0.007174            0.000371            0.33   \n",
       "1438             0.023027            0.001855            0.10   \n",
       "398              0.019919            0.001484            0.12   \n",
       "...                   ...                 ...             ...   \n",
       "165              0.017097            0.003340            0.14   \n",
       "5107             0.049330            0.011132            0.05   \n",
       "5029             0.045433            0.007050            0.05   \n",
       "6540             0.054830            0.007050            0.04   \n",
       "974              0.053922            0.004453            0.04   \n",
       "\n",
       "      NUM_UNIQUE_OPERATORS  label  \n",
       "6623              0.085158   True  \n",
       "836               0.021898   True  \n",
       "708               0.014599   True  \n",
       "1438              0.034063   True  \n",
       "398               0.024331   True  \n",
       "...                    ...    ...  \n",
       "165               0.026764   True  \n",
       "5107              0.055961   True  \n",
       "5029              0.043796   True  \n",
       "6540              0.038929   True  \n",
       "974               0.038929   True  \n",
       "\n",
       "[168 rows x 12 columns]"
      ],
      "text/html": "<div>\n<style scoped>\n    .dataframe tbody tr th:only-of-type {\n        vertical-align: middle;\n    }\n\n    .dataframe tbody tr th {\n        vertical-align: top;\n    }\n\n    .dataframe thead th {\n        text-align: right;\n    }\n</style>\n<table border=\"1\" class=\"dataframe\">\n  <thead>\n    <tr style=\"text-align: right;\">\n      <th></th>\n      <th>LOC_BLANK</th>\n      <th>LOC_CODE_AND_COMMENT</th>\n      <th>LOC_COMMENTS</th>\n      <th>CYCLOMATIC_COMPLEXITY</th>\n      <th>DESIGN_COMPLEXITY</th>\n      <th>ESSENTIAL_COMPLEXITY</th>\n      <th>HALSTEAD_CONTENT</th>\n      <th>HALSTEAD_DIFFICULTY</th>\n      <th>HALSTEAD_ERROR_EST</th>\n      <th>HALSTEAD_LEVEL</th>\n      <th>NUM_UNIQUE_OPERATORS</th>\n      <th>label</th>\n    </tr>\n  </thead>\n  <tbody>\n    <tr>\n      <th>6623</th>\n      <td>0.051454</td>\n      <td>0.101852</td>\n      <td>0.020349</td>\n      <td>0.098081</td>\n      <td>0.062344</td>\n      <td>0.073171</td>\n      <td>0.253677</td>\n      <td>0.129603</td>\n      <td>0.096846</td>\n      <td>0.02</td>\n      <td>0.085158</td>\n      <td>True</td>\n    </tr>\n    <tr>\n      <th>836</th>\n      <td>0.006711</td>\n      <td>0.000000</td>\n      <td>0.000000</td>\n      <td>0.002132</td>\n      <td>0.000000</td>\n      <td>0.000000</td>\n      <td>0.027309</td>\n      <td>0.036896</td>\n      <td>0.002968</td>\n      <td>0.06</td>\n      <td>0.021898</td>\n      <td>True</td>\n    </tr>\n    <tr>\n      <th>708</th>\n      <td>0.000000</td>\n      <td>0.000000</td>\n      <td>0.000000</td>\n      <td>0.000000</td>\n      <td>0.000000</td>\n      <td>0.000000</td>\n      <td>0.011496</td>\n      <td>0.007174</td>\n      <td>0.000371</td>\n      <td>0.33</td>\n      <td>0.014599</td>\n      <td>True</td>\n    </tr>\n    <tr>\n      <th>1438</th>\n      <td>0.004474</td>\n      <td>0.000000</td>\n      <td>0.014535</td>\n      <td>0.008529</td>\n      <td>0.002494</td>\n      <td>0.024390</td>\n      <td>0.026028</td>\n      <td>0.023027</td>\n      <td>0.001855</td>\n      <td>0.10</td>\n      <td>0.034063</td>\n      <td>True</td>\n    </tr>\n    <tr>\n      <th>398</th>\n      <td>0.006711</td>\n      <td>0.000000</td>\n      <td>0.000000</td>\n      <td>0.000000</td>\n      <td>0.000000</td>\n      <td>0.000000</td>\n      <td>0.023588</td>\n      <td>0.019919</td>\n      <td>0.001484</td>\n      <td>0.12</td>\n      <td>0.024331</td>\n      <td>True</td>\n    </tr>\n    <tr>\n      <th>...</th>\n      <td>...</td>\n      <td>...</td>\n      <td>...</td>\n      <td>...</td>\n      <td>...</td>\n      <td>...</td>\n      <td>...</td>\n      <td>...</td>\n      <td>...</td>\n      <td>...</td>\n      <td>...</td>\n      <td>...</td>\n    </tr>\n    <tr>\n      <th>165</th>\n      <td>0.002237</td>\n      <td>0.000000</td>\n      <td>0.000000</td>\n      <td>0.002132</td>\n      <td>0.002494</td>\n      <td>0.000000</td>\n      <td>0.069307</td>\n      <td>0.017097</td>\n      <td>0.003340</td>\n      <td>0.14</td>\n      <td>0.026764</td>\n      <td>True</td>\n    </tr>\n    <tr>\n      <th>5107</th>\n      <td>0.006711</td>\n      <td>0.018519</td>\n      <td>0.005814</td>\n      <td>0.021322</td>\n      <td>0.014963</td>\n      <td>0.012195</td>\n      <td>0.077398</td>\n      <td>0.049330</td>\n      <td>0.011132</td>\n      <td>0.05</td>\n      <td>0.055961</td>\n      <td>True</td>\n    </tr>\n    <tr>\n      <th>5029</th>\n      <td>0.013423</td>\n      <td>0.027778</td>\n      <td>0.005814</td>\n      <td>0.008529</td>\n      <td>0.004988</td>\n      <td>0.000000</td>\n      <td>0.053003</td>\n      <td>0.045433</td>\n      <td>0.007050</td>\n      <td>0.05</td>\n      <td>0.043796</td>\n      <td>True</td>\n    </tr>\n    <tr>\n      <th>6540</th>\n      <td>0.020134</td>\n      <td>0.000000</td>\n      <td>0.002907</td>\n      <td>0.004264</td>\n      <td>0.000000</td>\n      <td>0.000000</td>\n      <td>0.044737</td>\n      <td>0.054830</td>\n      <td>0.007050</td>\n      <td>0.04</td>\n      <td>0.038929</td>\n      <td>True</td>\n    </tr>\n    <tr>\n      <th>974</th>\n      <td>0.004474</td>\n      <td>0.000000</td>\n      <td>0.000000</td>\n      <td>0.010661</td>\n      <td>0.004988</td>\n      <td>0.030488</td>\n      <td>0.027397</td>\n      <td>0.053922</td>\n      <td>0.004453</td>\n      <td>0.04</td>\n      <td>0.038929</td>\n      <td>True</td>\n    </tr>\n  </tbody>\n</table>\n<p>168 rows × 12 columns</p>\n</div>"
     },
     "metadata": {},
     "execution_count": 118
    }
   ],
   "source": [
    "testSet[testSet.label == 1]"
   ]
  },
  {
   "cell_type": "code",
   "execution_count": 107,
   "metadata": {},
   "outputs": [
    {
     "output_type": "stream",
     "name": "stdout",
     "text": [
      "0 960\n"
     ]
    }
   ],
   "source": [
    "a = 0\n",
    "b = 0\n",
    "for x in fp:\n",
    "    if x[0] == 1:\n",
    "        a+=1\n",
    "    else:\n",
    "        b+=1\n",
    "print(a,b)"
   ]
  },
  {
   "cell_type": "code",
   "execution_count": 105,
   "metadata": {},
   "outputs": [
    {
     "output_type": "execute_result",
     "data": {
      "text/plain": [
       "tensor([[0, 0, 0,  ..., 0, 0, 0],\n",
       "        [0, 0, 0,  ..., 0, 0, 0],\n",
       "        [0, 0, 0,  ..., 0, 0, 0],\n",
       "        ...,\n",
       "        [0, 0, 0,  ..., 0, 0, 0],\n",
       "        [0, 0, 0,  ..., 0, 0, 0],\n",
       "        [0, 0, 0,  ..., 0, 0, 0]], dtype=torch.int8)"
      ]
     },
     "metadata": {},
     "execution_count": 105
    }
   ],
   "source": [
    "t.T"
   ]
  },
  {
   "cell_type": "code",
   "execution_count": 70,
   "metadata": {},
   "outputs": [
    {
     "output_type": "execute_result",
     "data": {
      "text/plain": [
       "tensor([0, 0, 0, 0, 0, 0, 0, 0, 0, 0, 1, 1, 0, 1, 0, 0, 0, 0, 0, 0, 0, 0, 0, 0,\n",
       "        1, 0, 0, 0, 1, 0, 0, 0, 0, 0, 0, 0, 0, 0, 0, 0, 0, 0, 0, 0, 0, 1, 0, 0,\n",
       "        1, 0, 0, 0, 1, 0, 0, 0, 0, 1, 0, 0, 0, 0, 0, 0, 0, 0, 0, 0, 1, 0, 0, 1,\n",
       "        1, 0, 0, 1, 0, 0, 0, 0, 1, 0, 0, 0, 0, 0, 0, 0, 1, 0, 1, 0, 0, 0, 0, 0,\n",
       "        0, 0, 1, 0, 0, 0, 1, 0, 0, 0, 1, 0, 0, 0, 0, 0, 0, 0, 1, 0, 0, 1, 0, 0,\n",
       "        0, 0, 0, 0, 0, 0, 0, 0, 0, 0, 1, 1, 0, 0, 0, 1, 0, 1, 1, 1, 0, 1, 0, 1,\n",
       "        0, 1, 1, 1, 0, 0, 0, 0, 0, 0, 1, 0, 0, 0, 1, 0, 0, 1, 0, 0, 0, 0, 0, 0,\n",
       "        0, 0, 0, 1, 0, 0, 0, 0, 0, 0, 0, 0, 0, 1, 0, 0, 0, 0, 0, 0, 1, 0, 0, 0,\n",
       "        0, 0, 0, 0, 0, 0, 0, 0, 0, 1, 0, 0, 0, 0, 0, 0, 0, 0, 1, 0, 0, 1, 0, 1,\n",
       "        0, 0, 1, 0, 1, 1, 0, 0, 1, 1, 0, 0, 0, 0, 0, 0, 1, 0, 0, 0, 0, 0, 0, 0,\n",
       "        0, 1, 0, 0, 0, 1, 1, 0, 0, 1, 0, 0, 0, 1, 0, 0, 0, 0, 0, 0, 0, 0, 0, 0,\n",
       "        1, 0, 0, 0, 0, 0, 0, 0, 0, 0, 0, 0, 0, 0, 1, 1, 0, 0, 0, 0, 0, 0, 0, 0,\n",
       "        0, 0, 1, 0, 0, 0, 0, 0, 0, 0, 1, 0, 0, 0, 0, 0, 0, 0, 0, 1, 0, 0, 0, 0,\n",
       "        0, 0, 0, 1, 1, 1, 0, 0, 0, 1, 0, 0, 1, 0, 0, 1, 0, 0, 1, 0, 0, 0, 0, 0,\n",
       "        0, 0, 0, 0, 0, 0, 0, 1, 0, 1, 0, 0, 0, 0, 0, 1, 1, 1, 0, 0, 1, 1, 0, 0,\n",
       "        0, 0, 1, 0, 0, 0, 0, 1, 0, 0, 0, 0, 0, 0, 0, 1, 1, 0, 0, 1, 0, 0, 0, 0,\n",
       "        0, 0, 0, 0, 1, 0, 0, 0, 1, 0, 0, 0, 0, 1, 0, 0, 0, 0, 1, 0, 0, 0, 0, 0,\n",
       "        0, 0, 0, 0, 0, 1, 1, 0, 0, 0, 0, 0, 0, 0, 0, 0, 1, 0, 1, 0, 0, 0, 0, 0,\n",
       "        1, 0, 1, 0, 0, 0, 1, 0, 0, 0, 0, 0, 0, 1, 0, 0, 0, 0, 1, 0, 0, 0, 1, 0,\n",
       "        0, 1, 1, 0, 0, 0, 0, 0, 1, 1, 1, 1, 1, 1, 0, 1, 0, 0, 0, 0, 0, 0, 0, 0,\n",
       "        0, 0, 1, 0, 0, 1, 1, 1, 0, 0, 1, 1, 0, 0, 0, 0, 1, 0, 1, 0, 0, 0, 0, 0,\n",
       "        0, 1, 0, 0, 1, 1, 0, 0, 0, 0, 0, 0, 0, 0, 0, 0, 0, 0, 0, 0, 1, 0, 0, 0,\n",
       "        0, 0, 1, 0, 0, 1, 1, 0, 0, 0, 0, 0, 0, 0, 0, 1, 0, 0, 0, 0, 0, 0, 0, 0,\n",
       "        0, 0, 0, 0, 0, 0, 1, 0, 0, 0, 0, 0, 0, 0, 0, 0, 0, 0, 1, 1, 0, 1, 0, 0,\n",
       "        0, 0, 0, 0, 0, 0, 0, 0, 0, 0, 1, 0, 1, 0, 0, 0, 0, 0, 0, 1, 0, 0, 0, 0,\n",
       "        0, 0, 1, 0, 1, 1, 1, 0, 0, 0, 0, 1, 0, 0, 0, 0, 0, 0, 0, 0, 0, 0, 0, 0,\n",
       "        0, 0, 0, 0, 0, 0, 1, 0, 0, 0, 1, 0, 0, 0, 1, 0, 0, 0, 1, 0, 0, 0, 0, 1,\n",
       "        0, 1, 0, 0, 0, 0, 0, 1, 0, 0, 0, 0, 0, 0, 0, 0, 1, 1, 0, 0, 0, 1, 0, 0,\n",
       "        0, 0, 0, 1, 0, 1, 0, 0, 0, 0, 0, 0, 0, 1, 0, 0, 0, 0, 0, 0, 1, 0, 0, 1,\n",
       "        0, 0, 1, 1, 0, 0, 0, 0, 0, 0, 0, 1, 0, 1, 0, 0, 0, 1, 0, 1, 0, 0, 0, 0,\n",
       "        0, 0, 0, 1, 1, 1, 0, 0, 0, 0, 1, 0, 0, 0, 1, 1, 1, 0, 0, 0, 1, 0, 0, 0,\n",
       "        1, 1, 0, 0, 0, 1, 0, 0, 0, 0, 0, 0, 0, 0, 1, 1, 0, 0, 0, 0, 0, 1, 0, 0,\n",
       "        0, 0, 0, 0, 0, 0, 0, 0, 0, 0, 0, 0, 0, 0, 0, 0, 0, 0, 0, 0, 0, 0, 0, 0,\n",
       "        0, 0, 0, 0, 0, 0, 0, 0, 0, 0, 1, 0, 0, 0, 0, 0, 0, 0, 0, 1, 1, 0, 0, 0,\n",
       "        0, 0, 0, 0, 0, 0, 0, 1, 0, 0, 0, 1, 0, 0, 0, 0, 0, 0, 0, 0, 0, 0, 0, 0,\n",
       "        0, 1, 0, 0, 0, 0, 1, 0, 0, 0, 0, 1, 0, 0, 1, 0, 0, 0, 0, 0, 0, 0, 0, 0,\n",
       "        0, 0, 0, 1, 1, 0, 1, 1, 0, 0, 0, 0, 0, 0, 1, 1, 0, 1, 0, 1, 0, 0, 1, 1,\n",
       "        0, 0, 0, 0, 0, 0, 0, 0, 0, 0, 0, 0, 0, 0, 1, 1, 0, 0, 0, 0, 0, 0, 0, 0,\n",
       "        0, 0, 0, 1, 1, 0, 0, 0, 0, 0, 0, 0, 1, 0, 1, 0, 0, 1, 0, 1, 0, 0, 0, 0,\n",
       "        1, 1, 0, 1, 1, 0, 1, 0, 1, 0, 1, 0, 0, 0, 0, 0, 0, 0, 0, 0, 0, 0, 0, 0],\n",
       "       dtype=torch.int8)"
      ]
     },
     "metadata": {},
     "execution_count": 70
    }
   ],
   "source": [
    "fp[0]"
   ]
  },
  {
   "cell_type": "code",
   "execution_count": 73,
   "metadata": {},
   "outputs": [],
   "source": [
    "t = t.T"
   ]
  },
  {
   "cell_type": "code",
   "execution_count": 79,
   "metadata": {},
   "outputs": [
    {
     "output_type": "execute_result",
     "data": {
      "text/plain": [
       "tensor([[0, 0, 0, 0, 0, 0, 0],\n",
       "        [0, 0, 0, 0, 0, 0, 0],\n",
       "        [1, 1, 1, 1, 1, 1, 1],\n",
       "        [0, 0, 0, 0, 0, 0, 0],\n",
       "        [0, 0, 0, 0, 0, 0, 0],\n",
       "        [0, 0, 0, 0, 0, 0, 0],\n",
       "        [1, 1, 1, 1, 1, 1, 1],\n",
       "        [0, 0, 0, 0, 0, 0, 0],\n",
       "        [0, 0, 0, 0, 0, 0, 0],\n",
       "        [0, 0, 0, 0, 0, 0, 0],\n",
       "        [0, 0, 0, 0, 0, 0, 0],\n",
       "        [0, 0, 0, 0, 0, 0, 0],\n",
       "        [0, 0, 0, 0, 0, 0, 0],\n",
       "        [0, 0, 0, 0, 0, 0, 0],\n",
       "        [1, 1, 1, 1, 1, 1, 1],\n",
       "        [0, 0, 0, 0, 0, 0, 0],\n",
       "        [0, 0, 0, 0, 0, 0, 0],\n",
       "        [1, 1, 1, 1, 1, 1, 1],\n",
       "        [0, 0, 0, 0, 0, 0, 0],\n",
       "        [0, 0, 0, 0, 0, 0, 0]], dtype=torch.int8)"
      ]
     },
     "metadata": {},
     "execution_count": 79
    }
   ],
   "source": [
    "t[100:120]"
   ]
  },
  {
   "cell_type": "code",
   "execution_count": 85,
   "metadata": {},
   "outputs": [],
   "source": [
    "tr = (t[0] == 1).sum(dim=0)\n",
    "fl = (t[0] == 0).sum(dim=0)\n"
   ]
  },
  {
   "cell_type": "code",
   "execution_count": 86,
   "metadata": {},
   "outputs": [
    {
     "output_type": "execute_result",
     "data": {
      "text/plain": [
       "(tensor(0), tensor(7))"
      ]
     },
     "metadata": {},
     "execution_count": 86
    }
   ],
   "source": [
    "tr,fl"
   ]
  },
  {
   "cell_type": "code",
   "execution_count": null,
   "metadata": {},
   "outputs": [],
   "source": [
    "finalpreds = []\n",
    "for i in range(fp[0].shape):\n",
    "    t = 0\n",
    "    f = 0\n",
    "    p = None\n",
    "    for j in range(len(fp)):\n",
    "        if fp[j][0][i] == 1:\n",
    "            t+=1\n",
    "        else:\n",
    "            f+=1\n",
    "    if t > f:\n",
    "        p = True\n",
    "    else:\n",
    "        p = False\n",
    "\n",
    "    Wmj = f/len(fp) \n",
    "    Wmn = t/len(fp)\n",
    "finalpreds.append((p,Wmj,Wmn))   \n",
    "    \n",
    "        \n"
   ]
  },
  {
   "cell_type": "code",
   "execution_count": 30,
   "metadata": {},
   "outputs": [
    {
     "output_type": "display_data",
     "data": {
      "text/plain": "<IPython.core.display.HTML object>",
      "text/html": "\n    <div>\n        <style>\n            /* Turns off some styling */\n            progress {\n                /* gets rid of default border in Firefox and Opera. */\n                border: none;\n                /* Needs to be in here for Safari polyfill so background images work as expected. */\n                background-size: auto;\n            }\n            .progress-bar-interrupted, .progress-bar-interrupted::-webkit-progress-bar {\n                background: #F44336;\n            }\n        </style>\n      <progress value='0' class='' max='15' style='width:300px; height:20px; vertical-align: middle;'></progress>\n      \n    </div>\n    "
     },
     "metadata": {}
    },
    {
     "output_type": "display_data",
     "data": {
      "text/plain": "<IPython.core.display.HTML object>",
      "text/html": ""
     },
     "metadata": {}
    }
   ],
   "source": [
    "dl_test = ans[0].dls.test_dl(testSet, with_labels=true)\n",
    "preds = ans[0].get_preds(dl=dl_test)\n",
    "dl_test1 = ans[1].dls.test_dl(testSet, with_labels=true)\n",
    "preds1 = ans[1].get_preds(dl=dl_test)\n",
    "\n",
    "g = preds[1].T\n",
    "h = preds1[1].T\n",
    "\n",
    "g = g.squeeze()\n",
    "h = h.squeeze()"
   ]
  },
  {
   "cell_type": "code",
   "execution_count": 32,
   "metadata": {},
   "outputs": [
    {
     "output_type": "execute_result",
     "data": {
      "text/plain": [
       "(torch.Size([960]), torch.Size([960]))"
      ]
     },
     "metadata": {},
     "execution_count": 32
    }
   ],
   "source": [
    "g.shape,h.shape"
   ]
  },
  {
   "cell_type": "code",
   "execution_count": 43,
   "metadata": {},
   "outputs": [
    {
     "output_type": "execute_result",
     "data": {
      "text/plain": [
       "torch.Size([3, 960])"
      ]
     },
     "metadata": {},
     "execution_count": 43
    }
   ],
   "source": [
    "torch.stack([g,h,g]).shape"
   ]
  },
  {
   "cell_type": "code",
   "execution_count": 35,
   "metadata": {},
   "outputs": [
    {
     "output_type": "execute_result",
     "data": {
      "text/plain": [
       "[<fastai.tabular.learner.TabularLearner at 0x7fc46beaae20>,\n",
       " <fastai.tabular.learner.TabularLearner at 0x7fc46beeb7c0>,\n",
       " <fastai.tabular.learner.TabularLearner at 0x7fc46be2f6d0>,\n",
       " <fastai.tabular.learner.TabularLearner at 0x7fc46bdf4a60>,\n",
       " <fastai.tabular.learner.TabularLearner at 0x7fc46be551c0>,\n",
       " <fastai.tabular.learner.TabularLearner at 0x7fc46be12a30>,\n",
       " <fastai.tabular.learner.TabularLearner at 0x7fc46bda0f70>]"
      ]
     },
     "metadata": {},
     "execution_count": 35
    }
   ],
   "source": [
    "ans"
   ]
  },
  {
   "cell_type": "code",
   "execution_count": null,
   "metadata": {},
   "outputs": [],
   "source": []
  }
 ]
}