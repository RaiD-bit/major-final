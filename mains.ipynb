{
 "metadata": {
  "language_info": {
   "codemirror_mode": {
    "name": "ipython",
    "version": 3
   },
   "file_extension": ".py",
   "mimetype": "text/x-python",
   "name": "python",
   "nbconvert_exporter": "python",
   "pygments_lexer": "ipython3",
   "version": "3.8.8"
  },
  "orig_nbformat": 2,
  "kernelspec": {
   "name": "python388jvsc74a57bd00c084c3e9801c312f3572363c5acf5f3e6c352bfe174afc75721a955fdba99f4",
   "display_name": "Python 3.8.8 64-bit ('birdcall': conda)"
  }
 },
 "nbformat": 4,
 "nbformat_minor": 2,
 "cells": [
  {
   "cell_type": "code",
   "execution_count": 1,
   "metadata": {},
   "outputs": [],
   "source": [
    "import pandas as pd\n",
    "import numpy as np \n",
    "from sklearn.feature_selection import SelectKBest, chi2\n",
    "from sklearn.preprocessing import StandardScaler\n",
    "from sklearn.decomposition import PCA\n",
    "import matplotlib.pyplot as plt\n",
    "from sklearn import model_selection \n",
    "import seaborn as sns \n",
    "from sklearn.model_selection import StratifiedKFold \n",
    "from sklearn import metrics\n",
    "from numpy import mean\n",
    "from sklearn.ensemble import RandomForestClassifier,AdaBoostClassifier,GradientBoostingClassifier\n",
    "from sklearn.model_selection import train_test_split\n",
    "from sklearn.datasets import make_classification\n",
    "from sklearn.model_selection import cross_val_score\n",
    "from sklearn.model_selection import RepeatedStratifiedKFold\n",
    "from sklearn.tree import DecisionTreeClassifier\n",
    "import os"
   ]
  },
  {
   "cell_type": "code",
   "execution_count": 9,
   "metadata": {},
   "outputs": [
    {
     "output_type": "execute_result",
     "data": {
      "text/plain": [
       "'JM1.csv'"
      ]
     },
     "metadata": {},
     "execution_count": 9
    }
   ],
   "source": [
    "z = os.path.split(\"Dataset/abc/JM1.csv\")\n",
    "z[1]"
   ]
  },
  {
   "cell_type": "code",
   "execution_count": 45,
   "metadata": {},
   "outputs": [
    {
     "output_type": "error",
     "ename": "TypeError",
     "evalue": "read_csv() got an unexpected keyword argument 'index'",
     "traceback": [
      "\u001b[0;31m---------------------------------------------------------------------------\u001b[0m",
      "\u001b[0;31mTypeError\u001b[0m                                 Traceback (most recent call last)",
      "\u001b[0;32m<ipython-input-45-4d4b6089ad4f>\u001b[0m in \u001b[0;36m<module>\u001b[0;34m\u001b[0m\n\u001b[0;32m----> 1\u001b[0;31m \u001b[0mdf\u001b[0m \u001b[0;34m=\u001b[0m \u001b[0mpd\u001b[0m\u001b[0;34m.\u001b[0m\u001b[0mread_csv\u001b[0m\u001b[0;34m(\u001b[0m\u001b[0;34m\"Dataset/JM1.csv\"\u001b[0m\u001b[0;34m,\u001b[0m\u001b[0mindex\u001b[0m\u001b[0;34m=\u001b[0m\u001b[0;32mFalse\u001b[0m\u001b[0;34m)\u001b[0m\u001b[0;34m\u001b[0m\u001b[0;34m\u001b[0m\u001b[0m\n\u001b[0m\u001b[1;32m      2\u001b[0m \u001b[0mdf\u001b[0m\u001b[0;34m[\u001b[0m\u001b[0;34m'label'\u001b[0m\u001b[0;34m]\u001b[0m \u001b[0;34m=\u001b[0m \u001b[0mdf\u001b[0m\u001b[0;34m[\u001b[0m\u001b[0;34m'label'\u001b[0m\u001b[0;34m]\u001b[0m\u001b[0;34m.\u001b[0m\u001b[0mmap\u001b[0m\u001b[0;34m(\u001b[0m\u001b[0;34m{\u001b[0m\u001b[0;34m\"b'N'\"\u001b[0m \u001b[0;34m:\u001b[0m\u001b[0;32mFalse\u001b[0m\u001b[0;34m,\u001b[0m\u001b[0;34m\"b'Y'\"\u001b[0m \u001b[0;34m:\u001b[0m\u001b[0;32mTrue\u001b[0m\u001b[0;34m}\u001b[0m\u001b[0;34m)\u001b[0m\u001b[0;34m\u001b[0m\u001b[0;34m\u001b[0m\u001b[0m\n\u001b[1;32m      3\u001b[0m \u001b[0mdf\u001b[0m\u001b[0;34m\u001b[0m\u001b[0;34m\u001b[0m\u001b[0m\n",
      "\u001b[0;31mTypeError\u001b[0m: read_csv() got an unexpected keyword argument 'index'"
     ]
    }
   ],
   "source": [
    "df = pd.read_csv(\"Dataset/JM1.csv\",index=False)\n",
    "df['label'] = df['label'].map({\"b'N'\" :False,\"b'Y'\" :True})\n",
    "df"
   ]
  },
  {
   "cell_type": "code",
   "execution_count": 42,
   "metadata": {},
   "outputs": [
    {
     "output_type": "execute_result",
     "data": {
      "text/plain": [
       "      LOC_BLANK  BRANCH_COUNT  LOC_CODE_AND_COMMENT  LOC_COMMENTS  \\\n",
       "0         447.0         826.0                  12.0         157.0   \n",
       "1          37.0          29.0                   8.0          42.0   \n",
       "2          11.0         405.0                   0.0          17.0   \n",
       "3         106.0         240.0                   7.0         344.0   \n",
       "4         101.0         464.0                  11.0          75.0   \n",
       "...         ...           ...                   ...           ...   \n",
       "9586        2.0           7.0                   0.0           0.0   \n",
       "9587        2.0           3.0                   0.0           0.0   \n",
       "9588       10.0           7.0                   0.0           1.0   \n",
       "9589        2.0           1.0                   0.0           0.0   \n",
       "9590        2.0           5.0                   1.0           0.0   \n",
       "\n",
       "      CYCLOMATIC_COMPLEXITY  DESIGN_COMPLEXITY  ESSENTIAL_COMPLEXITY  \\\n",
       "0                     470.0              385.0                 113.0   \n",
       "1                      19.0               19.0                   6.0   \n",
       "2                     404.0                2.0                   1.0   \n",
       "3                     127.0              105.0                  33.0   \n",
       "4                     263.0              256.0                 140.0   \n",
       "...                     ...                ...                   ...   \n",
       "9586                    4.0                4.0                   1.0   \n",
       "9587                    2.0                2.0                   1.0   \n",
       "9588                    4.0                2.0                   1.0   \n",
       "9589                    1.0                1.0                   1.0   \n",
       "9590                    3.0                1.0                   1.0   \n",
       "\n",
       "      LOC_EXECUTABLE  HALSTEAD_CONTENT  HALSTEAD_DIFFICULTY  ...  \\\n",
       "0             2824.0            210.28               384.45  ...   \n",
       "1              133.0            108.14                46.32  ...   \n",
       "2              814.0            101.20               206.01  ...   \n",
       "3              952.0            218.17               215.17  ...   \n",
       "4             1339.0            106.50               337.36  ...   \n",
       "...              ...               ...                  ...  ...   \n",
       "9586            13.0             32.93                 7.33  ...   \n",
       "9587             5.0             15.72                 8.25  ...   \n",
       "9588            29.0             19.68                26.40  ...   \n",
       "9589             6.0             17.44                 8.44  ...   \n",
       "9590            13.0             23.56                11.57  ...   \n",
       "\n",
       "      HALSTEAD_ERROR_EST  HALSTEAD_LENGTH  HALSTEAD_LEVEL  HALSTEAD_PROG_TIME  \\\n",
       "0                  26.95           8441.0            0.00          1726654.57   \n",
       "1                   1.67            685.0            0.02            12891.31   \n",
       "2                   6.95           2033.0            0.00           238607.05   \n",
       "3                  15.65           5669.0            0.00           561159.25   \n",
       "4                  11.98           4308.0            0.00           673377.60   \n",
       "...                  ...              ...             ...                 ...   \n",
       "9586                0.08             52.0            0.14               98.38   \n",
       "9587                0.04             30.0            0.12               59.43   \n",
       "9588                0.17            103.0            0.04              762.04   \n",
       "9589                0.05             36.0            0.12               68.98   \n",
       "9590                0.09             58.0            0.09              175.26   \n",
       "\n",
       "      HALSTEAD_VOLUME  NUM_OPERANDS  NUM_OPERATORS  NUM_UNIQUE_OPERANDS  \\\n",
       "0            80843.08        3021.0         5420.0                609.0   \n",
       "1             5009.32         295.0          390.0                121.0   \n",
       "2            20848.47         813.0         1220.0                811.0   \n",
       "3            46943.69        2301.0         3368.0                262.0   \n",
       "4            35928.07        1556.0         2752.0                226.0   \n",
       "...               ...           ...            ...                  ...   \n",
       "9586           241.48          22.0           30.0                 15.0   \n",
       "9587           129.66          11.0           19.0                  8.0   \n",
       "9588           519.57          44.0           59.0                 15.0   \n",
       "9589           147.15          15.0           21.0                  8.0   \n",
       "9590           272.63          27.0           31.0                 14.0   \n",
       "\n",
       "      NUM_UNIQUE_OPERATORS  LOC_TOTAL  \n",
       "0                    155.0     3442.0  \n",
       "1                     38.0      222.0  \n",
       "2                    411.0      844.0  \n",
       "3                     49.0     1411.0  \n",
       "4                     98.0     1532.0  \n",
       "...                    ...        ...  \n",
       "9586                  10.0       18.0  \n",
       "9587                  12.0        9.0  \n",
       "9588                  18.0       42.0  \n",
       "9589                   9.0       10.0  \n",
       "9590                  12.0       19.0  \n",
       "\n",
       "[9591 rows x 21 columns]"
      ],
      "text/html": "<div>\n<style scoped>\n    .dataframe tbody tr th:only-of-type {\n        vertical-align: middle;\n    }\n\n    .dataframe tbody tr th {\n        vertical-align: top;\n    }\n\n    .dataframe thead th {\n        text-align: right;\n    }\n</style>\n<table border=\"1\" class=\"dataframe\">\n  <thead>\n    <tr style=\"text-align: right;\">\n      <th></th>\n      <th>LOC_BLANK</th>\n      <th>BRANCH_COUNT</th>\n      <th>LOC_CODE_AND_COMMENT</th>\n      <th>LOC_COMMENTS</th>\n      <th>CYCLOMATIC_COMPLEXITY</th>\n      <th>DESIGN_COMPLEXITY</th>\n      <th>ESSENTIAL_COMPLEXITY</th>\n      <th>LOC_EXECUTABLE</th>\n      <th>HALSTEAD_CONTENT</th>\n      <th>HALSTEAD_DIFFICULTY</th>\n      <th>...</th>\n      <th>HALSTEAD_ERROR_EST</th>\n      <th>HALSTEAD_LENGTH</th>\n      <th>HALSTEAD_LEVEL</th>\n      <th>HALSTEAD_PROG_TIME</th>\n      <th>HALSTEAD_VOLUME</th>\n      <th>NUM_OPERANDS</th>\n      <th>NUM_OPERATORS</th>\n      <th>NUM_UNIQUE_OPERANDS</th>\n      <th>NUM_UNIQUE_OPERATORS</th>\n      <th>LOC_TOTAL</th>\n    </tr>\n  </thead>\n  <tbody>\n    <tr>\n      <th>0</th>\n      <td>447.0</td>\n      <td>826.0</td>\n      <td>12.0</td>\n      <td>157.0</td>\n      <td>470.0</td>\n      <td>385.0</td>\n      <td>113.0</td>\n      <td>2824.0</td>\n      <td>210.28</td>\n      <td>384.45</td>\n      <td>...</td>\n      <td>26.95</td>\n      <td>8441.0</td>\n      <td>0.00</td>\n      <td>1726654.57</td>\n      <td>80843.08</td>\n      <td>3021.0</td>\n      <td>5420.0</td>\n      <td>609.0</td>\n      <td>155.0</td>\n      <td>3442.0</td>\n    </tr>\n    <tr>\n      <th>1</th>\n      <td>37.0</td>\n      <td>29.0</td>\n      <td>8.0</td>\n      <td>42.0</td>\n      <td>19.0</td>\n      <td>19.0</td>\n      <td>6.0</td>\n      <td>133.0</td>\n      <td>108.14</td>\n      <td>46.32</td>\n      <td>...</td>\n      <td>1.67</td>\n      <td>685.0</td>\n      <td>0.02</td>\n      <td>12891.31</td>\n      <td>5009.32</td>\n      <td>295.0</td>\n      <td>390.0</td>\n      <td>121.0</td>\n      <td>38.0</td>\n      <td>222.0</td>\n    </tr>\n    <tr>\n      <th>2</th>\n      <td>11.0</td>\n      <td>405.0</td>\n      <td>0.0</td>\n      <td>17.0</td>\n      <td>404.0</td>\n      <td>2.0</td>\n      <td>1.0</td>\n      <td>814.0</td>\n      <td>101.20</td>\n      <td>206.01</td>\n      <td>...</td>\n      <td>6.95</td>\n      <td>2033.0</td>\n      <td>0.00</td>\n      <td>238607.05</td>\n      <td>20848.47</td>\n      <td>813.0</td>\n      <td>1220.0</td>\n      <td>811.0</td>\n      <td>411.0</td>\n      <td>844.0</td>\n    </tr>\n    <tr>\n      <th>3</th>\n      <td>106.0</td>\n      <td>240.0</td>\n      <td>7.0</td>\n      <td>344.0</td>\n      <td>127.0</td>\n      <td>105.0</td>\n      <td>33.0</td>\n      <td>952.0</td>\n      <td>218.17</td>\n      <td>215.17</td>\n      <td>...</td>\n      <td>15.65</td>\n      <td>5669.0</td>\n      <td>0.00</td>\n      <td>561159.25</td>\n      <td>46943.69</td>\n      <td>2301.0</td>\n      <td>3368.0</td>\n      <td>262.0</td>\n      <td>49.0</td>\n      <td>1411.0</td>\n    </tr>\n    <tr>\n      <th>4</th>\n      <td>101.0</td>\n      <td>464.0</td>\n      <td>11.0</td>\n      <td>75.0</td>\n      <td>263.0</td>\n      <td>256.0</td>\n      <td>140.0</td>\n      <td>1339.0</td>\n      <td>106.50</td>\n      <td>337.36</td>\n      <td>...</td>\n      <td>11.98</td>\n      <td>4308.0</td>\n      <td>0.00</td>\n      <td>673377.60</td>\n      <td>35928.07</td>\n      <td>1556.0</td>\n      <td>2752.0</td>\n      <td>226.0</td>\n      <td>98.0</td>\n      <td>1532.0</td>\n    </tr>\n    <tr>\n      <th>...</th>\n      <td>...</td>\n      <td>...</td>\n      <td>...</td>\n      <td>...</td>\n      <td>...</td>\n      <td>...</td>\n      <td>...</td>\n      <td>...</td>\n      <td>...</td>\n      <td>...</td>\n      <td>...</td>\n      <td>...</td>\n      <td>...</td>\n      <td>...</td>\n      <td>...</td>\n      <td>...</td>\n      <td>...</td>\n      <td>...</td>\n      <td>...</td>\n      <td>...</td>\n      <td>...</td>\n    </tr>\n    <tr>\n      <th>9586</th>\n      <td>2.0</td>\n      <td>7.0</td>\n      <td>0.0</td>\n      <td>0.0</td>\n      <td>4.0</td>\n      <td>4.0</td>\n      <td>1.0</td>\n      <td>13.0</td>\n      <td>32.93</td>\n      <td>7.33</td>\n      <td>...</td>\n      <td>0.08</td>\n      <td>52.0</td>\n      <td>0.14</td>\n      <td>98.38</td>\n      <td>241.48</td>\n      <td>22.0</td>\n      <td>30.0</td>\n      <td>15.0</td>\n      <td>10.0</td>\n      <td>18.0</td>\n    </tr>\n    <tr>\n      <th>9587</th>\n      <td>2.0</td>\n      <td>3.0</td>\n      <td>0.0</td>\n      <td>0.0</td>\n      <td>2.0</td>\n      <td>2.0</td>\n      <td>1.0</td>\n      <td>5.0</td>\n      <td>15.72</td>\n      <td>8.25</td>\n      <td>...</td>\n      <td>0.04</td>\n      <td>30.0</td>\n      <td>0.12</td>\n      <td>59.43</td>\n      <td>129.66</td>\n      <td>11.0</td>\n      <td>19.0</td>\n      <td>8.0</td>\n      <td>12.0</td>\n      <td>9.0</td>\n    </tr>\n    <tr>\n      <th>9588</th>\n      <td>10.0</td>\n      <td>7.0</td>\n      <td>0.0</td>\n      <td>1.0</td>\n      <td>4.0</td>\n      <td>2.0</td>\n      <td>1.0</td>\n      <td>29.0</td>\n      <td>19.68</td>\n      <td>26.40</td>\n      <td>...</td>\n      <td>0.17</td>\n      <td>103.0</td>\n      <td>0.04</td>\n      <td>762.04</td>\n      <td>519.57</td>\n      <td>44.0</td>\n      <td>59.0</td>\n      <td>15.0</td>\n      <td>18.0</td>\n      <td>42.0</td>\n    </tr>\n    <tr>\n      <th>9589</th>\n      <td>2.0</td>\n      <td>1.0</td>\n      <td>0.0</td>\n      <td>0.0</td>\n      <td>1.0</td>\n      <td>1.0</td>\n      <td>1.0</td>\n      <td>6.0</td>\n      <td>17.44</td>\n      <td>8.44</td>\n      <td>...</td>\n      <td>0.05</td>\n      <td>36.0</td>\n      <td>0.12</td>\n      <td>68.98</td>\n      <td>147.15</td>\n      <td>15.0</td>\n      <td>21.0</td>\n      <td>8.0</td>\n      <td>9.0</td>\n      <td>10.0</td>\n    </tr>\n    <tr>\n      <th>9590</th>\n      <td>2.0</td>\n      <td>5.0</td>\n      <td>1.0</td>\n      <td>0.0</td>\n      <td>3.0</td>\n      <td>1.0</td>\n      <td>1.0</td>\n      <td>13.0</td>\n      <td>23.56</td>\n      <td>11.57</td>\n      <td>...</td>\n      <td>0.09</td>\n      <td>58.0</td>\n      <td>0.09</td>\n      <td>175.26</td>\n      <td>272.63</td>\n      <td>27.0</td>\n      <td>31.0</td>\n      <td>14.0</td>\n      <td>12.0</td>\n      <td>19.0</td>\n    </tr>\n  </tbody>\n</table>\n<p>9591 rows × 21 columns</p>\n</div>"
     },
     "metadata": {},
     "execution_count": 42
    }
   ],
   "source": [
    "df.iloc[:,:-1]"
   ]
  },
  {
   "cell_type": "code",
   "execution_count": 31,
   "metadata": {},
   "outputs": [],
   "source": [
    "def featureSelection(df):\n",
    "        best_features = SelectKBest(score_func=chi2,k=10)\n",
    "        fit = best_features.fit(df.iloc[:,:-1],df.iloc[:,-1])\n",
    "\n",
    "        dfscores = pd.DataFrame(fit.scores_)\n",
    "        df_cols = pd.DataFrame(df.iloc[:,:-1].columns)\n",
    "\n",
    "        feature_scores = pd.concat([df_cols,dfscores],axis=1)\n",
    "        feature_scores.columns = ['parameters','score']\n",
    "        selected_features = feature_scores.nlargest(10,'score').parameters.values\n",
    "        df = df.drop(selected_features, axis=1)\n",
    "        print(df.head())\n",
    "        return selected_features\n"
   ]
  },
  {
   "cell_type": "code",
   "execution_count": 35,
   "metadata": {},
   "outputs": [],
   "source": [
    "\n",
    "def normalize(df):\n",
    "    result = df.copy()\n",
    "    for col in df.iloc[:,:-1].columns:\n",
    "        max_value = df[col].max()\n",
    "        min_value = df[col].min()\n",
    "        result[col] = (df[col] - min_value) / (max_value - min_value)\n",
    "    print(df.head())\n",
    "    return result\n",
    "\n",
    "def preprocessing(df):\n",
    "    # select k best columns\n",
    "    best_features = SelectKBest(score_func=chi2,k=10)\n",
    "    fit = best_features.fit(df.iloc[:,:-1],df.iloc[:,-1])\n",
    "\n",
    "    dfscores = pd.DataFrame(fit.scores_)\n",
    "    df_cols = pd.DataFrame(df.iloc[:,:-1].columns)\n",
    "\n",
    "    feature_scores = pd.concat([df_cols,dfscores],axis=1)\n",
    "    feature_scores.columns = ['parameters','score']\n",
    "    selected_features = feature_scores.nlargest(10,'score').parameters.values\n",
    "    df = df.drop(selected_features, axis=1)\n",
    "    # normalize the data\n",
    "    df = normalize(df)\n",
    "    return df\n"
   ]
  },
  {
   "cell_type": "code",
   "execution_count": 47,
   "metadata": {},
   "outputs": [
    {
     "output_type": "stream",
     "name": "stdout",
     "text": [
      "   LOC_BLANK  LOC_CODE_AND_COMMENT  LOC_COMMENTS  CYCLOMATIC_COMPLEXITY  \\\n0      447.0                  12.0         157.0                  470.0   \n1       37.0                   8.0          42.0                   19.0   \n2       11.0                   0.0          17.0                  404.0   \n3      106.0                   7.0         344.0                  127.0   \n4      101.0                  11.0          75.0                  263.0   \n\n   DESIGN_COMPLEXITY  ESSENTIAL_COMPLEXITY  HALSTEAD_CONTENT  \\\n0              385.0                 113.0            210.28   \n1               19.0                   6.0            108.14   \n2                2.0                   1.0            101.20   \n3              105.0                  33.0            218.17   \n4              256.0                 140.0            106.50   \n\n   HALSTEAD_DIFFICULTY  HALSTEAD_ERROR_EST  HALSTEAD_LEVEL  \\\n0               384.45               26.95            0.00   \n1                46.32                1.67            0.02   \n2               206.01                6.95            0.00   \n3               215.17               15.65            0.00   \n4               337.36               11.98            0.00   \n\n   NUM_UNIQUE_OPERATORS  label  \n0                 155.0   True  \n1                  38.0   True  \n2                 411.0   True  \n3                  49.0   True  \n4                  98.0   True  \n"
     ]
    }
   ],
   "source": [
    "df = preprocessing(df)"
   ]
  },
  {
   "cell_type": "code",
   "execution_count": 37,
   "metadata": {},
   "outputs": [
    {
     "output_type": "execute_result",
     "data": {
      "text/plain": [
       "      LOC_BLANK  LOC_CODE_AND_COMMENT  LOC_COMMENTS  CYCLOMATIC_COMPLEXITY  \\\n",
       "0      1.000000              0.111111      0.456395               1.000000   \n",
       "1      0.082774              0.074074      0.122093               0.038380   \n",
       "2      0.024609              0.000000      0.049419               0.859275   \n",
       "3      0.237136              0.064815      1.000000               0.268657   \n",
       "4      0.225951              0.101852      0.218023               0.558635   \n",
       "...         ...                   ...           ...                    ...   \n",
       "9586   0.004474              0.000000      0.000000               0.006397   \n",
       "9587   0.004474              0.000000      0.000000               0.002132   \n",
       "9588   0.022371              0.000000      0.002907               0.006397   \n",
       "9589   0.004474              0.000000      0.000000               0.000000   \n",
       "9590   0.004474              0.009259      0.000000               0.004264   \n",
       "\n",
       "      DESIGN_COMPLEXITY  ESSENTIAL_COMPLEXITY  HALSTEAD_CONTENT  \\\n",
       "0              0.957606              0.682927          0.369055   \n",
       "1              0.044888              0.030488          0.189793   \n",
       "2              0.002494              0.000000          0.177612   \n",
       "3              0.259352              0.195122          0.382902   \n",
       "4              0.635910              0.847561          0.186914   \n",
       "...                 ...                   ...               ...   \n",
       "9586           0.007481              0.000000          0.057794   \n",
       "9587           0.002494              0.000000          0.027590   \n",
       "9588           0.002494              0.000000          0.034540   \n",
       "9589           0.000000              0.000000          0.030608   \n",
       "9590           0.000000              0.000000          0.041349   \n",
       "\n",
       "      HALSTEAD_DIFFICULTY  HALSTEAD_ERROR_EST  HALSTEAD_LEVEL  \\\n",
       "0                0.919297            1.000000            0.00   \n",
       "1                0.110760            0.061967            0.02   \n",
       "2                0.492611            0.257885            0.00   \n",
       "3                0.514515            0.580705            0.00   \n",
       "4                0.806695            0.444527            0.00   \n",
       "...                   ...                 ...             ...   \n",
       "9586             0.017527            0.002968            0.14   \n",
       "9587             0.019727            0.001484            0.12   \n",
       "9588             0.063128            0.006308            0.04   \n",
       "9589             0.020182            0.001855            0.12   \n",
       "9590             0.027666            0.003340            0.09   \n",
       "\n",
       "      NUM_UNIQUE_OPERATORS  label  \n",
       "0                 0.377129   True  \n",
       "1                 0.092457   True  \n",
       "2                 1.000000   True  \n",
       "3                 0.119221   True  \n",
       "4                 0.238443   True  \n",
       "...                    ...    ...  \n",
       "9586              0.024331  False  \n",
       "9587              0.029197  False  \n",
       "9588              0.043796  False  \n",
       "9589              0.021898  False  \n",
       "9590              0.029197  False  \n",
       "\n",
       "[9591 rows x 12 columns]"
      ],
      "text/html": "<div>\n<style scoped>\n    .dataframe tbody tr th:only-of-type {\n        vertical-align: middle;\n    }\n\n    .dataframe tbody tr th {\n        vertical-align: top;\n    }\n\n    .dataframe thead th {\n        text-align: right;\n    }\n</style>\n<table border=\"1\" class=\"dataframe\">\n  <thead>\n    <tr style=\"text-align: right;\">\n      <th></th>\n      <th>LOC_BLANK</th>\n      <th>LOC_CODE_AND_COMMENT</th>\n      <th>LOC_COMMENTS</th>\n      <th>CYCLOMATIC_COMPLEXITY</th>\n      <th>DESIGN_COMPLEXITY</th>\n      <th>ESSENTIAL_COMPLEXITY</th>\n      <th>HALSTEAD_CONTENT</th>\n      <th>HALSTEAD_DIFFICULTY</th>\n      <th>HALSTEAD_ERROR_EST</th>\n      <th>HALSTEAD_LEVEL</th>\n      <th>NUM_UNIQUE_OPERATORS</th>\n      <th>label</th>\n    </tr>\n  </thead>\n  <tbody>\n    <tr>\n      <th>0</th>\n      <td>1.000000</td>\n      <td>0.111111</td>\n      <td>0.456395</td>\n      <td>1.000000</td>\n      <td>0.957606</td>\n      <td>0.682927</td>\n      <td>0.369055</td>\n      <td>0.919297</td>\n      <td>1.000000</td>\n      <td>0.00</td>\n      <td>0.377129</td>\n      <td>True</td>\n    </tr>\n    <tr>\n      <th>1</th>\n      <td>0.082774</td>\n      <td>0.074074</td>\n      <td>0.122093</td>\n      <td>0.038380</td>\n      <td>0.044888</td>\n      <td>0.030488</td>\n      <td>0.189793</td>\n      <td>0.110760</td>\n      <td>0.061967</td>\n      <td>0.02</td>\n      <td>0.092457</td>\n      <td>True</td>\n    </tr>\n    <tr>\n      <th>2</th>\n      <td>0.024609</td>\n      <td>0.000000</td>\n      <td>0.049419</td>\n      <td>0.859275</td>\n      <td>0.002494</td>\n      <td>0.000000</td>\n      <td>0.177612</td>\n      <td>0.492611</td>\n      <td>0.257885</td>\n      <td>0.00</td>\n      <td>1.000000</td>\n      <td>True</td>\n    </tr>\n    <tr>\n      <th>3</th>\n      <td>0.237136</td>\n      <td>0.064815</td>\n      <td>1.000000</td>\n      <td>0.268657</td>\n      <td>0.259352</td>\n      <td>0.195122</td>\n      <td>0.382902</td>\n      <td>0.514515</td>\n      <td>0.580705</td>\n      <td>0.00</td>\n      <td>0.119221</td>\n      <td>True</td>\n    </tr>\n    <tr>\n      <th>4</th>\n      <td>0.225951</td>\n      <td>0.101852</td>\n      <td>0.218023</td>\n      <td>0.558635</td>\n      <td>0.635910</td>\n      <td>0.847561</td>\n      <td>0.186914</td>\n      <td>0.806695</td>\n      <td>0.444527</td>\n      <td>0.00</td>\n      <td>0.238443</td>\n      <td>True</td>\n    </tr>\n    <tr>\n      <th>...</th>\n      <td>...</td>\n      <td>...</td>\n      <td>...</td>\n      <td>...</td>\n      <td>...</td>\n      <td>...</td>\n      <td>...</td>\n      <td>...</td>\n      <td>...</td>\n      <td>...</td>\n      <td>...</td>\n      <td>...</td>\n    </tr>\n    <tr>\n      <th>9586</th>\n      <td>0.004474</td>\n      <td>0.000000</td>\n      <td>0.000000</td>\n      <td>0.006397</td>\n      <td>0.007481</td>\n      <td>0.000000</td>\n      <td>0.057794</td>\n      <td>0.017527</td>\n      <td>0.002968</td>\n      <td>0.14</td>\n      <td>0.024331</td>\n      <td>False</td>\n    </tr>\n    <tr>\n      <th>9587</th>\n      <td>0.004474</td>\n      <td>0.000000</td>\n      <td>0.000000</td>\n      <td>0.002132</td>\n      <td>0.002494</td>\n      <td>0.000000</td>\n      <td>0.027590</td>\n      <td>0.019727</td>\n      <td>0.001484</td>\n      <td>0.12</td>\n      <td>0.029197</td>\n      <td>False</td>\n    </tr>\n    <tr>\n      <th>9588</th>\n      <td>0.022371</td>\n      <td>0.000000</td>\n      <td>0.002907</td>\n      <td>0.006397</td>\n      <td>0.002494</td>\n      <td>0.000000</td>\n      <td>0.034540</td>\n      <td>0.063128</td>\n      <td>0.006308</td>\n      <td>0.04</td>\n      <td>0.043796</td>\n      <td>False</td>\n    </tr>\n    <tr>\n      <th>9589</th>\n      <td>0.004474</td>\n      <td>0.000000</td>\n      <td>0.000000</td>\n      <td>0.000000</td>\n      <td>0.000000</td>\n      <td>0.000000</td>\n      <td>0.030608</td>\n      <td>0.020182</td>\n      <td>0.001855</td>\n      <td>0.12</td>\n      <td>0.021898</td>\n      <td>False</td>\n    </tr>\n    <tr>\n      <th>9590</th>\n      <td>0.004474</td>\n      <td>0.009259</td>\n      <td>0.000000</td>\n      <td>0.004264</td>\n      <td>0.000000</td>\n      <td>0.000000</td>\n      <td>0.041349</td>\n      <td>0.027666</td>\n      <td>0.003340</td>\n      <td>0.09</td>\n      <td>0.029197</td>\n      <td>False</td>\n    </tr>\n  </tbody>\n</table>\n<p>9591 rows × 12 columns</p>\n</div>"
     },
     "metadata": {},
     "execution_count": 37
    }
   ],
   "source": [
    "df"
   ]
  },
  {
   "cell_type": "code",
   "execution_count": 38,
   "metadata": {},
   "outputs": [],
   "source": [
    "X = df.values"
   ]
  },
  {
   "cell_type": "code",
   "execution_count": 40,
   "metadata": {},
   "outputs": [
    {
     "output_type": "execute_result",
     "data": {
      "text/plain": [
       "(9591, 12)"
      ]
     },
     "metadata": {},
     "execution_count": 40
    }
   ],
   "source": [
    "X.shape"
   ]
  },
  {
   "cell_type": "code",
   "execution_count": 48,
   "metadata": {},
   "outputs": [
    {
     "output_type": "execute_result",
     "data": {
      "text/plain": [
       "      LOC_BLANK  LOC_CODE_AND_COMMENT  LOC_COMMENTS  CYCLOMATIC_COMPLEXITY  \\\n",
       "0      1.000000              0.111111      0.456395               1.000000   \n",
       "1      0.082774              0.074074      0.122093               0.038380   \n",
       "2      0.024609              0.000000      0.049419               0.859275   \n",
       "3      0.237136              0.064815      1.000000               0.268657   \n",
       "4      0.225951              0.101852      0.218023               0.558635   \n",
       "...         ...                   ...           ...                    ...   \n",
       "9586   0.004474              0.000000      0.000000               0.006397   \n",
       "9587   0.004474              0.000000      0.000000               0.002132   \n",
       "9588   0.022371              0.000000      0.002907               0.006397   \n",
       "9589   0.004474              0.000000      0.000000               0.000000   \n",
       "9590   0.004474              0.009259      0.000000               0.004264   \n",
       "\n",
       "      DESIGN_COMPLEXITY  ESSENTIAL_COMPLEXITY  HALSTEAD_CONTENT  \\\n",
       "0              0.957606              0.682927          0.369055   \n",
       "1              0.044888              0.030488          0.189793   \n",
       "2              0.002494              0.000000          0.177612   \n",
       "3              0.259352              0.195122          0.382902   \n",
       "4              0.635910              0.847561          0.186914   \n",
       "...                 ...                   ...               ...   \n",
       "9586           0.007481              0.000000          0.057794   \n",
       "9587           0.002494              0.000000          0.027590   \n",
       "9588           0.002494              0.000000          0.034540   \n",
       "9589           0.000000              0.000000          0.030608   \n",
       "9590           0.000000              0.000000          0.041349   \n",
       "\n",
       "      HALSTEAD_DIFFICULTY  HALSTEAD_ERROR_EST  HALSTEAD_LEVEL  \\\n",
       "0                0.919297            1.000000            0.00   \n",
       "1                0.110760            0.061967            0.02   \n",
       "2                0.492611            0.257885            0.00   \n",
       "3                0.514515            0.580705            0.00   \n",
       "4                0.806695            0.444527            0.00   \n",
       "...                   ...                 ...             ...   \n",
       "9586             0.017527            0.002968            0.14   \n",
       "9587             0.019727            0.001484            0.12   \n",
       "9588             0.063128            0.006308            0.04   \n",
       "9589             0.020182            0.001855            0.12   \n",
       "9590             0.027666            0.003340            0.09   \n",
       "\n",
       "      NUM_UNIQUE_OPERATORS  label  \n",
       "0                 0.377129   True  \n",
       "1                 0.092457   True  \n",
       "2                 1.000000   True  \n",
       "3                 0.119221   True  \n",
       "4                 0.238443   True  \n",
       "...                    ...    ...  \n",
       "9586              0.024331  False  \n",
       "9587              0.029197  False  \n",
       "9588              0.043796  False  \n",
       "9589              0.021898  False  \n",
       "9590              0.029197  False  \n",
       "\n",
       "[9591 rows x 12 columns]"
      ],
      "text/html": "<div>\n<style scoped>\n    .dataframe tbody tr th:only-of-type {\n        vertical-align: middle;\n    }\n\n    .dataframe tbody tr th {\n        vertical-align: top;\n    }\n\n    .dataframe thead th {\n        text-align: right;\n    }\n</style>\n<table border=\"1\" class=\"dataframe\">\n  <thead>\n    <tr style=\"text-align: right;\">\n      <th></th>\n      <th>LOC_BLANK</th>\n      <th>LOC_CODE_AND_COMMENT</th>\n      <th>LOC_COMMENTS</th>\n      <th>CYCLOMATIC_COMPLEXITY</th>\n      <th>DESIGN_COMPLEXITY</th>\n      <th>ESSENTIAL_COMPLEXITY</th>\n      <th>HALSTEAD_CONTENT</th>\n      <th>HALSTEAD_DIFFICULTY</th>\n      <th>HALSTEAD_ERROR_EST</th>\n      <th>HALSTEAD_LEVEL</th>\n      <th>NUM_UNIQUE_OPERATORS</th>\n      <th>label</th>\n    </tr>\n  </thead>\n  <tbody>\n    <tr>\n      <th>0</th>\n      <td>1.000000</td>\n      <td>0.111111</td>\n      <td>0.456395</td>\n      <td>1.000000</td>\n      <td>0.957606</td>\n      <td>0.682927</td>\n      <td>0.369055</td>\n      <td>0.919297</td>\n      <td>1.000000</td>\n      <td>0.00</td>\n      <td>0.377129</td>\n      <td>True</td>\n    </tr>\n    <tr>\n      <th>1</th>\n      <td>0.082774</td>\n      <td>0.074074</td>\n      <td>0.122093</td>\n      <td>0.038380</td>\n      <td>0.044888</td>\n      <td>0.030488</td>\n      <td>0.189793</td>\n      <td>0.110760</td>\n      <td>0.061967</td>\n      <td>0.02</td>\n      <td>0.092457</td>\n      <td>True</td>\n    </tr>\n    <tr>\n      <th>2</th>\n      <td>0.024609</td>\n      <td>0.000000</td>\n      <td>0.049419</td>\n      <td>0.859275</td>\n      <td>0.002494</td>\n      <td>0.000000</td>\n      <td>0.177612</td>\n      <td>0.492611</td>\n      <td>0.257885</td>\n      <td>0.00</td>\n      <td>1.000000</td>\n      <td>True</td>\n    </tr>\n    <tr>\n      <th>3</th>\n      <td>0.237136</td>\n      <td>0.064815</td>\n      <td>1.000000</td>\n      <td>0.268657</td>\n      <td>0.259352</td>\n      <td>0.195122</td>\n      <td>0.382902</td>\n      <td>0.514515</td>\n      <td>0.580705</td>\n      <td>0.00</td>\n      <td>0.119221</td>\n      <td>True</td>\n    </tr>\n    <tr>\n      <th>4</th>\n      <td>0.225951</td>\n      <td>0.101852</td>\n      <td>0.218023</td>\n      <td>0.558635</td>\n      <td>0.635910</td>\n      <td>0.847561</td>\n      <td>0.186914</td>\n      <td>0.806695</td>\n      <td>0.444527</td>\n      <td>0.00</td>\n      <td>0.238443</td>\n      <td>True</td>\n    </tr>\n    <tr>\n      <th>...</th>\n      <td>...</td>\n      <td>...</td>\n      <td>...</td>\n      <td>...</td>\n      <td>...</td>\n      <td>...</td>\n      <td>...</td>\n      <td>...</td>\n      <td>...</td>\n      <td>...</td>\n      <td>...</td>\n      <td>...</td>\n    </tr>\n    <tr>\n      <th>9586</th>\n      <td>0.004474</td>\n      <td>0.000000</td>\n      <td>0.000000</td>\n      <td>0.006397</td>\n      <td>0.007481</td>\n      <td>0.000000</td>\n      <td>0.057794</td>\n      <td>0.017527</td>\n      <td>0.002968</td>\n      <td>0.14</td>\n      <td>0.024331</td>\n      <td>False</td>\n    </tr>\n    <tr>\n      <th>9587</th>\n      <td>0.004474</td>\n      <td>0.000000</td>\n      <td>0.000000</td>\n      <td>0.002132</td>\n      <td>0.002494</td>\n      <td>0.000000</td>\n      <td>0.027590</td>\n      <td>0.019727</td>\n      <td>0.001484</td>\n      <td>0.12</td>\n      <td>0.029197</td>\n      <td>False</td>\n    </tr>\n    <tr>\n      <th>9588</th>\n      <td>0.022371</td>\n      <td>0.000000</td>\n      <td>0.002907</td>\n      <td>0.006397</td>\n      <td>0.002494</td>\n      <td>0.000000</td>\n      <td>0.034540</td>\n      <td>0.063128</td>\n      <td>0.006308</td>\n      <td>0.04</td>\n      <td>0.043796</td>\n      <td>False</td>\n    </tr>\n    <tr>\n      <th>9589</th>\n      <td>0.004474</td>\n      <td>0.000000</td>\n      <td>0.000000</td>\n      <td>0.000000</td>\n      <td>0.000000</td>\n      <td>0.000000</td>\n      <td>0.030608</td>\n      <td>0.020182</td>\n      <td>0.001855</td>\n      <td>0.12</td>\n      <td>0.021898</td>\n      <td>False</td>\n    </tr>\n    <tr>\n      <th>9590</th>\n      <td>0.004474</td>\n      <td>0.009259</td>\n      <td>0.000000</td>\n      <td>0.004264</td>\n      <td>0.000000</td>\n      <td>0.000000</td>\n      <td>0.041349</td>\n      <td>0.027666</td>\n      <td>0.003340</td>\n      <td>0.09</td>\n      <td>0.029197</td>\n      <td>False</td>\n    </tr>\n  </tbody>\n</table>\n<p>9591 rows × 12 columns</p>\n</div>"
     },
     "metadata": {},
     "execution_count": 48
    }
   ],
   "source": [
    "df"
   ]
  },
  {
   "cell_type": "code",
   "execution_count": 49,
   "metadata": {},
   "outputs": [],
   "source": [
    "train,test = train_test_split(df,test_size=0.1)"
   ]
  },
  {
   "cell_type": "code",
   "execution_count": 50,
   "metadata": {},
   "outputs": [
    {
     "output_type": "execute_result",
     "data": {
      "text/plain": [
       "      LOC_BLANK  LOC_CODE_AND_COMMENT  LOC_COMMENTS  CYCLOMATIC_COMPLEXITY  \\\n",
       "2186   0.008949              0.000000      0.008721               0.010661   \n",
       "2665   0.008949              0.000000      0.000000               0.006397   \n",
       "6054   0.013423              0.000000      0.005814               0.021322   \n",
       "5373   0.031320              0.009259      0.020349               0.042644   \n",
       "4109   0.002237              0.000000      0.000000               0.008529   \n",
       "...         ...                   ...           ...                    ...   \n",
       "5051   0.006711              0.000000      0.000000               0.004264   \n",
       "4998   0.004474              0.009259      0.011628               0.021322   \n",
       "2987   0.002237              0.000000      0.000000               0.000000   \n",
       "4871   0.006711              0.000000      0.008721               0.004264   \n",
       "4275   0.002237              0.000000      0.000000               0.004264   \n",
       "\n",
       "      DESIGN_COMPLEXITY  ESSENTIAL_COMPLEXITY  HALSTEAD_CONTENT  \\\n",
       "2186           0.004988              0.000000          0.033803   \n",
       "2665           0.002494              0.012195          0.036453   \n",
       "6054           0.014963              0.000000          0.036453   \n",
       "5373           0.027431              0.036585          0.117554   \n",
       "4109           0.002494              0.024390          0.020464   \n",
       "...                 ...                   ...               ...   \n",
       "5051           0.002494              0.000000          0.022816   \n",
       "4998           0.007481              0.000000          0.068693   \n",
       "2987           0.000000              0.000000          0.038471   \n",
       "4871           0.004988              0.000000          0.100706   \n",
       "4275           0.000000              0.012195          0.016585   \n",
       "\n",
       "      HALSTEAD_DIFFICULTY  HALSTEAD_ERROR_EST  HALSTEAD_LEVEL  \\\n",
       "2186             0.040985            0.004082            0.06   \n",
       "2665             0.065471            0.007050            0.04   \n",
       "6054             0.094165            0.010019            0.03   \n",
       "5373             0.057461            0.020037            0.04   \n",
       "4109             0.045744            0.002597            0.05   \n",
       "...                   ...                 ...             ...   \n",
       "5051             0.031612            0.002226            0.08   \n",
       "4998             0.045433            0.009276            0.05   \n",
       "2987             0.013319            0.001484            0.18   \n",
       "4871             0.014586            0.004453            0.16   \n",
       "4275             0.026303            0.001113            0.09   \n",
       "\n",
       "      NUM_UNIQUE_OPERATORS  label  \n",
       "2186              0.031630  False  \n",
       "2665              0.046229  False  \n",
       "6054              0.051095  False  \n",
       "5373              0.051095  False  \n",
       "4109              0.041363  False  \n",
       "...                    ...    ...  \n",
       "5051              0.034063  False  \n",
       "4998              0.034063  False  \n",
       "2987              0.014599  False  \n",
       "4871              0.019465  False  \n",
       "4275              0.026764  False  \n",
       "\n",
       "[8631 rows x 12 columns]"
      ],
      "text/html": "<div>\n<style scoped>\n    .dataframe tbody tr th:only-of-type {\n        vertical-align: middle;\n    }\n\n    .dataframe tbody tr th {\n        vertical-align: top;\n    }\n\n    .dataframe thead th {\n        text-align: right;\n    }\n</style>\n<table border=\"1\" class=\"dataframe\">\n  <thead>\n    <tr style=\"text-align: right;\">\n      <th></th>\n      <th>LOC_BLANK</th>\n      <th>LOC_CODE_AND_COMMENT</th>\n      <th>LOC_COMMENTS</th>\n      <th>CYCLOMATIC_COMPLEXITY</th>\n      <th>DESIGN_COMPLEXITY</th>\n      <th>ESSENTIAL_COMPLEXITY</th>\n      <th>HALSTEAD_CONTENT</th>\n      <th>HALSTEAD_DIFFICULTY</th>\n      <th>HALSTEAD_ERROR_EST</th>\n      <th>HALSTEAD_LEVEL</th>\n      <th>NUM_UNIQUE_OPERATORS</th>\n      <th>label</th>\n    </tr>\n  </thead>\n  <tbody>\n    <tr>\n      <th>2186</th>\n      <td>0.008949</td>\n      <td>0.000000</td>\n      <td>0.008721</td>\n      <td>0.010661</td>\n      <td>0.004988</td>\n      <td>0.000000</td>\n      <td>0.033803</td>\n      <td>0.040985</td>\n      <td>0.004082</td>\n      <td>0.06</td>\n      <td>0.031630</td>\n      <td>False</td>\n    </tr>\n    <tr>\n      <th>2665</th>\n      <td>0.008949</td>\n      <td>0.000000</td>\n      <td>0.000000</td>\n      <td>0.006397</td>\n      <td>0.002494</td>\n      <td>0.012195</td>\n      <td>0.036453</td>\n      <td>0.065471</td>\n      <td>0.007050</td>\n      <td>0.04</td>\n      <td>0.046229</td>\n      <td>False</td>\n    </tr>\n    <tr>\n      <th>6054</th>\n      <td>0.013423</td>\n      <td>0.000000</td>\n      <td>0.005814</td>\n      <td>0.021322</td>\n      <td>0.014963</td>\n      <td>0.000000</td>\n      <td>0.036453</td>\n      <td>0.094165</td>\n      <td>0.010019</td>\n      <td>0.03</td>\n      <td>0.051095</td>\n      <td>False</td>\n    </tr>\n    <tr>\n      <th>5373</th>\n      <td>0.031320</td>\n      <td>0.009259</td>\n      <td>0.020349</td>\n      <td>0.042644</td>\n      <td>0.027431</td>\n      <td>0.036585</td>\n      <td>0.117554</td>\n      <td>0.057461</td>\n      <td>0.020037</td>\n      <td>0.04</td>\n      <td>0.051095</td>\n      <td>False</td>\n    </tr>\n    <tr>\n      <th>4109</th>\n      <td>0.002237</td>\n      <td>0.000000</td>\n      <td>0.000000</td>\n      <td>0.008529</td>\n      <td>0.002494</td>\n      <td>0.024390</td>\n      <td>0.020464</td>\n      <td>0.045744</td>\n      <td>0.002597</td>\n      <td>0.05</td>\n      <td>0.041363</td>\n      <td>False</td>\n    </tr>\n    <tr>\n      <th>...</th>\n      <td>...</td>\n      <td>...</td>\n      <td>...</td>\n      <td>...</td>\n      <td>...</td>\n      <td>...</td>\n      <td>...</td>\n      <td>...</td>\n      <td>...</td>\n      <td>...</td>\n      <td>...</td>\n      <td>...</td>\n    </tr>\n    <tr>\n      <th>5051</th>\n      <td>0.006711</td>\n      <td>0.000000</td>\n      <td>0.000000</td>\n      <td>0.004264</td>\n      <td>0.002494</td>\n      <td>0.000000</td>\n      <td>0.022816</td>\n      <td>0.031612</td>\n      <td>0.002226</td>\n      <td>0.08</td>\n      <td>0.034063</td>\n      <td>False</td>\n    </tr>\n    <tr>\n      <th>4998</th>\n      <td>0.004474</td>\n      <td>0.009259</td>\n      <td>0.011628</td>\n      <td>0.021322</td>\n      <td>0.007481</td>\n      <td>0.000000</td>\n      <td>0.068693</td>\n      <td>0.045433</td>\n      <td>0.009276</td>\n      <td>0.05</td>\n      <td>0.034063</td>\n      <td>False</td>\n    </tr>\n    <tr>\n      <th>2987</th>\n      <td>0.002237</td>\n      <td>0.000000</td>\n      <td>0.000000</td>\n      <td>0.000000</td>\n      <td>0.000000</td>\n      <td>0.000000</td>\n      <td>0.038471</td>\n      <td>0.013319</td>\n      <td>0.001484</td>\n      <td>0.18</td>\n      <td>0.014599</td>\n      <td>False</td>\n    </tr>\n    <tr>\n      <th>4871</th>\n      <td>0.006711</td>\n      <td>0.000000</td>\n      <td>0.008721</td>\n      <td>0.004264</td>\n      <td>0.004988</td>\n      <td>0.000000</td>\n      <td>0.100706</td>\n      <td>0.014586</td>\n      <td>0.004453</td>\n      <td>0.16</td>\n      <td>0.019465</td>\n      <td>False</td>\n    </tr>\n    <tr>\n      <th>4275</th>\n      <td>0.002237</td>\n      <td>0.000000</td>\n      <td>0.000000</td>\n      <td>0.004264</td>\n      <td>0.000000</td>\n      <td>0.012195</td>\n      <td>0.016585</td>\n      <td>0.026303</td>\n      <td>0.001113</td>\n      <td>0.09</td>\n      <td>0.026764</td>\n      <td>False</td>\n    </tr>\n  </tbody>\n</table>\n<p>8631 rows × 12 columns</p>\n</div>"
     },
     "metadata": {},
     "execution_count": 50
    }
   ],
   "source": [
    "train"
   ]
  },
  {
   "cell_type": "code",
   "execution_count": 51,
   "metadata": {},
   "outputs": [
    {
     "output_type": "execute_result",
     "data": {
      "text/plain": [
       "      LOC_BLANK  LOC_CODE_AND_COMMENT  LOC_COMMENTS  CYCLOMATIC_COMPLEXITY  \\\n",
       "7933   0.004474              0.000000      0.017442               0.006397   \n",
       "5957   0.020134              0.000000      0.000000               0.000000   \n",
       "510    0.013423              0.009259      0.011628               0.004264   \n",
       "2682   0.002237              0.000000      0.017442               0.023454   \n",
       "1461   0.006711              0.000000      0.011628               0.008529   \n",
       "...         ...                   ...           ...                    ...   \n",
       "570    0.002237              0.000000      0.000000               0.008529   \n",
       "1621   0.013423              0.000000      0.000000               0.010661   \n",
       "1843   0.002237              0.000000      0.000000               0.004264   \n",
       "3535   0.006711              0.000000      0.000000               0.014925   \n",
       "1526   0.026846              0.000000      0.002907               0.034115   \n",
       "\n",
       "      DESIGN_COMPLEXITY  ESSENTIAL_COMPLEXITY  HALSTEAD_CONTENT  \\\n",
       "7933           0.000000              0.000000          0.020657   \n",
       "5957           0.000000              0.000000          0.084489   \n",
       "510            0.004988              0.000000          0.073186   \n",
       "2682           0.004988              0.012195          0.054109   \n",
       "1461           0.007481              0.000000          0.040349   \n",
       "...                 ...                   ...               ...   \n",
       "570            0.002494              0.018293          0.044070   \n",
       "1621           0.012469              0.030488          0.044719   \n",
       "1843           0.004988              0.000000          0.054056   \n",
       "3535           0.007481              0.018293          0.048299   \n",
       "1526           0.029925              0.073171          0.113360   \n",
       "\n",
       "      HALSTEAD_DIFFICULTY  HALSTEAD_ERROR_EST  HALSTEAD_LEVEL  \\\n",
       "7933             0.050215            0.002968            0.05   \n",
       "5957             0.036179            0.008905            0.07   \n",
       "510              0.027810            0.005937            0.09   \n",
       "2682             0.044189            0.007050            0.05   \n",
       "1461             0.014873            0.001855            0.16   \n",
       "...                   ...                 ...             ...   \n",
       "570              0.021521            0.002968            0.11   \n",
       "1621             0.067958            0.008905            0.04   \n",
       "1843             0.019321            0.002968            0.12   \n",
       "3535             0.060617            0.008534            0.04   \n",
       "1526             0.104615            0.034879            0.02   \n",
       "\n",
       "      NUM_UNIQUE_OPERATORS  label  \n",
       "7933              0.043796  False  \n",
       "5957              0.029197  False  \n",
       "510               0.031630   True  \n",
       "2682              0.060827  False  \n",
       "1461              0.019465   True  \n",
       "...                    ...    ...  \n",
       "570               0.034063   True  \n",
       "1621              0.043796   True  \n",
       "1843              0.024331  False  \n",
       "3535              0.053528  False  \n",
       "1526              0.060827   True  \n",
       "\n",
       "[960 rows x 12 columns]"
      ],
      "text/html": "<div>\n<style scoped>\n    .dataframe tbody tr th:only-of-type {\n        vertical-align: middle;\n    }\n\n    .dataframe tbody tr th {\n        vertical-align: top;\n    }\n\n    .dataframe thead th {\n        text-align: right;\n    }\n</style>\n<table border=\"1\" class=\"dataframe\">\n  <thead>\n    <tr style=\"text-align: right;\">\n      <th></th>\n      <th>LOC_BLANK</th>\n      <th>LOC_CODE_AND_COMMENT</th>\n      <th>LOC_COMMENTS</th>\n      <th>CYCLOMATIC_COMPLEXITY</th>\n      <th>DESIGN_COMPLEXITY</th>\n      <th>ESSENTIAL_COMPLEXITY</th>\n      <th>HALSTEAD_CONTENT</th>\n      <th>HALSTEAD_DIFFICULTY</th>\n      <th>HALSTEAD_ERROR_EST</th>\n      <th>HALSTEAD_LEVEL</th>\n      <th>NUM_UNIQUE_OPERATORS</th>\n      <th>label</th>\n    </tr>\n  </thead>\n  <tbody>\n    <tr>\n      <th>7933</th>\n      <td>0.004474</td>\n      <td>0.000000</td>\n      <td>0.017442</td>\n      <td>0.006397</td>\n      <td>0.000000</td>\n      <td>0.000000</td>\n      <td>0.020657</td>\n      <td>0.050215</td>\n      <td>0.002968</td>\n      <td>0.05</td>\n      <td>0.043796</td>\n      <td>False</td>\n    </tr>\n    <tr>\n      <th>5957</th>\n      <td>0.020134</td>\n      <td>0.000000</td>\n      <td>0.000000</td>\n      <td>0.000000</td>\n      <td>0.000000</td>\n      <td>0.000000</td>\n      <td>0.084489</td>\n      <td>0.036179</td>\n      <td>0.008905</td>\n      <td>0.07</td>\n      <td>0.029197</td>\n      <td>False</td>\n    </tr>\n    <tr>\n      <th>510</th>\n      <td>0.013423</td>\n      <td>0.009259</td>\n      <td>0.011628</td>\n      <td>0.004264</td>\n      <td>0.004988</td>\n      <td>0.000000</td>\n      <td>0.073186</td>\n      <td>0.027810</td>\n      <td>0.005937</td>\n      <td>0.09</td>\n      <td>0.031630</td>\n      <td>True</td>\n    </tr>\n    <tr>\n      <th>2682</th>\n      <td>0.002237</td>\n      <td>0.000000</td>\n      <td>0.017442</td>\n      <td>0.023454</td>\n      <td>0.004988</td>\n      <td>0.012195</td>\n      <td>0.054109</td>\n      <td>0.044189</td>\n      <td>0.007050</td>\n      <td>0.05</td>\n      <td>0.060827</td>\n      <td>False</td>\n    </tr>\n    <tr>\n      <th>1461</th>\n      <td>0.006711</td>\n      <td>0.000000</td>\n      <td>0.011628</td>\n      <td>0.008529</td>\n      <td>0.007481</td>\n      <td>0.000000</td>\n      <td>0.040349</td>\n      <td>0.014873</td>\n      <td>0.001855</td>\n      <td>0.16</td>\n      <td>0.019465</td>\n      <td>True</td>\n    </tr>\n    <tr>\n      <th>...</th>\n      <td>...</td>\n      <td>...</td>\n      <td>...</td>\n      <td>...</td>\n      <td>...</td>\n      <td>...</td>\n      <td>...</td>\n      <td>...</td>\n      <td>...</td>\n      <td>...</td>\n      <td>...</td>\n      <td>...</td>\n    </tr>\n    <tr>\n      <th>570</th>\n      <td>0.002237</td>\n      <td>0.000000</td>\n      <td>0.000000</td>\n      <td>0.008529</td>\n      <td>0.002494</td>\n      <td>0.018293</td>\n      <td>0.044070</td>\n      <td>0.021521</td>\n      <td>0.002968</td>\n      <td>0.11</td>\n      <td>0.034063</td>\n      <td>True</td>\n    </tr>\n    <tr>\n      <th>1621</th>\n      <td>0.013423</td>\n      <td>0.000000</td>\n      <td>0.000000</td>\n      <td>0.010661</td>\n      <td>0.012469</td>\n      <td>0.030488</td>\n      <td>0.044719</td>\n      <td>0.067958</td>\n      <td>0.008905</td>\n      <td>0.04</td>\n      <td>0.043796</td>\n      <td>True</td>\n    </tr>\n    <tr>\n      <th>1843</th>\n      <td>0.002237</td>\n      <td>0.000000</td>\n      <td>0.000000</td>\n      <td>0.004264</td>\n      <td>0.004988</td>\n      <td>0.000000</td>\n      <td>0.054056</td>\n      <td>0.019321</td>\n      <td>0.002968</td>\n      <td>0.12</td>\n      <td>0.024331</td>\n      <td>False</td>\n    </tr>\n    <tr>\n      <th>3535</th>\n      <td>0.006711</td>\n      <td>0.000000</td>\n      <td>0.000000</td>\n      <td>0.014925</td>\n      <td>0.007481</td>\n      <td>0.018293</td>\n      <td>0.048299</td>\n      <td>0.060617</td>\n      <td>0.008534</td>\n      <td>0.04</td>\n      <td>0.053528</td>\n      <td>False</td>\n    </tr>\n    <tr>\n      <th>1526</th>\n      <td>0.026846</td>\n      <td>0.000000</td>\n      <td>0.002907</td>\n      <td>0.034115</td>\n      <td>0.029925</td>\n      <td>0.073171</td>\n      <td>0.113360</td>\n      <td>0.104615</td>\n      <td>0.034879</td>\n      <td>0.02</td>\n      <td>0.060827</td>\n      <td>True</td>\n    </tr>\n  </tbody>\n</table>\n<p>960 rows × 12 columns</p>\n</div>"
     },
     "metadata": {},
     "execution_count": 51
    }
   ],
   "source": [
    "test"
   ]
  },
  {
   "cell_type": "code",
   "execution_count": 52,
   "metadata": {},
   "outputs": [
    {
     "output_type": "execute_result",
     "data": {
      "text/plain": [
       "2186    False\n",
       "2665    False\n",
       "6054    False\n",
       "5373    False\n",
       "4109    False\n",
       "        ...  \n",
       "5051    False\n",
       "4998    False\n",
       "2987    False\n",
       "4871    False\n",
       "4275    False\n",
       "Name: label, Length: 8631, dtype: bool"
      ]
     },
     "metadata": {},
     "execution_count": 52
    }
   ],
   "source": [
    "train.label"
   ]
  },
  {
   "cell_type": "code",
   "execution_count": null,
   "metadata": {},
   "outputs": [],
   "source": []
  },
  {
   "cell_type": "code",
   "execution_count": 57,
   "metadata": {},
   "outputs": [],
   "source": [
    "df1 = train[train.iloc[:,-1] == False]"
   ]
  },
  {
   "cell_type": "code",
   "execution_count": 58,
   "metadata": {},
   "outputs": [
    {
     "output_type": "execute_result",
     "data": {
      "text/plain": [
       "      LOC_BLANK  LOC_CODE_AND_COMMENT  LOC_COMMENTS  CYCLOMATIC_COMPLEXITY  \\\n",
       "2186   0.008949              0.000000      0.008721               0.010661   \n",
       "2665   0.008949              0.000000      0.000000               0.006397   \n",
       "6054   0.013423              0.000000      0.005814               0.021322   \n",
       "5373   0.031320              0.009259      0.020349               0.042644   \n",
       "4109   0.002237              0.000000      0.000000               0.008529   \n",
       "...         ...                   ...           ...                    ...   \n",
       "5051   0.006711              0.000000      0.000000               0.004264   \n",
       "4998   0.004474              0.009259      0.011628               0.021322   \n",
       "2987   0.002237              0.000000      0.000000               0.000000   \n",
       "4871   0.006711              0.000000      0.008721               0.004264   \n",
       "4275   0.002237              0.000000      0.000000               0.004264   \n",
       "\n",
       "      DESIGN_COMPLEXITY  ESSENTIAL_COMPLEXITY  HALSTEAD_CONTENT  \\\n",
       "2186           0.004988              0.000000          0.033803   \n",
       "2665           0.002494              0.012195          0.036453   \n",
       "6054           0.014963              0.000000          0.036453   \n",
       "5373           0.027431              0.036585          0.117554   \n",
       "4109           0.002494              0.024390          0.020464   \n",
       "...                 ...                   ...               ...   \n",
       "5051           0.002494              0.000000          0.022816   \n",
       "4998           0.007481              0.000000          0.068693   \n",
       "2987           0.000000              0.000000          0.038471   \n",
       "4871           0.004988              0.000000          0.100706   \n",
       "4275           0.000000              0.012195          0.016585   \n",
       "\n",
       "      HALSTEAD_DIFFICULTY  HALSTEAD_ERROR_EST  HALSTEAD_LEVEL  \\\n",
       "2186             0.040985            0.004082            0.06   \n",
       "2665             0.065471            0.007050            0.04   \n",
       "6054             0.094165            0.010019            0.03   \n",
       "5373             0.057461            0.020037            0.04   \n",
       "4109             0.045744            0.002597            0.05   \n",
       "...                   ...                 ...             ...   \n",
       "5051             0.031612            0.002226            0.08   \n",
       "4998             0.045433            0.009276            0.05   \n",
       "2987             0.013319            0.001484            0.18   \n",
       "4871             0.014586            0.004453            0.16   \n",
       "4275             0.026303            0.001113            0.09   \n",
       "\n",
       "      NUM_UNIQUE_OPERATORS  label  \n",
       "2186              0.031630  False  \n",
       "2665              0.046229  False  \n",
       "6054              0.051095  False  \n",
       "5373              0.051095  False  \n",
       "4109              0.041363  False  \n",
       "...                    ...    ...  \n",
       "5051              0.034063  False  \n",
       "4998              0.034063  False  \n",
       "2987              0.014599  False  \n",
       "4871              0.019465  False  \n",
       "4275              0.026764  False  \n",
       "\n",
       "[7061 rows x 12 columns]"
      ],
      "text/html": "<div>\n<style scoped>\n    .dataframe tbody tr th:only-of-type {\n        vertical-align: middle;\n    }\n\n    .dataframe tbody tr th {\n        vertical-align: top;\n    }\n\n    .dataframe thead th {\n        text-align: right;\n    }\n</style>\n<table border=\"1\" class=\"dataframe\">\n  <thead>\n    <tr style=\"text-align: right;\">\n      <th></th>\n      <th>LOC_BLANK</th>\n      <th>LOC_CODE_AND_COMMENT</th>\n      <th>LOC_COMMENTS</th>\n      <th>CYCLOMATIC_COMPLEXITY</th>\n      <th>DESIGN_COMPLEXITY</th>\n      <th>ESSENTIAL_COMPLEXITY</th>\n      <th>HALSTEAD_CONTENT</th>\n      <th>HALSTEAD_DIFFICULTY</th>\n      <th>HALSTEAD_ERROR_EST</th>\n      <th>HALSTEAD_LEVEL</th>\n      <th>NUM_UNIQUE_OPERATORS</th>\n      <th>label</th>\n    </tr>\n  </thead>\n  <tbody>\n    <tr>\n      <th>2186</th>\n      <td>0.008949</td>\n      <td>0.000000</td>\n      <td>0.008721</td>\n      <td>0.010661</td>\n      <td>0.004988</td>\n      <td>0.000000</td>\n      <td>0.033803</td>\n      <td>0.040985</td>\n      <td>0.004082</td>\n      <td>0.06</td>\n      <td>0.031630</td>\n      <td>False</td>\n    </tr>\n    <tr>\n      <th>2665</th>\n      <td>0.008949</td>\n      <td>0.000000</td>\n      <td>0.000000</td>\n      <td>0.006397</td>\n      <td>0.002494</td>\n      <td>0.012195</td>\n      <td>0.036453</td>\n      <td>0.065471</td>\n      <td>0.007050</td>\n      <td>0.04</td>\n      <td>0.046229</td>\n      <td>False</td>\n    </tr>\n    <tr>\n      <th>6054</th>\n      <td>0.013423</td>\n      <td>0.000000</td>\n      <td>0.005814</td>\n      <td>0.021322</td>\n      <td>0.014963</td>\n      <td>0.000000</td>\n      <td>0.036453</td>\n      <td>0.094165</td>\n      <td>0.010019</td>\n      <td>0.03</td>\n      <td>0.051095</td>\n      <td>False</td>\n    </tr>\n    <tr>\n      <th>5373</th>\n      <td>0.031320</td>\n      <td>0.009259</td>\n      <td>0.020349</td>\n      <td>0.042644</td>\n      <td>0.027431</td>\n      <td>0.036585</td>\n      <td>0.117554</td>\n      <td>0.057461</td>\n      <td>0.020037</td>\n      <td>0.04</td>\n      <td>0.051095</td>\n      <td>False</td>\n    </tr>\n    <tr>\n      <th>4109</th>\n      <td>0.002237</td>\n      <td>0.000000</td>\n      <td>0.000000</td>\n      <td>0.008529</td>\n      <td>0.002494</td>\n      <td>0.024390</td>\n      <td>0.020464</td>\n      <td>0.045744</td>\n      <td>0.002597</td>\n      <td>0.05</td>\n      <td>0.041363</td>\n      <td>False</td>\n    </tr>\n    <tr>\n      <th>...</th>\n      <td>...</td>\n      <td>...</td>\n      <td>...</td>\n      <td>...</td>\n      <td>...</td>\n      <td>...</td>\n      <td>...</td>\n      <td>...</td>\n      <td>...</td>\n      <td>...</td>\n      <td>...</td>\n      <td>...</td>\n    </tr>\n    <tr>\n      <th>5051</th>\n      <td>0.006711</td>\n      <td>0.000000</td>\n      <td>0.000000</td>\n      <td>0.004264</td>\n      <td>0.002494</td>\n      <td>0.000000</td>\n      <td>0.022816</td>\n      <td>0.031612</td>\n      <td>0.002226</td>\n      <td>0.08</td>\n      <td>0.034063</td>\n      <td>False</td>\n    </tr>\n    <tr>\n      <th>4998</th>\n      <td>0.004474</td>\n      <td>0.009259</td>\n      <td>0.011628</td>\n      <td>0.021322</td>\n      <td>0.007481</td>\n      <td>0.000000</td>\n      <td>0.068693</td>\n      <td>0.045433</td>\n      <td>0.009276</td>\n      <td>0.05</td>\n      <td>0.034063</td>\n      <td>False</td>\n    </tr>\n    <tr>\n      <th>2987</th>\n      <td>0.002237</td>\n      <td>0.000000</td>\n      <td>0.000000</td>\n      <td>0.000000</td>\n      <td>0.000000</td>\n      <td>0.000000</td>\n      <td>0.038471</td>\n      <td>0.013319</td>\n      <td>0.001484</td>\n      <td>0.18</td>\n      <td>0.014599</td>\n      <td>False</td>\n    </tr>\n    <tr>\n      <th>4871</th>\n      <td>0.006711</td>\n      <td>0.000000</td>\n      <td>0.008721</td>\n      <td>0.004264</td>\n      <td>0.004988</td>\n      <td>0.000000</td>\n      <td>0.100706</td>\n      <td>0.014586</td>\n      <td>0.004453</td>\n      <td>0.16</td>\n      <td>0.019465</td>\n      <td>False</td>\n    </tr>\n    <tr>\n      <th>4275</th>\n      <td>0.002237</td>\n      <td>0.000000</td>\n      <td>0.000000</td>\n      <td>0.004264</td>\n      <td>0.000000</td>\n      <td>0.012195</td>\n      <td>0.016585</td>\n      <td>0.026303</td>\n      <td>0.001113</td>\n      <td>0.09</td>\n      <td>0.026764</td>\n      <td>False</td>\n    </tr>\n  </tbody>\n</table>\n<p>7061 rows × 12 columns</p>\n</div>"
     },
     "metadata": {},
     "execution_count": 58
    }
   ],
   "source": [
    "df1"
   ]
  },
  {
   "cell_type": "code",
   "execution_count": 65,
   "metadata": {},
   "outputs": [],
   "source": [
    "def sampling(df):\n",
    "    # create 2 sets of majority and minority samples\n",
    "    a = df[df.iloc[:,-1] == False]\n",
    "    b = df[df.iloc[:,-1] == True]\n",
    "    majority = None\n",
    "    minority = None\n",
    "    if a.shape[0] > b.shape[0]:\n",
    "        print(\"here\")\n",
    "        majority = a\n",
    "        minority = b\n",
    "    else:\n",
    "        print(\"there\")\n",
    "        minority = b\n",
    "        majority = a\n",
    "    bags = ceil(majority.shape[0],minority.shape[0]) + 2\n",
    "    print(f\"majority cnt :{majority.shape[0]} , minority cnt :{minority.shape[0]} and number of bags: {bags}\")\n",
    "    # print(majority.head())\n",
    "    # print(minority.head())\n",
    "\n",
    "    "
   ]
  },
  {
   "cell_type": "code",
   "execution_count": 69,
   "metadata": {},
   "outputs": [
    {
     "output_type": "stream",
     "name": "stdout",
     "text": [
      "here\n      LOC_BLANK  LOC_CODE_AND_COMMENT  LOC_COMMENTS  CYCLOMATIC_COMPLEXITY  \\\n2186   0.008949              0.000000      0.008721               0.010661   \n2665   0.008949              0.000000      0.000000               0.006397   \n6054   0.013423              0.000000      0.005814               0.021322   \n5373   0.031320              0.009259      0.020349               0.042644   \n4109   0.002237              0.000000      0.000000               0.008529   \n\n      DESIGN_COMPLEXITY  ESSENTIAL_COMPLEXITY  HALSTEAD_CONTENT  \\\n2186           0.004988              0.000000          0.033803   \n2665           0.002494              0.012195          0.036453   \n6054           0.014963              0.000000          0.036453   \n5373           0.027431              0.036585          0.117554   \n4109           0.002494              0.024390          0.020464   \n\n      HALSTEAD_DIFFICULTY  HALSTEAD_ERROR_EST  HALSTEAD_LEVEL  \\\n2186             0.040985            0.004082            0.06   \n2665             0.065471            0.007050            0.04   \n6054             0.094165            0.010019            0.03   \n5373             0.057461            0.020037            0.04   \n4109             0.045744            0.002597            0.05   \n\n      NUM_UNIQUE_OPERATORS  label  \n2186              0.031630  False  \n2665              0.046229  False  \n6054              0.051095  False  \n5373              0.051095  False  \n4109              0.041363  False  \n      LOC_BLANK  LOC_CODE_AND_COMMENT  LOC_COMMENTS  CYCLOMATIC_COMPLEXITY  \\\n805    0.000000              0.000000      0.000000               0.000000   \n1456   0.011186              0.111111      0.014535               0.027719   \n1268   0.015660              0.083333      0.000000               0.027719   \n473    0.029083              0.111111      0.066860               0.029851   \n1285   0.006711              0.000000      0.000000               0.002132   \n\n      DESIGN_COMPLEXITY  ESSENTIAL_COMPLEXITY  HALSTEAD_CONTENT  \\\n805            0.000000              0.000000          0.016199   \n1456           0.002494              0.000000          0.077925   \n1268           0.022444              0.036585          0.075415   \n473            0.019950              0.048780          0.108147   \n1285           0.000000              0.000000          0.037558   \n\n      HALSTEAD_DIFFICULTY  HALSTEAD_ERROR_EST  HALSTEAD_LEVEL  \\\n805              0.012554            0.000742            0.19   \n1456             0.038068            0.008905            0.06   \n1268             0.072979            0.016327            0.03   \n473              0.103180            0.033024            0.02   \n1285             0.017934            0.001855            0.13   \n\n      NUM_UNIQUE_OPERATORS  label  \n805               0.017032   True  \n1456              0.051095   True  \n1268              0.046229   True  \n473               0.065693   True  \n1285              0.029197   True  \n"
     ]
    }
   ],
   "source": [
    "sampling(train)"
   ]
  },
  {
   "cell_type": "code",
   "execution_count": null,
   "metadata": {},
   "outputs": [],
   "source": []
  }
 ]
}